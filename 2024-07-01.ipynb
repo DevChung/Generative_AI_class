{
 "cells": [
  {
   "cell_type": "markdown",
   "id": "a238cc4e-6407-4764-bbff-2b522cf5fe2a",
   "metadata": {},
   "source": [
    "### 가상의 개인 정보 생성하기\n",
    "\n",
    "- name, age, phone, email, gender "
   ]
  },
  {
   "cell_type": "code",
   "execution_count": 68,
   "id": "a412584e-4285-4ad1-a555-c3d744ae4fee",
   "metadata": {},
   "outputs": [],
   "source": [
    "import random\n",
    "import string\n",
    "import time"
   ]
  },
  {
   "cell_type": "code",
   "execution_count": 12,
   "id": "8ee50810-dde6-47d7-a69e-2a5b516a3a24",
   "metadata": {},
   "outputs": [],
   "source": [
    "def random_name():\n",
    "    #랜덤 이름 만들기\n",
    "    f_name = '김이박정최고강조윤장임'\n",
    "    m_name = '민서예지도하주윤채현지'\n",
    "    l_name = '준유우원호후서연이은진'\n",
    "    \n",
    "    name_sample = random.choice(f_name) + random.choice(m_name) + random.choice(l_name)\n",
    "    return name_sample"
   ]
  },
  {
   "cell_type": "code",
   "execution_count": 14,
   "id": "fd74b61d-9b13-43b6-a6b6-1247449cc4f3",
   "metadata": {},
   "outputs": [
    {
     "data": {
      "text/plain": [
       "'임지후'"
      ]
     },
     "execution_count": 14,
     "metadata": {},
     "output_type": "execute_result"
    }
   ],
   "source": [
    "random_name()"
   ]
  },
  {
   "cell_type": "markdown",
   "id": "92a27f26-251d-429a-8d0d-27b38a5a1d36",
   "metadata": {},
   "source": [
    "- email : *@kgitbank.com\n",
    "- phone : 010-????-????"
   ]
  },
  {
   "cell_type": "code",
   "execution_count": 45,
   "id": "43f93136-20ff-4d2c-b770-696a7d4f01dd",
   "metadata": {},
   "outputs": [],
   "source": [
    "def random_email() :\n",
    "    # 랜덤 이메일 만들기\n",
    "    email_sample = \"\"\n",
    "    for i in range(random.randint(5,10)) :\n",
    "        email_sample += random.choice(string.ascii_letters+string.digits)\n",
    "    \n",
    "    return email_sample + \"@kgitbank.com\""
   ]
  },
  {
   "cell_type": "code",
   "execution_count": 64,
   "id": "641951e7-2901-45fc-b199-ba1e209b3539",
   "metadata": {},
   "outputs": [],
   "source": [
    "def random_phone() :\n",
    "    # 랜덤 전화번호\n",
    "    num = '0123456789'\n",
    "    phone_sample = \"010-\"\n",
    "    m_number = ''\n",
    "    l_number = ''\n",
    "    for j in range(4):\n",
    "        m_number += random.choice(num)\n",
    "        l_number += random.choice(num)\n",
    "\n",
    "    phone_sample = phone_sample + m_number + '-' + l_number\n",
    "    return phone_sample\n",
    "\n",
    "def random_phone2() :\n",
    "    m_num = str(time.time())[-4:]\n",
    "    e_num = str(time.time())[-7:-3]\n",
    "    if '.' in e_num:\n",
    "        e_num = e_num.replace('.', '0')\n",
    "\n",
    "    return '010-' + m_num + '-' + e_num"
   ]
  },
  {
   "cell_type": "code",
   "execution_count": 62,
   "id": "cd4d6409-1600-46d0-9761-7849bd7553e1",
   "metadata": {},
   "outputs": [
    {
     "data": {
      "text/plain": [
       "'010-0947-5732'"
      ]
     },
     "execution_count": 62,
     "metadata": {},
     "output_type": "execute_result"
    }
   ],
   "source": [
    "random_phone()"
   ]
  },
  {
   "cell_type": "code",
   "execution_count": 58,
   "id": "3df735f3-38f8-4963-a69b-790e38a1c350",
   "metadata": {},
   "outputs": [
    {
     "data": {
      "text/plain": [
       "'1j2vb@kgitbank.com'"
      ]
     },
     "execution_count": 58,
     "metadata": {},
     "output_type": "execute_result"
    }
   ],
   "source": [
    "random_email()"
   ]
  },
  {
   "cell_type": "code",
   "execution_count": 72,
   "id": "f743350f-4563-4057-9b65-110450d7ec26",
   "metadata": {},
   "outputs": [
    {
     "data": {
      "text/plain": [
       "1719797243.7470922"
      ]
     },
     "execution_count": 72,
     "metadata": {},
     "output_type": "execute_result"
    }
   ],
   "source": [
    "time.time()"
   ]
  },
  {
   "cell_type": "code",
   "execution_count": 116,
   "id": "d6f424dd-f21f-4c04-a2ed-1121f62eb230",
   "metadata": {},
   "outputs": [],
   "source": [
    "import os\n",
    "import pandas as pd"
   ]
  },
  {
   "cell_type": "code",
   "execution_count": 76,
   "id": "3821f853-fcb5-41da-bd4c-d90ff5f8d9af",
   "metadata": {},
   "outputs": [],
   "source": [
    "if not os.path.exists('virtual_personal_info'):\n",
    "    os.mkdir('virtual_personal_info')\n",
    "\n",
    "name_list=[]\n",
    "\n",
    "for i in range(1000):\n",
    "    while True:\n",
    "        name = random_name()\n",
    "        if name_list.count(name) == 0:\n",
    "            name_list.append(name)\n",
    "        else:\n",
    "            break\n",
    "    \n",
    "    \n",
    "    \n",
    "    path = 'virtual_personal_info/'\n",
    "    filename = path + '{:0>4}'.format(str(i+1)) + '_' + name + '.txt'\n",
    "\n",
    "    with open(filename, 'w') as f:\n",
    "        f.write('name : ' + name + '\\n')\n",
    "        f.write('age : ' + str(random.randint(20,70)) + '\\n')\n",
    "        f.write('phone : ' + random_phone() + '\\n')\n",
    "        f.write('email : ' + random_email() + '\\n')\n",
    "        f.write('gender : ' + random.choice(['male', 'female']) + '\\n')\n",
    "        f.close()\n",
    "\n"
   ]
  },
  {
   "cell_type": "code",
   "execution_count": 132,
   "id": "764acc26-0505-417a-82b1-d4df8421fc7f",
   "metadata": {},
   "outputs": [],
   "source": [
    "import glob\n",
    "\n",
    "name_list = []\n",
    "age_list=[]\n",
    "phone_list=[]\n",
    "email_list=[]\n",
    "gender_list=[]\n",
    "result={}\n",
    "\n",
    "files = glob.glob('virtual_personal_info/*.txt')\n",
    "for fpath in files:\n",
    "    with open(fpath, 'r') as f:\n",
    "        name_list.append(f.readline().split(' : ')[1].replace('\\n',''))\n",
    "        age_list.append(f.readline().split(' : ')[1].replace('\\n',''))\n",
    "        phone_list.append(f.readline().split(' : ')[1].replace('\\n',''))\n",
    "        email_list.append(f.readline().split(' : ')[1].replace('\\n',''))\n",
    "        gender_list.append(f.readline().split(' : ')[1].replace('\\n',''))\n",
    "        f.close()\n",
    "        \n",
    "result['name'] = name_list\n",
    "result['age'] = age_list\n",
    "result['phone'] = phone_list\n",
    "result['email'] = email_list\n",
    "result['gender'] = gender_list"
   ]
  },
  {
   "cell_type": "code",
   "execution_count": 134,
   "id": "136fd67a-4eee-4053-85da-e5293bee0cb1",
   "metadata": {},
   "outputs": [],
   "source": [
    "df = pd.DataFrame(result)\n",
    "df.to_csv('virtual_member_data.csv', encoding='utf-8-sig', index=False)"
   ]
  },
  {
   "cell_type": "code",
   "execution_count": 136,
   "id": "9a5be079-e04a-4f21-83d6-6a527116c7c3",
   "metadata": {},
   "outputs": [
    {
     "data": {
      "text/html": [
       "<div>\n",
       "<style scoped>\n",
       "    .dataframe tbody tr th:only-of-type {\n",
       "        vertical-align: middle;\n",
       "    }\n",
       "\n",
       "    .dataframe tbody tr th {\n",
       "        vertical-align: top;\n",
       "    }\n",
       "\n",
       "    .dataframe thead th {\n",
       "        text-align: right;\n",
       "    }\n",
       "</style>\n",
       "<table border=\"1\" class=\"dataframe\">\n",
       "  <thead>\n",
       "    <tr style=\"text-align: right;\">\n",
       "      <th></th>\n",
       "      <th>name</th>\n",
       "      <th>age</th>\n",
       "      <th>phone</th>\n",
       "      <th>email</th>\n",
       "      <th>gender</th>\n",
       "    </tr>\n",
       "  </thead>\n",
       "  <tbody>\n",
       "    <tr>\n",
       "      <th>0</th>\n",
       "      <td>이지준</td>\n",
       "      <td>60</td>\n",
       "      <td>010-2512-7698</td>\n",
       "      <td>Cpt6KM@kgitbank.com</td>\n",
       "      <td>female</td>\n",
       "    </tr>\n",
       "    <tr>\n",
       "      <th>1</th>\n",
       "      <td>김도유</td>\n",
       "      <td>65</td>\n",
       "      <td>010-1401-7128</td>\n",
       "      <td>BfC9k@kgitbank.com</td>\n",
       "      <td>female</td>\n",
       "    </tr>\n",
       "    <tr>\n",
       "      <th>2</th>\n",
       "      <td>장민우</td>\n",
       "      <td>64</td>\n",
       "      <td>010-8980-0695</td>\n",
       "      <td>foCWlipF@kgitbank.com</td>\n",
       "      <td>male</td>\n",
       "    </tr>\n",
       "    <tr>\n",
       "      <th>3</th>\n",
       "      <td>이현은</td>\n",
       "      <td>65</td>\n",
       "      <td>010-3015-3429</td>\n",
       "      <td>7Pa9jHoQ@kgitbank.com</td>\n",
       "      <td>male</td>\n",
       "    </tr>\n",
       "    <tr>\n",
       "      <th>4</th>\n",
       "      <td>조주후</td>\n",
       "      <td>37</td>\n",
       "      <td>010-1553-5503</td>\n",
       "      <td>rrL9Tq5G@kgitbank.com</td>\n",
       "      <td>female</td>\n",
       "    </tr>\n",
       "    <tr>\n",
       "      <th>...</th>\n",
       "      <td>...</td>\n",
       "      <td>...</td>\n",
       "      <td>...</td>\n",
       "      <td>...</td>\n",
       "      <td>...</td>\n",
       "    </tr>\n",
       "    <tr>\n",
       "      <th>995</th>\n",
       "      <td>김하연</td>\n",
       "      <td>53</td>\n",
       "      <td>010-2414-8171</td>\n",
       "      <td>56lxdy5G@kgitbank.com</td>\n",
       "      <td>female</td>\n",
       "    </tr>\n",
       "    <tr>\n",
       "      <th>996</th>\n",
       "      <td>박도원</td>\n",
       "      <td>23</td>\n",
       "      <td>010-9511-0306</td>\n",
       "      <td>a6oGSm@kgitbank.com</td>\n",
       "      <td>male</td>\n",
       "    </tr>\n",
       "    <tr>\n",
       "      <th>997</th>\n",
       "      <td>조주유</td>\n",
       "      <td>64</td>\n",
       "      <td>010-1707-6072</td>\n",
       "      <td>zvZxdl068W@kgitbank.com</td>\n",
       "      <td>male</td>\n",
       "    </tr>\n",
       "    <tr>\n",
       "      <th>998</th>\n",
       "      <td>최도유</td>\n",
       "      <td>39</td>\n",
       "      <td>010-2610-6958</td>\n",
       "      <td>wFU7gJia@kgitbank.com</td>\n",
       "      <td>male</td>\n",
       "    </tr>\n",
       "    <tr>\n",
       "      <th>999</th>\n",
       "      <td>이현이</td>\n",
       "      <td>41</td>\n",
       "      <td>010-9389-3388</td>\n",
       "      <td>UHczTvq1j@kgitbank.com</td>\n",
       "      <td>female</td>\n",
       "    </tr>\n",
       "  </tbody>\n",
       "</table>\n",
       "<p>1000 rows × 5 columns</p>\n",
       "</div>"
      ],
      "text/plain": [
       "    name age          phone                    email  gender\n",
       "0    이지준  60  010-2512-7698      Cpt6KM@kgitbank.com  female\n",
       "1    김도유  65  010-1401-7128       BfC9k@kgitbank.com  female\n",
       "2    장민우  64  010-8980-0695    foCWlipF@kgitbank.com    male\n",
       "3    이현은  65  010-3015-3429    7Pa9jHoQ@kgitbank.com    male\n",
       "4    조주후  37  010-1553-5503    rrL9Tq5G@kgitbank.com  female\n",
       "..   ...  ..            ...                      ...     ...\n",
       "995  김하연  53  010-2414-8171    56lxdy5G@kgitbank.com  female\n",
       "996  박도원  23  010-9511-0306      a6oGSm@kgitbank.com    male\n",
       "997  조주유  64  010-1707-6072  zvZxdl068W@kgitbank.com    male\n",
       "998  최도유  39  010-2610-6958    wFU7gJia@kgitbank.com    male\n",
       "999  이현이  41  010-9389-3388   UHczTvq1j@kgitbank.com  female\n",
       "\n",
       "[1000 rows x 5 columns]"
      ]
     },
     "execution_count": 136,
     "metadata": {},
     "output_type": "execute_result"
    }
   ],
   "source": [
    "df"
   ]
  },
  {
   "cell_type": "code",
   "execution_count": 138,
   "id": "055a7789-0992-4d57-aba6-900dcaf2616b",
   "metadata": {},
   "outputs": [],
   "source": [
    "import os"
   ]
  },
  {
   "cell_type": "code",
   "execution_count": 142,
   "id": "5894f7c3-8fc3-4257-90d4-c999ca64c1c1",
   "metadata": {},
   "outputs": [],
   "source": [
    "os.startfile(r'C:\\Users\\405-11\\test')"
   ]
  },
  {
   "cell_type": "code",
   "execution_count": 144,
   "id": "260b0ac7-8fea-468e-8206-94b89097c1f7",
   "metadata": {},
   "outputs": [],
   "source": [
    "from subprocess import Popen"
   ]
  },
  {
   "cell_type": "code",
   "execution_count": 152,
   "id": "19647cf6-0da2-4a17-983e-b07900864f01",
   "metadata": {},
   "outputs": [
    {
     "data": {
      "text/plain": [
       "<Popen: returncode: None args: 'mspaint'>"
      ]
     },
     "execution_count": 152,
     "metadata": {},
     "output_type": "execute_result"
    }
   ],
   "source": [
    "Popen('mspaint')"
   ]
  },
  {
   "cell_type": "code",
   "execution_count": 156,
   "id": "f61bb956-93f7-476e-ba62-93154c8e1c2f",
   "metadata": {},
   "outputs": [
    {
     "name": "stdout",
     "output_type": "stream",
     "text": [
      " C 드라이브의 볼륨에는 이름이 없습니다.\n",
      " 볼륨 일련 번호: 8842-1A4B\n",
      "\n",
      " C:\\Users\\405-11\\test 디렉터리\n",
      "\n",
      "2024-07-01  오후 02:37    <DIR>          .\n",
      "2024-07-01  오후 02:37    <DIR>          ..\n",
      "2024-07-01  오후 02:24    <DIR>          .ipynb_checkpoints\n",
      "2024-06-25  오전 10:24            49,038 2024-06-24.ipynb\n",
      "2024-06-25  오후 03:31           925,193 2024-06-25.ipynb\n",
      "2024-06-26  오후 03:30            17,259 2024-06-26.ipynb\n",
      "2024-06-27  오후 01:45           371,891 2024-06-27.ipynb\n",
      "2024-06-28  오후 04:15            31,012 2024-06-28.ipynb\n",
      "2024-07-01  오후 02:37            13,633 2024-07-01.ipynb\n",
      "2024-06-28  오전 10:33                19 aa.txt\n",
      "2024-06-28  오후 02:50    <DIR>          backup_20240628\n",
      "2024-06-28  오전 08:43            38,432 movie_review.csv\n",
      "2024-06-28  오후 03:44    <DIR>          target\n",
      "2024-06-28  오전 11:15    <DIR>          test\n",
      "2024-07-01  오전 11:36            55,493 virtual_member_data.csv\n",
      "2024-07-01  오전 10:38    <DIR>          virtual_personal_info\n",
      "2024-07-01  오후 02:26           186,752 word_cloud.ipynb\n",
      "              10개 파일           1,688,722 바이트\n",
      "               7개 디렉터리  32,485,818,368 바이트 남음\n",
      "\n"
     ]
    }
   ],
   "source": [
    "from subprocess import Popen, PIPE\n",
    "pipe = Popen('dir', shell=True, stdout=PIPE)\n",
    "print(pipe.stdout.read().decode('cp949'))"
   ]
  },
  {
   "cell_type": "markdown",
   "id": "bafd2938-c0c8-451c-bcf4-3e7a85ad613b",
   "metadata": {},
   "source": [
    "### Blocking mode"
   ]
  },
  {
   "cell_type": "code",
   "execution_count": 7,
   "id": "4885e709-5af8-43a9-8864-d8a202cfc868",
   "metadata": {},
   "outputs": [],
   "source": [
    "import sched\n",
    "\n",
    "def Function():\n",
    "    print(datetime.fromtimestamp(time.time()).strftime('%Y-%m-%d %H:%M:%S'))"
   ]
  },
  {
   "cell_type": "code",
   "execution_count": 9,
   "id": "15ef3476-fa64-4c3f-8bd2-acf826cb05cd",
   "metadata": {},
   "outputs": [
    {
     "name": "stdout",
     "output_type": "stream",
     "text": [
      "2024-07-01 15:50:06\n"
     ]
    }
   ],
   "source": [
    "Function()"
   ]
  },
  {
   "cell_type": "code",
   "execution_count": 173,
   "id": "adeef765-b56f-4652-b669-455cfe6c8243",
   "metadata": {},
   "outputs": [
    {
     "name": "stdout",
     "output_type": "stream",
     "text": [
      "hello\n"
     ]
    }
   ],
   "source": [
    "s = sched.scheduler()\n",
    "s.enter(5,1, Function, argument=(\"hello\",))\n",
    "s.run()"
   ]
  },
  {
   "cell_type": "markdown",
   "id": "8ec0826d-23fc-42f4-91ec-862149e87ac7",
   "metadata": {},
   "source": [
    "### Non-Blocking Mode"
   ]
  },
  {
   "cell_type": "code",
   "execution_count": 5,
   "id": "05fdf831-70a0-409d-9595-2db1c032fd89",
   "metadata": {},
   "outputs": [],
   "source": [
    "import threading"
   ]
  },
  {
   "cell_type": "code",
   "execution_count": 182,
   "id": "8f6557e4-cd09-4de4-a7fa-deacc2ff9788",
   "metadata": {},
   "outputs": [
    {
     "name": "stdout",
     "output_type": "stream",
     "text": [
      "0\n",
      "1\n",
      "2\n",
      "3\n",
      "4\n",
      "hello\n",
      "5\n",
      "6\n",
      "7\n",
      "8\n",
      "9\n"
     ]
    }
   ],
   "source": [
    "timer = threading.Timer(5, Function, ('hello',))\n",
    "timer.start()\n",
    "\n",
    "for i in range(10):\n",
    "    time.sleep(1)\n",
    "    print(i)"
   ]
  },
  {
   "cell_type": "markdown",
   "id": "bcf8dbce-626b-4b1b-a9b6-22a0c41dbae8",
   "metadata": {},
   "source": [
    "# Quiz 지정된 시간에 함수가 실행되도록 하기\n",
    "-  24년 월 1일 15시 15분에 function이 실행되도록 함\n"
   ]
  },
  {
   "cell_type": "code",
   "execution_count": 5,
   "id": "48e27d56-bcd0-4fbd-8909-7ae80fcdc336",
   "metadata": {},
   "outputs": [],
   "source": [
    "from datetime import datetime\n",
    "import time"
   ]
  },
  {
   "cell_type": "code",
   "execution_count": 42,
   "id": "09dcb4f0-81c8-4ed1-b96f-04a3a48ee050",
   "metadata": {},
   "outputs": [],
   "source": [
    "ts = datetime(year=2024, month=7, day=1, hour=15, minute=20, second=0).timestamp()"
   ]
  },
  {
   "cell_type": "code",
   "execution_count": 189,
   "id": "08d18b95-3ca5-4de6-85ca-77b803a9e58e",
   "metadata": {},
   "outputs": [
    {
     "data": {
      "text/plain": [
       "1719814500.0"
      ]
     },
     "execution_count": 189,
     "metadata": {},
     "output_type": "execute_result"
    }
   ],
   "source": [
    "ts"
   ]
  },
  {
   "cell_type": "code",
   "execution_count": 193,
   "id": "e7175fd2-64f9-4e88-8432-fc12082834cf",
   "metadata": {},
   "outputs": [
    {
     "data": {
      "text/plain": [
       "1719814204.9668148"
      ]
     },
     "execution_count": 193,
     "metadata": {},
     "output_type": "execute_result"
    }
   ],
   "source": [
    "time.time()"
   ]
  },
  {
   "cell_type": "code",
   "execution_count": 72,
   "id": "04574c5c-16cc-42d1-a3fc-3ef146b1fbcf",
   "metadata": {},
   "outputs": [
    {
     "name": "stdout",
     "output_type": "stream",
     "text": [
      "44\n",
      "43\n",
      "42\n",
      "41\n",
      "40\n",
      "39\n",
      "38\n",
      "37\n",
      "36\n",
      "35\n",
      "34\n",
      "33\n",
      "32\n",
      "31\n",
      "30\n",
      "29\n",
      "28\n",
      "27\n",
      "26\n",
      "25\n",
      "24\n",
      "23\n",
      "22\n",
      "21\n",
      "20\n",
      "19\n",
      "18\n",
      "17\n",
      "16\n",
      "15\n",
      "14\n",
      "13\n",
      "12\n",
      "11\n",
      "10\n",
      "9\n",
      "8\n",
      "7\n",
      "6\n",
      "5\n",
      "4\n",
      "3\n",
      "2\n",
      "1\n",
      "hello\n",
      "0\n"
     ]
    }
   ],
   "source": [
    "ts = datetime(year=2024, month=7, day=1, hour=15, minute=30, second=0).timestamp()\n",
    "time_diff = ts - time.time()\n",
    "\n",
    "timer = threading.Timer(int(time_diff), Function, ('hello',))\n",
    "timer.start()\n",
    "\n",
    "for i in range(int(time_diff)):\n",
    "    time.sleep(1)\n",
    "    print(int(ts - time.time()))"
   ]
  },
  {
   "cell_type": "code",
   "execution_count": 13,
   "id": "19c73d16-3456-4be2-bb4c-7b19656b6154",
   "metadata": {},
   "outputs": [
    {
     "name": "stdout",
     "output_type": "stream",
     "text": [
      "2024-07-01 15:13:20\n"
     ]
    }
   ],
   "source": [
    " print(datetime.fromtimestamp(time.time()).strftime('%Y-%m-%d %H:%M:%S'))"
   ]
  },
  {
   "cell_type": "code",
   "execution_count": 61,
   "id": "ac1f4a8d-1801-442f-adf9-95659195213f",
   "metadata": {},
   "outputs": [
    {
     "name": "stdout",
     "output_type": "stream",
     "text": [
      "Requirement already satisfied: schedule in c:\\users\\405-11\\anaconda3\\lib\\site-packages (1.2.2)\n"
     ]
    }
   ],
   "source": [
    "!pip install schedule"
   ]
  },
  {
   "cell_type": "code",
   "execution_count": 1,
   "id": "833a956f-f7a0-4518-a539-9ace6fa73ffc",
   "metadata": {},
   "outputs": [],
   "source": [
    "import schedule\n",
    "import time"
   ]
  },
  {
   "cell_type": "code",
   "execution_count": 9,
   "id": "93794c1a-532f-4112-a313-a238ba754996",
   "metadata": {},
   "outputs": [
    {
     "name": "stdout",
     "output_type": "stream",
     "text": [
      "test\n",
      "test\n",
      "test\n",
      "test\n",
      "test\n",
      "test\n",
      "test\n",
      "test\n",
      "test\n",
      "test\n",
      "test\n",
      "test\n",
      "test\n",
      "test\n",
      "test\n",
      "test\n",
      "test\n",
      "test\n",
      "test\n",
      "test\n",
      "test\n",
      "test\n",
      "test\n",
      "test\n",
      "test\n",
      "test\n",
      "test\n",
      "test\n",
      "test\n"
     ]
    },
    {
     "ename": "KeyboardInterrupt",
     "evalue": "",
     "output_type": "error",
     "traceback": [
      "\u001b[1;31m---------------------------------------------------------------------------\u001b[0m",
      "\u001b[1;31mKeyboardInterrupt\u001b[0m                         Traceback (most recent call last)",
      "Cell \u001b[1;32mIn[9], line 5\u001b[0m\n\u001b[0;32m      3\u001b[0m \u001b[38;5;28;01mwhile\u001b[39;00m \u001b[38;5;28;01mTrue\u001b[39;00m:\n\u001b[0;32m      4\u001b[0m     schedule\u001b[38;5;241m.\u001b[39mrun_pending()\n\u001b[1;32m----> 5\u001b[0m     time\u001b[38;5;241m.\u001b[39msleep(\u001b[38;5;241m1\u001b[39m)\n",
      "\u001b[1;31mKeyboardInterrupt\u001b[0m: "
     ]
    }
   ],
   "source": [
    "schedule.every(1).hour.do(function) # 1시간마다 function을 실행한다.\n",
    "\n",
    "schedule.every(1).day.at('10:00').do(function) # 매일 10시마다 function을 실행한다.\n",
    "\n",
    "schedule.every(1).minute.at(':20').do(function) # 20분마다 function을 실행한다.\n",
    "\n",
    "schedule.every(1).monday.do(function) # 매주 월요일마다\n",
    "\n",
    "schedule.every(1).hour.do(function) # 1시간마다 function을 실행한다.\n",
    "schedule.every(1).to(10).second.do(Function)\n",
    "\n",
    "while True:\n",
    "    schedule.run_pending()\n",
    "    time.sleep(1)"
   ]
  },
  {
   "cell_type": "markdown",
   "id": "09d53a6a-75e2-4f8e-997a-99bbd0deedef",
   "metadata": {},
   "source": [
    "#### 특정 시간에 종료 시키기\n"
   ]
  },
  {
   "cell_type": "code",
   "execution_count": 3,
   "id": "e556b713-994f-4d79-91d2-1b1b961445e4",
   "metadata": {},
   "outputs": [],
   "source": [
    "import sys"
   ]
  },
  {
   "cell_type": "code",
   "execution_count": 11,
   "id": "1b7c981b-05ea-4c33-97e8-8456081f9cf9",
   "metadata": {},
   "outputs": [],
   "source": [
    "def Exit() :\n",
    "    print('EXIT')\n",
    "    sys.exit()"
   ]
  },
  {
   "cell_type": "code",
   "execution_count": 13,
   "id": "c9828ee8-8f6e-41a9-9951-bdf8db05f0f3",
   "metadata": {},
   "outputs": [
    {
     "name": "stdout",
     "output_type": "stream",
     "text": [
      "2024-07-01 15:50:11\n",
      "2024-07-01 15:50:12\n",
      "2024-07-01 15:50:13\n",
      "2024-07-01 15:50:14\n",
      "2024-07-01 15:50:15\n",
      "2024-07-01 15:50:16\n",
      "2024-07-01 15:50:17\n",
      "2024-07-01 15:50:18\n",
      "2024-07-01 15:50:19\n",
      "2024-07-01 15:50:20\n",
      "2024-07-01 15:50:21\n",
      "2024-07-01 15:50:22\n",
      "2024-07-01 15:50:23\n",
      "2024-07-01 15:50:24\n",
      "2024-07-01 15:50:25\n",
      "2024-07-01 15:50:26\n",
      "2024-07-01 15:50:27\n",
      "2024-07-01 15:50:28\n",
      "2024-07-01 15:50:29\n",
      "2024-07-01 15:50:30\n",
      "2024-07-01 15:50:31\n",
      "2024-07-01 15:50:32\n",
      "2024-07-01 15:50:33\n",
      "2024-07-01 15:50:34\n",
      "2024-07-01 15:50:35\n",
      "2024-07-01 15:50:36\n",
      "2024-07-01 15:50:37\n",
      "2024-07-01 15:50:38\n",
      "2024-07-01 15:50:39\n",
      "2024-07-01 15:50:40\n"
     ]
    },
    {
     "ename": "KeyboardInterrupt",
     "evalue": "",
     "output_type": "error",
     "traceback": [
      "\u001b[1;31m---------------------------------------------------------------------------\u001b[0m",
      "\u001b[1;31mKeyboardInterrupt\u001b[0m                         Traceback (most recent call last)",
      "Cell \u001b[1;32mIn[13], line 6\u001b[0m\n\u001b[0;32m      4\u001b[0m \u001b[38;5;28;01mwhile\u001b[39;00m \u001b[38;5;28;01mTrue\u001b[39;00m:\n\u001b[0;32m      5\u001b[0m     schedule\u001b[38;5;241m.\u001b[39mrun_pending()\n\u001b[1;32m----> 6\u001b[0m     time\u001b[38;5;241m.\u001b[39msleep(\u001b[38;5;241m1\u001b[39m)\n",
      "\u001b[1;31mKeyboardInterrupt\u001b[0m: "
     ]
    }
   ],
   "source": [
    "schedule.every(1).second.do(Function)\n",
    "schedule.every().day.at('15:50').do(Exit)\n",
    "\n",
    "while True:\n",
    "    schedule.run_pending()\n",
    "    time.sleep(1)"
   ]
  },
  {
   "cell_type": "code",
   "execution_count": null,
   "id": "4625c76d-03a0-4722-929a-8239d2b9ee69",
   "metadata": {},
   "outputs": [],
   "source": []
  }
 ],
 "metadata": {
  "kernelspec": {
   "display_name": "Python 3 (ipykernel)",
   "language": "python",
   "name": "python3"
  },
  "language_info": {
   "codemirror_mode": {
    "name": "ipython",
    "version": 3
   },
   "file_extension": ".py",
   "mimetype": "text/x-python",
   "name": "python",
   "nbconvert_exporter": "python",
   "pygments_lexer": "ipython3",
   "version": "3.11.7"
  },
  "widgets": {
   "application/vnd.jupyter.widget-state+json": {
    "state": {},
    "version_major": 2,
    "version_minor": 0
   }
  }
 },
 "nbformat": 4,
 "nbformat_minor": 5
}
