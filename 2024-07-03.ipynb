{
 "cells": [
  {
   "cell_type": "markdown",
   "id": "50874552-28dd-4edc-9320-95f5b66f3f15",
   "metadata": {},
   "source": [
    "# 파이썬 실습\n",
    "- 휴지통을 주기적으로 비워줄수 있는 프로그램을 만들어보자\n",
    "- 주기적? 매 시간마다 or 매 분 마다\n",
    "\n",
    "- 구글 이메일에서 메일이 올 경우 신규 메일이 오면 열람 자동화, 인쇄. 자동응답"
   ]
  },
  {
   "cell_type": "code",
   "execution_count": 3,
   "id": "fc4aebf3-38d4-4394-9953-8a919ec1d6e3",
   "metadata": {},
   "outputs": [],
   "source": [
    "import pyautogui\n",
    "import time\n",
    "import schedule\n",
    "import threading"
   ]
  },
  {
   "cell_type": "code",
   "execution_count": 5,
   "id": "f06fa82f-eea3-4aa3-9334-65064a9634e8",
   "metadata": {},
   "outputs": [],
   "source": [
    "def delete_function():\n",
    "    try:\n",
    "        x, y = pyautogui.locateCenterOnScreen('garbage.png', confidence=0.9)\n",
    "        pyautogui.rightClick(x,y,interval=1)\n",
    "        time.sleep(1)\n",
    "        \n",
    "        x, y = pyautogui.locateCenterOnScreen('empty_commend.png', confidence=0.9)\n",
    "        time.sleep(1)\n",
    "        pyautogui.click(x,y,duration=1)\n",
    "        time.sleep(1)\n",
    "        pyautogui.press(['enter'], interval=1)\n",
    "    except:\n",
    "        print('펑')\n",
    "    \n"
   ]
  },
  {
   "cell_type": "code",
   "execution_count": null,
   "id": "297ca81b-e362-454d-b394-73264469fd0e",
   "metadata": {},
   "outputs": [],
   "source": [
    "### 강사님 코드\n",
    "def delete_function2():\n",
    "    try:\n",
    "        x, y = pyautogui.locateCenterOnScreen('무언가 있는 쓰레기통 아이콘.png', confidence=0.9) \n",
    "    except:\n",
    "        print(\"휴지통이 비어있습니다\")\n",
    "    else:\n",
    "        pyautogui.rightClick(x,y,duration=1)\n",
    "        time.sleep(0.5)\n",
    "        pyautogui.hotkey('shift','b')\n",
    "        pyautogui.press(['enter'])\n",
    "        print('휴지통을 비웠습니다')\n",
    "\n",
    "# 실행부\n",
    "while True:    \n",
    "    delete_function2()\n",
    "    time.sleep(5)"
   ]
  },
  {
   "cell_type": "code",
   "execution_count": 1,
   "id": "64e757e9-5d73-44eb-8bb6-ed38cf985687",
   "metadata": {},
   "outputs": [
    {
     "ename": "NameError",
     "evalue": "name 'schedule' is not defined",
     "output_type": "error",
     "traceback": [
      "\u001b[1;31m---------------------------------------------------------------------------\u001b[0m",
      "\u001b[1;31mNameError\u001b[0m                                 Traceback (most recent call last)",
      "Cell \u001b[1;32mIn[1], line 2\u001b[0m\n\u001b[0;32m      1\u001b[0m \u001b[38;5;66;03m# 휴지통 비우기\u001b[39;00m\n\u001b[1;32m----> 2\u001b[0m schedule\u001b[38;5;241m.\u001b[39mevery(\u001b[38;5;241m1\u001b[39m)\u001b[38;5;241m.\u001b[39mminute\u001b[38;5;241m.\u001b[39mdo(delete_function)\n\u001b[0;32m      4\u001b[0m \u001b[38;5;28;01mwhile\u001b[39;00m \u001b[38;5;28;01mTrue\u001b[39;00m:    \n\u001b[0;32m      5\u001b[0m     schedule\u001b[38;5;241m.\u001b[39mrun_pending()\n",
      "\u001b[1;31mNameError\u001b[0m: name 'schedule' is not defined"
     ]
    }
   ],
   "source": [
    "# 휴지통 비우기\n",
    "schedule.every(1).minute.do(delete_function)\n",
    "\n",
    "while True:    \n",
    "    schedule.run_pending()\n",
    "    time.sleep(1)\n",
    "\n"
   ]
  },
  {
   "cell_type": "code",
   "execution_count": 21,
   "id": "ceb280b0-2507-4895-8008-9c1704208811",
   "metadata": {},
   "outputs": [],
   "source": [
    "def change_mailbox():\n",
    "    for pic in ['base_mailbox.PNG', 'promotion_mailbox.PNG', 'update_mailbox.PNG']:\n",
    "        try:\n",
    "            x, y = pyautogui.locateCenterOnScreen(pic, confidence=0.9)\n",
    "            pyautogui.click(x,y,duration=1)\n",
    "            time.sleep(1)\n",
    "\n",
    "            x, y = pyautogui.locateCenterOnScreen(\"new_mail.PNG\", confidence=0.9)\n",
    "            pyautogui.click(x-50, y, duration=1)\n",
    "\n",
    "            \n",
    "        except:\n",
    "            continue\n",
    "        \n",
    "\n",
    "    ### 프로젝트하러 감 미완 코드"
   ]
  },
  {
   "cell_type": "code",
   "execution_count": null,
   "id": "6a8fbc6b-7688-4d67-8dd2-8e4806cd3588",
   "metadata": {},
   "outputs": [],
   "source": []
  }
 ],
 "metadata": {
  "kernelspec": {
   "display_name": "Python 3 (ipykernel)",
   "language": "python",
   "name": "python3"
  },
  "language_info": {
   "codemirror_mode": {
    "name": "ipython",
    "version": 3
   },
   "file_extension": ".py",
   "mimetype": "text/x-python",
   "name": "python",
   "nbconvert_exporter": "python",
   "pygments_lexer": "ipython3",
   "version": "3.11.7"
  },
  "widgets": {
   "application/vnd.jupyter.widget-state+json": {
    "state": {},
    "version_major": 2,
    "version_minor": 0
   }
  }
 },
 "nbformat": 4,
 "nbformat_minor": 5
}
