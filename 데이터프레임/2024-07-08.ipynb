{
 "cells": [
  {
   "cell_type": "markdown",
   "id": "e1b72d07-b90b-401b-b0a3-04fb13bf8193",
   "metadata": {},
   "source": [
    "# 데이터 분석\n",
    "\n",
    "## Pandas(Panel Data Analysis) \n",
    "- 파이썬에서 DataFrame을 다루는 도구\n",
    "- 공식문서 : https://pandas.pydata.org/docs/user_guide/index.html#user-guide"
   ]
  },
  {
   "cell_type": "markdown",
   "id": "09d43b79-a2fd-4153-8f31-4c9827c8fe44",
   "metadata": {},
   "source": [
    "### DataFrame\n",
    "- 데이터(정형, 반정형, 반정형)가 틀(Frame)에 맞춰서 저장된 형태\n",
    "- 가로 * 세로 직사각형 모양으로 틀을 갖춰서 저장됨\n",
    "- 스프레드 시트, 엑셀, 테이블 등 분야마다 다르게 불림\n",
    "- int, float, Object, datetime 형이 있다.\n",
    "- NaN, missing value 결측치, 해당 위치에 데이터가 없다는 것을 보여주는 '값'\n",
    "- NaN이 발생할 경우 처리할 수 있다면 평균치로 채운다. 혹은 행을 날린다.(권장하지 않음)\n",
    "- 가로 row의 데이터는 Dictionary처럼 저장되어 있다.\n",
    "- 하나의 Column 안의 데이터는 List처럼 저장\n",
    "- 하나의 DataFrame은 row들이 list처럼 저장되어 있다."
   ]
  },
  {
   "cell_type": "code",
   "execution_count": 17,
   "id": "96d6a7ea-1dfc-4d52-ba25-c7a2d58aa85a",
   "metadata": {},
   "outputs": [
    {
     "data": {
      "text/html": [
       "<div>\n",
       "<style scoped>\n",
       "    .dataframe tbody tr th:only-of-type {\n",
       "        vertical-align: middle;\n",
       "    }\n",
       "\n",
       "    .dataframe tbody tr th {\n",
       "        vertical-align: top;\n",
       "    }\n",
       "\n",
       "    .dataframe thead th {\n",
       "        text-align: right;\n",
       "    }\n",
       "</style>\n",
       "<table border=\"1\" class=\"dataframe\">\n",
       "  <thead>\n",
       "    <tr style=\"text-align: right;\">\n",
       "      <th></th>\n",
       "      <th>date</th>\n",
       "      <th>dayofweek</th>\n",
       "    </tr>\n",
       "  </thead>\n",
       "  <tbody>\n",
       "    <tr>\n",
       "      <th>0</th>\n",
       "      <td>2024-07-08</td>\n",
       "      <td>mon</td>\n",
       "    </tr>\n",
       "    <tr>\n",
       "      <th>1</th>\n",
       "      <td>2024-07-09</td>\n",
       "      <td>tue</td>\n",
       "    </tr>\n",
       "    <tr>\n",
       "      <th>2</th>\n",
       "      <td>2024-07-10</td>\n",
       "      <td>wed</td>\n",
       "    </tr>\n",
       "  </tbody>\n",
       "</table>\n",
       "</div>"
      ],
      "text/plain": [
       "         date dayofweek\n",
       "0  2024-07-08       mon\n",
       "1  2024-07-09       tue\n",
       "2  2024-07-10       wed"
      ]
     },
     "execution_count": 17,
     "metadata": {},
     "output_type": "execute_result"
    }
   ],
   "source": [
    "import pandas as pd\n",
    "\n",
    "ls = [ {'date' : '2024-07-08', 'dayofweek':'mon'},\n",
    "{'date' : '2024-07-09', 'dayofweek':'tue'},\n",
    "{'date' : '2024-07-10', 'dayofweek':'wed'}]\n",
    "\n",
    "pd.DataFrame(ls)"
   ]
  },
  {
   "cell_type": "code",
   "execution_count": 29,
   "id": "3bc891ba-fa0f-4cf0-85df-05ded034d65a",
   "metadata": {},
   "outputs": [
    {
     "data": {
      "text/html": [
       "<div>\n",
       "<style scoped>\n",
       "    .dataframe tbody tr th:only-of-type {\n",
       "        vertical-align: middle;\n",
       "    }\n",
       "\n",
       "    .dataframe tbody tr th {\n",
       "        vertical-align: top;\n",
       "    }\n",
       "\n",
       "    .dataframe thead th {\n",
       "        text-align: right;\n",
       "    }\n",
       "</style>\n",
       "<table border=\"1\" class=\"dataframe\">\n",
       "  <thead>\n",
       "    <tr style=\"text-align: right;\">\n",
       "      <th></th>\n",
       "      <th>name</th>\n",
       "      <th>age</th>\n",
       "    </tr>\n",
       "  </thead>\n",
       "  <tbody>\n",
       "    <tr>\n",
       "      <th>0</th>\n",
       "      <td>kim</td>\n",
       "      <td>22</td>\n",
       "    </tr>\n",
       "    <tr>\n",
       "      <th>1</th>\n",
       "      <td>lee</td>\n",
       "      <td>34</td>\n",
       "    </tr>\n",
       "    <tr>\n",
       "      <th>2</th>\n",
       "      <td>choi</td>\n",
       "      <td>44</td>\n",
       "    </tr>\n",
       "    <tr>\n",
       "      <th>3</th>\n",
       "      <td>park</td>\n",
       "      <td>55</td>\n",
       "    </tr>\n",
       "    <tr>\n",
       "      <th>4</th>\n",
       "      <td>jung</td>\n",
       "      <td>11</td>\n",
       "    </tr>\n",
       "  </tbody>\n",
       "</table>\n",
       "</div>"
      ],
      "text/plain": [
       "   name  age\n",
       "0   kim   22\n",
       "1   lee   34\n",
       "2  choi   44\n",
       "3  park   55\n",
       "4  jung   11"
      ]
     },
     "execution_count": 29,
     "metadata": {},
     "output_type": "execute_result"
    }
   ],
   "source": [
    "name = ['kim', 'lee', 'choi', 'park', 'jung']\n",
    "age = [22,34,44,55,11]\n",
    "\n",
    "df = pd.DataFrame(list(zip(name, age)),columns=['name', 'age'])\n",
    "df"
   ]
  },
  {
   "cell_type": "markdown",
   "id": "128be558-5f1b-4135-aa64-0321993155fa",
   "metadata": {},
   "source": [
    "### Numpy(Numerical Python)\n",
    "- 파이썬 기반의 수치해석 라이브러리\n",
    "- 선형대수 연산에 필요한 다차원 배열, 배열 연산을 수행하는 여러가지 함수를 제공\n",
    "- numpy의 자료구조는 pandas와 matplolib의 기본 데이터 타입으로 사용됨\n",
    "- 배열 개념으로 변수를 사용하며, 벡터, 행렬 등의 연산을 빠르게 수행하도록 지원"
   ]
  },
  {
   "cell_type": "code",
   "execution_count": 32,
   "id": "fb8809e0-06f8-4890-9c6f-d3e4a9ef6455",
   "metadata": {},
   "outputs": [],
   "source": [
    "import numpy as np"
   ]
  },
  {
   "cell_type": "code",
   "execution_count": 42,
   "id": "5ec58bee-2309-4c7c-bf5c-62c15a243977",
   "metadata": {},
   "outputs": [
    {
     "data": {
      "text/plain": [
       "array([1, 2, 3, 4, 5, 6])"
      ]
     },
     "execution_count": 42,
     "metadata": {},
     "output_type": "execute_result"
    }
   ],
   "source": [
    "ar1 = np.array([1,2,3,4,5,6])\n",
    "ar1"
   ]
  },
  {
   "cell_type": "code",
   "execution_count": 44,
   "id": "b8d70426-ace2-4496-b76c-f500757e5ef7",
   "metadata": {},
   "outputs": [
    {
     "data": {
      "text/plain": [
       "(6,)"
      ]
     },
     "execution_count": 44,
     "metadata": {},
     "output_type": "execute_result"
    }
   ],
   "source": [
    "ar1.shape"
   ]
  },
  {
   "cell_type": "code",
   "execution_count": 46,
   "id": "5e3ef3a9-d055-47b4-a038-19ca013256c2",
   "metadata": {},
   "outputs": [
    {
     "data": {
      "text/plain": [
       "array([[ 1,  2,  3,  4,  5,  6],\n",
       "       [ 2,  4,  6,  8, 10, 12]])"
      ]
     },
     "execution_count": 46,
     "metadata": {},
     "output_type": "execute_result"
    }
   ],
   "source": [
    "ar2 = np.array([[1,2,3,4,5,6],[2,4,6,8,10,12]])\n",
    "ar2"
   ]
  },
  {
   "cell_type": "code",
   "execution_count": 56,
   "id": "55756911-f993-48d2-b865-4a8e9eff0653",
   "metadata": {},
   "outputs": [
    {
     "data": {
      "text/plain": [
       "array([[ 1,  2],\n",
       "       [ 3,  4],\n",
       "       [ 5,  6],\n",
       "       [ 2,  4],\n",
       "       [ 6,  8],\n",
       "       [10, 12]])"
      ]
     },
     "execution_count": 56,
     "metadata": {},
     "output_type": "execute_result"
    }
   ],
   "source": [
    "ar2.reshape(6,2) #기존의 행렬의 숫자를 바꿈"
   ]
  },
  {
   "cell_type": "code",
   "execution_count": 58,
   "id": "e3a73b94-eef2-498e-a886-e1bd7c223750",
   "metadata": {},
   "outputs": [
    {
     "data": {
      "text/plain": [
       "array([[0., 0., 0., 0., 0.],\n",
       "       [0., 0., 0., 0., 0.]])"
      ]
     },
     "execution_count": 58,
     "metadata": {},
     "output_type": "execute_result"
    }
   ],
   "source": [
    "np.zeros((2,5))  # 행렬을 만들고 0으로 채워둠"
   ]
  },
  {
   "cell_type": "code",
   "execution_count": 60,
   "id": "2e5ecbd1-d628-448e-b16c-c059f88f04e8",
   "metadata": {},
   "outputs": [
    {
     "data": {
      "text/plain": [
       "array([[ 2,  4,  6,  8, 10, 12],\n",
       "       [ 4,  8, 12, 16, 20, 24]])"
      ]
     },
     "execution_count": 60,
     "metadata": {},
     "output_type": "execute_result"
    }
   ],
   "source": [
    "ar3 = np.array([[1,2,3,4,5,6],[2,4,6,8,10,12]])\n",
    "ar4 = np.array([[1,2,3,4,5,6],[2,4,6,8,10,12]])\n",
    "\n",
    "ar3 + ar4"
   ]
  },
  {
   "cell_type": "code",
   "execution_count": 64,
   "id": "94d5fee0-4861-4931-86dc-926cbec8dd6f",
   "metadata": {},
   "outputs": [
    {
     "data": {
      "text/plain": [
       "array([[  1,   4,   9,  16,  25,  36],\n",
       "       [  4,  16,  36,  64, 100, 144]])"
      ]
     },
     "execution_count": 64,
     "metadata": {},
     "output_type": "execute_result"
    }
   ],
   "source": [
    "ar3 * ar4"
   ]
  },
  {
   "cell_type": "markdown",
   "id": "9211f400-7692-45f5-b752-637d69be06d9",
   "metadata": {},
   "source": [
    "### matplotlib(math plot library)\n",
    "- 그래프 그려줌(1세대) 데이터를 시각화 해주는 라이브러리\n",
    "- 공식문서 https://matplotlib.org/stable/users/index\n"
   ]
  },
  {
   "cell_type": "code",
   "execution_count": 68,
   "id": "2d0e7c17-af32-4e7a-bc41-8273dfc50c6b",
   "metadata": {},
   "outputs": [],
   "source": [
    "import matplotlib.pyplot as plt"
   ]
  },
  {
   "cell_type": "code",
   "execution_count": 78,
   "id": "4b4a6d76-9822-4cc8-a6a2-e9217cd41a46",
   "metadata": {},
   "outputs": [
    {
     "data": {
      "image/png": "[encoded data removed]",
      "text/plain": [
       "<Figure size 640x480 with 1 Axes>"
      ]
     },
     "metadata": {},
     "output_type": "display_data"
    }
   ],
   "source": [
    "x = df['name']\n",
    "y = df['age']\n",
    "\n",
    "plt.bar(x,y)\n",
    "plt.xlabel('name')\n",
    "plt.ylabel('age')\n",
    "plt.title('bar plot test')\n",
    "plt.show()"
   ]
  },
  {
   "cell_type": "code",
   "execution_count": 80,
   "id": "72439376-e5ba-4abf-9a42-b9cbe7da7467",
   "metadata": {},
   "outputs": [
    {
     "data": {
      "text/plain": [
       "<matplotlib.collections.PathCollection at 0x2245e147bd0>"
      ]
     },
     "execution_count": 80,
     "metadata": {},
     "output_type": "execute_result"
    },
    {
     "data": {
      "image/png": "[encoded data removed]",
      "text/plain": [
       "<Figure size 640x480 with 1 Axes>"
      ]
     },
     "metadata": {},
     "output_type": "display_data"
    }
   ],
   "source": [
    "plt.scatter(x,y)"
   ]
  },
  {
   "cell_type": "markdown",
   "id": "3c53703b-e645-4696-8614-645aa7ef5436",
   "metadata": {},
   "source": [
    "#### Pandas 자료구조\n",
    "- 자료구조 : 어떻게하면 데이터를 잘 저장하고 관리하느냐\n",
    "- 알고리즘 : 어떻게 처리할 것인가?\n",
    "\n",
    "- Series, DataFrame 자료형이 있다.\n",
    "- 분석을 위해 수집하는 데이터는 형태나 속성이 매우 다양하므로 서로 다른 형식을 갖는 여러 종류의 데이터를 정형화 해야 함\n",
    "- Series: 1차원 배열\n",
    "- **DataFrame: 2차원 배열**\n",
    "\n",
    "  "
   ]
  },
  {
   "cell_type": "markdown",
   "id": "9c90ca87-a4a7-41f0-83c1-4be3f1ef4fc7",
   "metadata": {},
   "source": [
    "#### Serise\n",
    "- 데이터가 순차적으로 나열된 1차원 배열 형태\n",
    "- index는 Value와 1:1 대응 됨\n",
    "- index는 Value의 위치를 나타내는 역할\n",
    "- Dictionary의 key는 Serise의 index와 대응\n",
    "- Value는 Series의 Value로 변환해 사용한다.\n"
   ]
  },
  {
   "cell_type": "code",
   "execution_count": 100,
   "id": "a73d184a-0c5e-4706-be95-cb84b6eea0c6",
   "metadata": {},
   "outputs": [
    {
     "data": {
      "text/plain": [
       "dict"
      ]
     },
     "execution_count": 100,
     "metadata": {},
     "output_type": "execute_result"
    }
   ],
   "source": [
    "dic = {'a':1, 'b':2 ,'c':3}\n",
    "type(dic)"
   ]
  },
  {
   "cell_type": "code",
   "execution_count": 104,
   "id": "92a67101-2f2a-4121-8388-3054410c014c",
   "metadata": {},
   "outputs": [
    {
     "data": {
      "text/plain": [
       "pandas.core.series.Series"
      ]
     },
     "execution_count": 104,
     "metadata": {},
     "output_type": "execute_result"
    }
   ],
   "source": [
    "sr = pd.Series(dic)\n",
    "type(sr)"
   ]
  },
  {
   "cell_type": "code",
   "execution_count": 106,
   "id": "8fa5fedb-6eae-4483-a1b3-ba979972f394",
   "metadata": {},
   "outputs": [
    {
     "data": {
      "text/plain": [
       "a    1\n",
       "b    2\n",
       "c    3\n",
       "dtype: int64"
      ]
     },
     "execution_count": 106,
     "metadata": {},
     "output_type": "execute_result"
    }
   ],
   "source": [
    "sr"
   ]
  },
  {
   "cell_type": "code",
   "execution_count": 108,
   "id": "2f31a41c-b18a-4149-b2a7-4cc1497c496d",
   "metadata": {},
   "outputs": [
    {
     "data": {
      "text/html": [
       "<div>\n",
       "<style scoped>\n",
       "    .dataframe tbody tr th:only-of-type {\n",
       "        vertical-align: middle;\n",
       "    }\n",
       "\n",
       "    .dataframe tbody tr th {\n",
       "        vertical-align: top;\n",
       "    }\n",
       "\n",
       "    .dataframe thead th {\n",
       "        text-align: right;\n",
       "    }\n",
       "</style>\n",
       "<table border=\"1\" class=\"dataframe\">\n",
       "  <thead>\n",
       "    <tr style=\"text-align: right;\">\n",
       "      <th></th>\n",
       "      <th>c0</th>\n",
       "      <th>c1</th>\n",
       "      <th>c2</th>\n",
       "      <th>c3</th>\n",
       "      <th>c4</th>\n",
       "    </tr>\n",
       "  </thead>\n",
       "  <tbody>\n",
       "    <tr>\n",
       "      <th>0</th>\n",
       "      <td>1</td>\n",
       "      <td>4</td>\n",
       "      <td>7</td>\n",
       "      <td>10</td>\n",
       "      <td>13</td>\n",
       "    </tr>\n",
       "    <tr>\n",
       "      <th>1</th>\n",
       "      <td>2</td>\n",
       "      <td>5</td>\n",
       "      <td>8</td>\n",
       "      <td>11</td>\n",
       "      <td>14</td>\n",
       "    </tr>\n",
       "    <tr>\n",
       "      <th>2</th>\n",
       "      <td>3</td>\n",
       "      <td>6</td>\n",
       "      <td>9</td>\n",
       "      <td>12</td>\n",
       "      <td>15</td>\n",
       "    </tr>\n",
       "  </tbody>\n",
       "</table>\n",
       "</div>"
      ],
      "text/plain": [
       "   c0  c1  c2  c3  c4\n",
       "0   1   4   7  10  13\n",
       "1   2   5   8  11  14\n",
       "2   3   6   9  12  15"
      ]
     },
     "execution_count": 108,
     "metadata": {},
     "output_type": "execute_result"
    }
   ],
   "source": [
    "dic = {'c0':[1,2,3], 'c1':[4,5,6],'c2':[7,8,9],'c3':[10,11,12],'c4':[13,14,15]}\n",
    "\n",
    "pd.DataFrame(dic)"
   ]
  },
  {
   "cell_type": "code",
   "execution_count": 120,
   "id": "1cdb1175-ee20-440e-8e13-a939dc653de7",
   "metadata": {},
   "outputs": [],
   "source": [
    "ls = [[20244943, '컴퓨터공학', 1],\n",
    "      [20234311, '전자공학', 2]]\n",
    "\n",
    "df = pd.DataFrame(ls,columns=['학번', '전공', '학년'])"
   ]
  },
  {
   "cell_type": "code",
   "execution_count": 126,
   "id": "3388c4ac-cf4a-4767-a3a3-bab181b633bf",
   "metadata": {},
   "outputs": [
    {
     "data": {
      "text/plain": [
       "RangeIndex(start=0, stop=2, step=1)"
      ]
     },
     "execution_count": 126,
     "metadata": {},
     "output_type": "execute_result"
    }
   ],
   "source": [
    "df.index # 인덱스 정보 확인"
   ]
  },
  {
   "cell_type": "code",
   "execution_count": 128,
   "id": "1b93c4e9-80e9-450f-a659-f33eb9b81260",
   "metadata": {},
   "outputs": [
    {
     "data": {
      "text/plain": [
       "Index(['학번', '전공', '학년'], dtype='object')"
      ]
     },
     "execution_count": 128,
     "metadata": {},
     "output_type": "execute_result"
    }
   ],
   "source": [
    "df.columns # 컬럼의 정보 확인"
   ]
  },
  {
   "cell_type": "code",
   "execution_count": 134,
   "id": "b32be874-b644-4707-80f8-8115e07bfebb",
   "metadata": {},
   "outputs": [],
   "source": [
    "df.index = ['lee', 'park'] # 인덱스 변경"
   ]
  },
  {
   "cell_type": "code",
   "execution_count": 136,
   "id": "56a1ce0b-25f5-423b-bfe0-9072eeac0b51",
   "metadata": {},
   "outputs": [
    {
     "data": {
      "text/html": [
       "<div>\n",
       "<style scoped>\n",
       "    .dataframe tbody tr th:only-of-type {\n",
       "        vertical-align: middle;\n",
       "    }\n",
       "\n",
       "    .dataframe tbody tr th {\n",
       "        vertical-align: top;\n",
       "    }\n",
       "\n",
       "    .dataframe thead th {\n",
       "        text-align: right;\n",
       "    }\n",
       "</style>\n",
       "<table border=\"1\" class=\"dataframe\">\n",
       "  <thead>\n",
       "    <tr style=\"text-align: right;\">\n",
       "      <th></th>\n",
       "      <th>학번</th>\n",
       "      <th>전공</th>\n",
       "      <th>학년</th>\n",
       "    </tr>\n",
       "  </thead>\n",
       "  <tbody>\n",
       "    <tr>\n",
       "      <th>lee</th>\n",
       "      <td>20244943</td>\n",
       "      <td>컴퓨터공학</td>\n",
       "      <td>1</td>\n",
       "    </tr>\n",
       "    <tr>\n",
       "      <th>park</th>\n",
       "      <td>20234311</td>\n",
       "      <td>전자공학</td>\n",
       "      <td>2</td>\n",
       "    </tr>\n",
       "  </tbody>\n",
       "</table>\n",
       "</div>"
      ],
      "text/plain": [
       "            학번     전공  학년\n",
       "lee   20244943  컴퓨터공학   1\n",
       "park  20234311   전자공학   2"
      ]
     },
     "execution_count": 136,
     "metadata": {},
     "output_type": "execute_result"
    }
   ],
   "source": [
    "df"
   ]
  },
  {
   "cell_type": "code",
   "execution_count": 138,
   "id": "df92fb19-1cc0-4690-aec8-306a8eb0c5b1",
   "metadata": {},
   "outputs": [],
   "source": [
    "df.columns = ['number', 'major', 'grade'] # 컬럼의 이름 단체 변경"
   ]
  },
  {
   "cell_type": "code",
   "execution_count": 140,
   "id": "1e646e32-d5ad-47d0-832b-e152261485c1",
   "metadata": {},
   "outputs": [
    {
     "data": {
      "text/html": [
       "<div>\n",
       "<style scoped>\n",
       "    .dataframe tbody tr th:only-of-type {\n",
       "        vertical-align: middle;\n",
       "    }\n",
       "\n",
       "    .dataframe tbody tr th {\n",
       "        vertical-align: top;\n",
       "    }\n",
       "\n",
       "    .dataframe thead th {\n",
       "        text-align: right;\n",
       "    }\n",
       "</style>\n",
       "<table border=\"1\" class=\"dataframe\">\n",
       "  <thead>\n",
       "    <tr style=\"text-align: right;\">\n",
       "      <th></th>\n",
       "      <th>number</th>\n",
       "      <th>major</th>\n",
       "      <th>grade</th>\n",
       "    </tr>\n",
       "  </thead>\n",
       "  <tbody>\n",
       "    <tr>\n",
       "      <th>lee</th>\n",
       "      <td>20244943</td>\n",
       "      <td>컴퓨터공학</td>\n",
       "      <td>1</td>\n",
       "    </tr>\n",
       "    <tr>\n",
       "      <th>park</th>\n",
       "      <td>20234311</td>\n",
       "      <td>전자공학</td>\n",
       "      <td>2</td>\n",
       "    </tr>\n",
       "  </tbody>\n",
       "</table>\n",
       "</div>"
      ],
      "text/plain": [
       "        number  major  grade\n",
       "lee   20244943  컴퓨터공학      1\n",
       "park  20234311   전자공학      2"
      ]
     },
     "execution_count": 140,
     "metadata": {},
     "output_type": "execute_result"
    }
   ],
   "source": [
    "df"
   ]
  },
  {
   "cell_type": "code",
   "execution_count": 154,
   "id": "2b89bbce-700f-462c-8cd5-b07fbeea5777",
   "metadata": {},
   "outputs": [],
   "source": [
    "df.rename(columns={'number':'stuNum', 'jungong':'jeungong'}, inplace=True)# 컬럼의 이름 변경"
   ]
  },
  {
   "cell_type": "code",
   "execution_count": 156,
   "id": "8c5dbeb3-5875-4529-a4ac-f9b1d37da9c6",
   "metadata": {},
   "outputs": [
    {
     "data": {
      "text/html": [
       "<div>\n",
       "<style scoped>\n",
       "    .dataframe tbody tr th:only-of-type {\n",
       "        vertical-align: middle;\n",
       "    }\n",
       "\n",
       "    .dataframe tbody tr th {\n",
       "        vertical-align: top;\n",
       "    }\n",
       "\n",
       "    .dataframe thead th {\n",
       "        text-align: right;\n",
       "    }\n",
       "</style>\n",
       "<table border=\"1\" class=\"dataframe\">\n",
       "  <thead>\n",
       "    <tr style=\"text-align: right;\">\n",
       "      <th></th>\n",
       "      <th>stuNum</th>\n",
       "      <th>jeungong</th>\n",
       "      <th>grade</th>\n",
       "    </tr>\n",
       "  </thead>\n",
       "  <tbody>\n",
       "    <tr>\n",
       "      <th>lee</th>\n",
       "      <td>20244943</td>\n",
       "      <td>컴퓨터공학</td>\n",
       "      <td>1</td>\n",
       "    </tr>\n",
       "    <tr>\n",
       "      <th>park</th>\n",
       "      <td>20234311</td>\n",
       "      <td>전자공학</td>\n",
       "      <td>2</td>\n",
       "    </tr>\n",
       "  </tbody>\n",
       "</table>\n",
       "</div>"
      ],
      "text/plain": [
       "        stuNum jeungong  grade\n",
       "lee   20244943    컴퓨터공학      1\n",
       "park  20234311     전자공학      2"
      ]
     },
     "execution_count": 156,
     "metadata": {},
     "output_type": "execute_result"
    }
   ],
   "source": [
    "df"
   ]
  },
  {
   "cell_type": "markdown",
   "id": "4e356826-e36a-48c9-8a2d-cdacea087aa4",
   "metadata": {},
   "source": [
    "#### 삭제.\n",
    "- 삭제는 권장되지 않는다\n",
    "- 꼭 삭제를 해야 할 경우에는 copy본을 만들고 copy본으로 처리함\n",
    "- **절대로 원본 데이터를 훼손하지 말것!!!!! 중요**\n",
    "- 권장사항: 카피를 만들때 잘 손질한 카피를 만듦.(삭제 필요성을 없엠)"
   ]
  },
  {
   "cell_type": "code",
   "execution_count": 255,
   "id": "e908e5e5-93c8-457a-9dfc-b9752927fe56",
   "metadata": {},
   "outputs": [
    {
     "ename": "InvalidIndexError",
     "evalue": "(slice(None, None, None), slice('stuNum', 'grade', None))",
     "output_type": "error",
     "traceback": [
      "\u001b[1;31m---------------------------------------------------------------------------\u001b[0m",
      "\u001b[1;31mTypeError\u001b[0m                                 Traceback (most recent call last)",
      "File \u001b[1;32m~\\anaconda3\\Lib\\site-packages\\pandas\\core\\indexes\\base.py:3791\u001b[0m, in \u001b[0;36mIndex.get_loc\u001b[1;34m(self, key)\u001b[0m\n\u001b[0;32m   3790\u001b[0m \u001b[38;5;28;01mtry\u001b[39;00m:\n\u001b[1;32m-> 3791\u001b[0m     \u001b[38;5;28;01mreturn\u001b[39;00m \u001b[38;5;28mself\u001b[39m\u001b[38;5;241m.\u001b[39m_engine\u001b[38;5;241m.\u001b[39mget_loc(casted_key)\n\u001b[0;32m   3792\u001b[0m \u001b[38;5;28;01mexcept\u001b[39;00m \u001b[38;5;167;01mKeyError\u001b[39;00m \u001b[38;5;28;01mas\u001b[39;00m err:\n",
      "File \u001b[1;32mindex.pyx:152\u001b[0m, in \u001b[0;36mpandas._libs.index.IndexEngine.get_loc\u001b[1;34m()\u001b[0m\n",
      "File \u001b[1;32mindex.pyx:158\u001b[0m, in \u001b[0;36mpandas._libs.index.IndexEngine.get_loc\u001b[1;34m()\u001b[0m\n",
      "\u001b[1;31mTypeError\u001b[0m: '(slice(None, None, None), slice('stuNum', 'grade', None))' is an invalid key",
      "\nDuring handling of the above exception, another exception occurred:\n",
      "\u001b[1;31mInvalidIndexError\u001b[0m                         Traceback (most recent call last)",
      "Cell \u001b[1;32mIn[255], line 1\u001b[0m\n\u001b[1;32m----> 1\u001b[0m df_copy2 \u001b[38;5;241m=\u001b[39m df[:,\u001b[38;5;124m'\u001b[39m\u001b[38;5;124mstuNum\u001b[39m\u001b[38;5;124m'\u001b[39m:\u001b[38;5;124m'\u001b[39m\u001b[38;5;124mgrade\u001b[39m\u001b[38;5;124m'\u001b[39m]\n",
      "File \u001b[1;32m~\\anaconda3\\Lib\\site-packages\\pandas\\core\\frame.py:3893\u001b[0m, in \u001b[0;36mDataFrame.__getitem__\u001b[1;34m(self, key)\u001b[0m\n\u001b[0;32m   3891\u001b[0m \u001b[38;5;28;01mif\u001b[39;00m \u001b[38;5;28mself\u001b[39m\u001b[38;5;241m.\u001b[39mcolumns\u001b[38;5;241m.\u001b[39mnlevels \u001b[38;5;241m>\u001b[39m \u001b[38;5;241m1\u001b[39m:\n\u001b[0;32m   3892\u001b[0m     \u001b[38;5;28;01mreturn\u001b[39;00m \u001b[38;5;28mself\u001b[39m\u001b[38;5;241m.\u001b[39m_getitem_multilevel(key)\n\u001b[1;32m-> 3893\u001b[0m indexer \u001b[38;5;241m=\u001b[39m \u001b[38;5;28mself\u001b[39m\u001b[38;5;241m.\u001b[39mcolumns\u001b[38;5;241m.\u001b[39mget_loc(key)\n\u001b[0;32m   3894\u001b[0m \u001b[38;5;28;01mif\u001b[39;00m is_integer(indexer):\n\u001b[0;32m   3895\u001b[0m     indexer \u001b[38;5;241m=\u001b[39m [indexer]\n",
      "File \u001b[1;32m~\\anaconda3\\Lib\\site-packages\\pandas\\core\\indexes\\base.py:3803\u001b[0m, in \u001b[0;36mIndex.get_loc\u001b[1;34m(self, key)\u001b[0m\n\u001b[0;32m   3798\u001b[0m     \u001b[38;5;28;01mraise\u001b[39;00m \u001b[38;5;167;01mKeyError\u001b[39;00m(key) \u001b[38;5;28;01mfrom\u001b[39;00m \u001b[38;5;21;01merr\u001b[39;00m\n\u001b[0;32m   3799\u001b[0m \u001b[38;5;28;01mexcept\u001b[39;00m \u001b[38;5;167;01mTypeError\u001b[39;00m:\n\u001b[0;32m   3800\u001b[0m     \u001b[38;5;66;03m# If we have a listlike key, _check_indexing_error will raise\u001b[39;00m\n\u001b[0;32m   3801\u001b[0m     \u001b[38;5;66;03m#  InvalidIndexError. Otherwise we fall through and re-raise\u001b[39;00m\n\u001b[0;32m   3802\u001b[0m     \u001b[38;5;66;03m#  the TypeError.\u001b[39;00m\n\u001b[1;32m-> 3803\u001b[0m     \u001b[38;5;28mself\u001b[39m\u001b[38;5;241m.\u001b[39m_check_indexing_error(key)\n\u001b[0;32m   3804\u001b[0m     \u001b[38;5;28;01mraise\u001b[39;00m\n",
      "File \u001b[1;32m~\\anaconda3\\Lib\\site-packages\\pandas\\core\\indexes\\base.py:5975\u001b[0m, in \u001b[0;36mIndex._check_indexing_error\u001b[1;34m(self, key)\u001b[0m\n\u001b[0;32m   5971\u001b[0m \u001b[38;5;28;01mdef\u001b[39;00m \u001b[38;5;21m_check_indexing_error\u001b[39m(\u001b[38;5;28mself\u001b[39m, key):\n\u001b[0;32m   5972\u001b[0m     \u001b[38;5;28;01mif\u001b[39;00m \u001b[38;5;129;01mnot\u001b[39;00m is_scalar(key):\n\u001b[0;32m   5973\u001b[0m         \u001b[38;5;66;03m# if key is not a scalar, directly raise an error (the code below\u001b[39;00m\n\u001b[0;32m   5974\u001b[0m         \u001b[38;5;66;03m# would convert to numpy arrays and raise later any way) - GH29926\u001b[39;00m\n\u001b[1;32m-> 5975\u001b[0m         \u001b[38;5;28;01mraise\u001b[39;00m InvalidIndexError(key)\n",
      "\u001b[1;31mInvalidIndexError\u001b[0m: (slice(None, None, None), slice('stuNum', 'grade', None))"
     ]
    }
   ],
   "source": [
    "df_copy2 = df[:]"
   ]
  },
  {
   "cell_type": "code",
   "execution_count": 162,
   "id": "54ea107e-3f89-41f1-b3c3-2d99ad1ef619",
   "metadata": {},
   "outputs": [
    {
     "data": {
      "text/html": [
       "<div>\n",
       "<style scoped>\n",
       "    .dataframe tbody tr th:only-of-type {\n",
       "        vertical-align: middle;\n",
       "    }\n",
       "\n",
       "    .dataframe tbody tr th {\n",
       "        vertical-align: top;\n",
       "    }\n",
       "\n",
       "    .dataframe thead th {\n",
       "        text-align: right;\n",
       "    }\n",
       "</style>\n",
       "<table border=\"1\" class=\"dataframe\">\n",
       "  <thead>\n",
       "    <tr style=\"text-align: right;\">\n",
       "      <th></th>\n",
       "      <th>stuNum</th>\n",
       "      <th>jeungong</th>\n",
       "      <th>grade</th>\n",
       "    </tr>\n",
       "  </thead>\n",
       "  <tbody>\n",
       "    <tr>\n",
       "      <th>lee</th>\n",
       "      <td>20244943</td>\n",
       "      <td>컴퓨터공학</td>\n",
       "      <td>1</td>\n",
       "    </tr>\n",
       "    <tr>\n",
       "      <th>park</th>\n",
       "      <td>20234311</td>\n",
       "      <td>전자공학</td>\n",
       "      <td>2</td>\n",
       "    </tr>\n",
       "  </tbody>\n",
       "</table>\n",
       "</div>"
      ],
      "text/plain": [
       "        stuNum jeungong  grade\n",
       "lee   20244943    컴퓨터공학      1\n",
       "park  20234311     전자공학      2"
      ]
     },
     "execution_count": 162,
     "metadata": {},
     "output_type": "execute_result"
    }
   ],
   "source": [
    "df"
   ]
  },
  {
   "cell_type": "code",
   "execution_count": 164,
   "id": "4969c0f9-7982-49fe-a224-17be0b8a255b",
   "metadata": {},
   "outputs": [
    {
     "data": {
      "text/html": [
       "<div>\n",
       "<style scoped>\n",
       "    .dataframe tbody tr th:only-of-type {\n",
       "        vertical-align: middle;\n",
       "    }\n",
       "\n",
       "    .dataframe tbody tr th {\n",
       "        vertical-align: top;\n",
       "    }\n",
       "\n",
       "    .dataframe thead th {\n",
       "        text-align: right;\n",
       "    }\n",
       "</style>\n",
       "<table border=\"1\" class=\"dataframe\">\n",
       "  <thead>\n",
       "    <tr style=\"text-align: right;\">\n",
       "      <th></th>\n",
       "      <th>stuNum</th>\n",
       "      <th>jeungong</th>\n",
       "      <th>grade</th>\n",
       "    </tr>\n",
       "  </thead>\n",
       "  <tbody>\n",
       "    <tr>\n",
       "      <th>park</th>\n",
       "      <td>20234311</td>\n",
       "      <td>전자공학</td>\n",
       "      <td>2</td>\n",
       "    </tr>\n",
       "  </tbody>\n",
       "</table>\n",
       "</div>"
      ],
      "text/plain": [
       "        stuNum jeungong  grade\n",
       "park  20234311     전자공학      2"
      ]
     },
     "execution_count": 164,
     "metadata": {},
     "output_type": "execute_result"
    }
   ],
   "source": [
    "df_copy.drop(index='lee') # inplace를 넣어야 적용됨"
   ]
  },
  {
   "cell_type": "code",
   "execution_count": 166,
   "id": "38a8c360-bff6-4804-8d11-4c27de2e92c0",
   "metadata": {},
   "outputs": [
    {
     "data": {
      "text/html": [
       "<div>\n",
       "<style scoped>\n",
       "    .dataframe tbody tr th:only-of-type {\n",
       "        vertical-align: middle;\n",
       "    }\n",
       "\n",
       "    .dataframe tbody tr th {\n",
       "        vertical-align: top;\n",
       "    }\n",
       "\n",
       "    .dataframe thead th {\n",
       "        text-align: right;\n",
       "    }\n",
       "</style>\n",
       "<table border=\"1\" class=\"dataframe\">\n",
       "  <thead>\n",
       "    <tr style=\"text-align: right;\">\n",
       "      <th></th>\n",
       "      <th>stuNum</th>\n",
       "      <th>jeungong</th>\n",
       "      <th>grade</th>\n",
       "    </tr>\n",
       "  </thead>\n",
       "  <tbody>\n",
       "    <tr>\n",
       "      <th>lee</th>\n",
       "      <td>20244943</td>\n",
       "      <td>컴퓨터공학</td>\n",
       "      <td>1</td>\n",
       "    </tr>\n",
       "    <tr>\n",
       "      <th>park</th>\n",
       "      <td>20234311</td>\n",
       "      <td>전자공학</td>\n",
       "      <td>2</td>\n",
       "    </tr>\n",
       "  </tbody>\n",
       "</table>\n",
       "</div>"
      ],
      "text/plain": [
       "        stuNum jeungong  grade\n",
       "lee   20244943    컴퓨터공학      1\n",
       "park  20234311     전자공학      2"
      ]
     },
     "execution_count": 166,
     "metadata": {},
     "output_type": "execute_result"
    }
   ],
   "source": [
    "df_copy"
   ]
  },
  {
   "cell_type": "code",
   "execution_count": 168,
   "id": "828f605e-5638-47bb-b5d9-b87adc151c4f",
   "metadata": {},
   "outputs": [
    {
     "data": {
      "text/html": [
       "<div>\n",
       "<style scoped>\n",
       "    .dataframe tbody tr th:only-of-type {\n",
       "        vertical-align: middle;\n",
       "    }\n",
       "\n",
       "    .dataframe tbody tr th {\n",
       "        vertical-align: top;\n",
       "    }\n",
       "\n",
       "    .dataframe thead th {\n",
       "        text-align: right;\n",
       "    }\n",
       "</style>\n",
       "<table border=\"1\" class=\"dataframe\">\n",
       "  <thead>\n",
       "    <tr style=\"text-align: right;\">\n",
       "      <th></th>\n",
       "      <th>stuNum</th>\n",
       "      <th>jeungong</th>\n",
       "    </tr>\n",
       "  </thead>\n",
       "  <tbody>\n",
       "    <tr>\n",
       "      <th>lee</th>\n",
       "      <td>20244943</td>\n",
       "      <td>컴퓨터공학</td>\n",
       "    </tr>\n",
       "    <tr>\n",
       "      <th>park</th>\n",
       "      <td>20234311</td>\n",
       "      <td>전자공학</td>\n",
       "    </tr>\n",
       "  </tbody>\n",
       "</table>\n",
       "</div>"
      ],
      "text/plain": [
       "        stuNum jeungong\n",
       "lee   20244943    컴퓨터공학\n",
       "park  20234311     전자공학"
      ]
     },
     "execution_count": 168,
     "metadata": {},
     "output_type": "execute_result"
    }
   ],
   "source": [
    "df_copy.drop(columns='grade')"
   ]
  },
  {
   "cell_type": "code",
   "execution_count": 184,
   "id": "d479dbad-471c-45ad-8e20-9162eb87ee5c",
   "metadata": {},
   "outputs": [
    {
     "data": {
      "text/html": [
       "<div>\n",
       "<style scoped>\n",
       "    .dataframe tbody tr th:only-of-type {\n",
       "        vertical-align: middle;\n",
       "    }\n",
       "\n",
       "    .dataframe tbody tr th {\n",
       "        vertical-align: top;\n",
       "    }\n",
       "\n",
       "    .dataframe thead th {\n",
       "        text-align: right;\n",
       "    }\n",
       "</style>\n",
       "<table border=\"1\" class=\"dataframe\">\n",
       "  <thead>\n",
       "    <tr style=\"text-align: right;\">\n",
       "      <th></th>\n",
       "      <th>stuNum</th>\n",
       "      <th>jeungong</th>\n",
       "      <th>grade</th>\n",
       "    </tr>\n",
       "  </thead>\n",
       "  <tbody>\n",
       "    <tr>\n",
       "      <th>park</th>\n",
       "      <td>20234311</td>\n",
       "      <td>전자공학</td>\n",
       "      <td>2</td>\n",
       "    </tr>\n",
       "  </tbody>\n",
       "</table>\n",
       "</div>"
      ],
      "text/plain": [
       "        stuNum jeungong  grade\n",
       "park  20234311     전자공학      2"
      ]
     },
     "execution_count": 184,
     "metadata": {},
     "output_type": "execute_result"
    }
   ],
   "source": [
    "df_copy.drop('lee', axis=0)"
   ]
  },
  {
   "cell_type": "markdown",
   "id": "6d8f26fc-dc4e-4269-a09e-967ff96241cf",
   "metadata": {},
   "source": [
    "#### 행선택!!! 매우 중요"
   ]
  },
  {
   "cell_type": "code",
   "execution_count": 189,
   "id": "ba29c0c1-73cc-4b0d-8b25-10a33f20fe9d",
   "metadata": {},
   "outputs": [
    {
     "data": {
      "text/html": [
       "<div>\n",
       "<style scoped>\n",
       "    .dataframe tbody tr th:only-of-type {\n",
       "        vertical-align: middle;\n",
       "    }\n",
       "\n",
       "    .dataframe tbody tr th {\n",
       "        vertical-align: top;\n",
       "    }\n",
       "\n",
       "    .dataframe thead th {\n",
       "        text-align: right;\n",
       "    }\n",
       "</style>\n",
       "<table border=\"1\" class=\"dataframe\">\n",
       "  <thead>\n",
       "    <tr style=\"text-align: right;\">\n",
       "      <th></th>\n",
       "      <th>stuNum</th>\n",
       "      <th>jeungong</th>\n",
       "      <th>grade</th>\n",
       "    </tr>\n",
       "  </thead>\n",
       "  <tbody>\n",
       "    <tr>\n",
       "      <th>lee</th>\n",
       "      <td>20244943</td>\n",
       "      <td>컴퓨터공학</td>\n",
       "      <td>1</td>\n",
       "    </tr>\n",
       "    <tr>\n",
       "      <th>park</th>\n",
       "      <td>20234311</td>\n",
       "      <td>전자공학</td>\n",
       "      <td>2</td>\n",
       "    </tr>\n",
       "  </tbody>\n",
       "</table>\n",
       "</div>"
      ],
      "text/plain": [
       "        stuNum jeungong  grade\n",
       "lee   20244943    컴퓨터공학      1\n",
       "park  20234311     전자공학      2"
      ]
     },
     "execution_count": 189,
     "metadata": {},
     "output_type": "execute_result"
    }
   ],
   "source": [
    "df"
   ]
  },
  {
   "cell_type": "code",
   "execution_count": 195,
   "id": "d8912f31-78db-4bb3-99a8-79a16301f898",
   "metadata": {},
   "outputs": [
    {
     "data": {
      "text/html": [
       "<div>\n",
       "<style scoped>\n",
       "    .dataframe tbody tr th:only-of-type {\n",
       "        vertical-align: middle;\n",
       "    }\n",
       "\n",
       "    .dataframe tbody tr th {\n",
       "        vertical-align: top;\n",
       "    }\n",
       "\n",
       "    .dataframe thead th {\n",
       "        text-align: right;\n",
       "    }\n",
       "</style>\n",
       "<table border=\"1\" class=\"dataframe\">\n",
       "  <thead>\n",
       "    <tr style=\"text-align: right;\">\n",
       "      <th></th>\n",
       "      <th>stuNum</th>\n",
       "      <th>jeungong</th>\n",
       "      <th>grade</th>\n",
       "    </tr>\n",
       "  </thead>\n",
       "  <tbody>\n",
       "    <tr>\n",
       "      <th>lee</th>\n",
       "      <td>20244943</td>\n",
       "      <td>컴퓨터공학</td>\n",
       "      <td>1</td>\n",
       "    </tr>\n",
       "    <tr>\n",
       "      <th>park</th>\n",
       "      <td>20234311</td>\n",
       "      <td>전자공학</td>\n",
       "      <td>2</td>\n",
       "    </tr>\n",
       "  </tbody>\n",
       "</table>\n",
       "</div>"
      ],
      "text/plain": [
       "        stuNum jeungong  grade\n",
       "lee   20244943    컴퓨터공학      1\n",
       "park  20234311     전자공학      2"
      ]
     },
     "execution_count": 195,
     "metadata": {},
     "output_type": "execute_result"
    }
   ],
   "source": [
    "df.loc['lee':'park'] # 인덱스로 출력 하나일 경우 Seriese로 출력됨"
   ]
  },
  {
   "cell_type": "code",
   "execution_count": 209,
   "id": "784e98e6-9fbe-4c5a-b2ca-79762e5d779f",
   "metadata": {},
   "outputs": [
    {
     "data": {
      "text/html": [
       "<div>\n",
       "<style scoped>\n",
       "    .dataframe tbody tr th:only-of-type {\n",
       "        vertical-align: middle;\n",
       "    }\n",
       "\n",
       "    .dataframe tbody tr th {\n",
       "        vertical-align: top;\n",
       "    }\n",
       "\n",
       "    .dataframe thead th {\n",
       "        text-align: right;\n",
       "    }\n",
       "</style>\n",
       "<table border=\"1\" class=\"dataframe\">\n",
       "  <thead>\n",
       "    <tr style=\"text-align: right;\">\n",
       "      <th></th>\n",
       "      <th>stuNum</th>\n",
       "      <th>jeungong</th>\n",
       "      <th>grade</th>\n",
       "    </tr>\n",
       "  </thead>\n",
       "  <tbody>\n",
       "    <tr>\n",
       "      <th>lee</th>\n",
       "      <td>20244943</td>\n",
       "      <td>컴퓨터공학</td>\n",
       "      <td>1</td>\n",
       "    </tr>\n",
       "    <tr>\n",
       "      <th>park</th>\n",
       "      <td>20234311</td>\n",
       "      <td>전자공학</td>\n",
       "      <td>2</td>\n",
       "    </tr>\n",
       "  </tbody>\n",
       "</table>\n",
       "</div>"
      ],
      "text/plain": [
       "        stuNum jeungong  grade\n",
       "lee   20244943    컴퓨터공학      1\n",
       "park  20234311     전자공학      2"
      ]
     },
     "execution_count": 209,
     "metadata": {},
     "output_type": "execute_result"
    }
   ],
   "source": [
    "df.iloc[0:2]  # 인덱스를 정수로 전환하여 출력"
   ]
  },
  {
   "cell_type": "code",
   "execution_count": 219,
   "id": "5ce3f044-3109-474d-8871-f09400149193",
   "metadata": {},
   "outputs": [
    {
     "data": {
      "text/html": [
       "<div>\n",
       "<style scoped>\n",
       "    .dataframe tbody tr th:only-of-type {\n",
       "        vertical-align: middle;\n",
       "    }\n",
       "\n",
       "    .dataframe tbody tr th {\n",
       "        vertical-align: top;\n",
       "    }\n",
       "\n",
       "    .dataframe thead th {\n",
       "        text-align: right;\n",
       "    }\n",
       "</style>\n",
       "<table border=\"1\" class=\"dataframe\">\n",
       "  <thead>\n",
       "    <tr style=\"text-align: right;\">\n",
       "      <th></th>\n",
       "      <th>jeungong</th>\n",
       "      <th>grade</th>\n",
       "    </tr>\n",
       "  </thead>\n",
       "  <tbody>\n",
       "    <tr>\n",
       "      <th>lee</th>\n",
       "      <td>컴퓨터공학</td>\n",
       "      <td>1</td>\n",
       "    </tr>\n",
       "    <tr>\n",
       "      <th>park</th>\n",
       "      <td>전자공학</td>\n",
       "      <td>2</td>\n",
       "    </tr>\n",
       "  </tbody>\n",
       "</table>\n",
       "</div>"
      ],
      "text/plain": [
       "     jeungong  grade\n",
       "lee     컴퓨터공학      1\n",
       "park     전자공학      2"
      ]
     },
     "execution_count": 219,
     "metadata": {},
     "output_type": "execute_result"
    }
   ],
   "source": [
    "df[['jeungong', 'grade']]  # 다수의 열을 출력"
   ]
  },
  {
   "cell_type": "code",
   "execution_count": 221,
   "id": "c1cd3d36-f5ae-412d-84d5-587493ddfd80",
   "metadata": {},
   "outputs": [
    {
     "data": {
      "text/html": [
       "<div>\n",
       "<style scoped>\n",
       "    .dataframe tbody tr th:only-of-type {\n",
       "        vertical-align: middle;\n",
       "    }\n",
       "\n",
       "    .dataframe tbody tr th {\n",
       "        vertical-align: top;\n",
       "    }\n",
       "\n",
       "    .dataframe thead th {\n",
       "        text-align: right;\n",
       "    }\n",
       "</style>\n",
       "<table border=\"1\" class=\"dataframe\">\n",
       "  <thead>\n",
       "    <tr style=\"text-align: right;\">\n",
       "      <th></th>\n",
       "      <th>grade</th>\n",
       "    </tr>\n",
       "  </thead>\n",
       "  <tbody>\n",
       "    <tr>\n",
       "      <th>lee</th>\n",
       "      <td>1</td>\n",
       "    </tr>\n",
       "    <tr>\n",
       "      <th>park</th>\n",
       "      <td>2</td>\n",
       "    </tr>\n",
       "  </tbody>\n",
       "</table>\n",
       "</div>"
      ],
      "text/plain": [
       "      grade\n",
       "lee       1\n",
       "park      2"
      ]
     },
     "execution_count": 221,
     "metadata": {},
     "output_type": "execute_result"
    }
   ],
   "source": [
    "df[['grade']]"
   ]
  },
  {
   "cell_type": "code",
   "execution_count": 235,
   "id": "ec5de773-6859-44ea-b968-246dcc577fd3",
   "metadata": {},
   "outputs": [
    {
     "data": {
      "text/html": [
       "<div>\n",
       "<style scoped>\n",
       "    .dataframe tbody tr th:only-of-type {\n",
       "        vertical-align: middle;\n",
       "    }\n",
       "\n",
       "    .dataframe tbody tr th {\n",
       "        vertical-align: top;\n",
       "    }\n",
       "\n",
       "    .dataframe thead th {\n",
       "        text-align: right;\n",
       "    }\n",
       "</style>\n",
       "<table border=\"1\" class=\"dataframe\">\n",
       "  <thead>\n",
       "    <tr style=\"text-align: right;\">\n",
       "      <th></th>\n",
       "      <th>stuNum</th>\n",
       "      <th>jeungong</th>\n",
       "      <th>grade</th>\n",
       "    </tr>\n",
       "  </thead>\n",
       "  <tbody>\n",
       "    <tr>\n",
       "      <th>lee</th>\n",
       "      <td>20244943</td>\n",
       "      <td>컴퓨터공학</td>\n",
       "      <td>1</td>\n",
       "    </tr>\n",
       "    <tr>\n",
       "      <th>park</th>\n",
       "      <td>20234311</td>\n",
       "      <td>전자공학</td>\n",
       "      <td>2</td>\n",
       "    </tr>\n",
       "  </tbody>\n",
       "</table>\n",
       "</div>"
      ],
      "text/plain": [
       "        stuNum jeungong  grade\n",
       "lee   20244943    컴퓨터공학      1\n",
       "park  20234311     전자공학      2"
      ]
     },
     "execution_count": 235,
     "metadata": {},
     "output_type": "execute_result"
    }
   ],
   "source": [
    "### 값으로 선택\n",
    "df\n"
   ]
  },
  {
   "cell_type": "code",
   "execution_count": 245,
   "id": "8c7cd0f0-67e6-4988-9cd5-e593cf5de5db",
   "metadata": {},
   "outputs": [
    {
     "data": {
      "text/plain": [
       "stuNum      20234311\n",
       "jeungong        전자공학\n",
       "grade              2\n",
       "Name: park, dtype: object"
      ]
     },
     "execution_count": 245,
     "metadata": {},
     "output_type": "execute_result"
    }
   ],
   "source": [
    "df.loc['park', 'stuNum':'grade']"
   ]
  },
  {
   "cell_type": "code",
   "execution_count": 247,
   "id": "2cc96eaa-aabe-476d-988c-ac09a429c603",
   "metadata": {},
   "outputs": [
    {
     "data": {
      "text/html": [
       "<div>\n",
       "<style scoped>\n",
       "    .dataframe tbody tr th:only-of-type {\n",
       "        vertical-align: middle;\n",
       "    }\n",
       "\n",
       "    .dataframe tbody tr th {\n",
       "        vertical-align: top;\n",
       "    }\n",
       "\n",
       "    .dataframe thead th {\n",
       "        text-align: right;\n",
       "    }\n",
       "</style>\n",
       "<table border=\"1\" class=\"dataframe\">\n",
       "  <thead>\n",
       "    <tr style=\"text-align: right;\">\n",
       "      <th></th>\n",
       "      <th>stuNum</th>\n",
       "      <th>grade</th>\n",
       "    </tr>\n",
       "  </thead>\n",
       "  <tbody>\n",
       "    <tr>\n",
       "      <th>lee</th>\n",
       "      <td>20244943</td>\n",
       "      <td>1</td>\n",
       "    </tr>\n",
       "    <tr>\n",
       "      <th>park</th>\n",
       "      <td>20234311</td>\n",
       "      <td>2</td>\n",
       "    </tr>\n",
       "  </tbody>\n",
       "</table>\n",
       "</div>"
      ],
      "text/plain": [
       "        stuNum  grade\n",
       "lee   20244943      1\n",
       "park  20234311      2"
      ]
     },
     "execution_count": 247,
     "metadata": {},
     "output_type": "execute_result"
    }
   ],
   "source": [
    "df.loc[:, ['stuNum', 'grade']]"
   ]
  },
  {
   "cell_type": "code",
   "execution_count": 253,
   "id": "90c2a439-82d2-4373-9de0-db888a1e87ea",
   "metadata": {},
   "outputs": [
    {
     "data": {
      "text/html": [
       "<div>\n",
       "<style scoped>\n",
       "    .dataframe tbody tr th:only-of-type {\n",
       "        vertical-align: middle;\n",
       "    }\n",
       "\n",
       "    .dataframe tbody tr th {\n",
       "        vertical-align: top;\n",
       "    }\n",
       "\n",
       "    .dataframe thead th {\n",
       "        text-align: right;\n",
       "    }\n",
       "</style>\n",
       "<table border=\"1\" class=\"dataframe\">\n",
       "  <thead>\n",
       "    <tr style=\"text-align: right;\">\n",
       "      <th></th>\n",
       "      <th>stuNum</th>\n",
       "      <th>jeungong</th>\n",
       "      <th>grade</th>\n",
       "    </tr>\n",
       "  </thead>\n",
       "  <tbody>\n",
       "    <tr>\n",
       "      <th>park</th>\n",
       "      <td>20234311</td>\n",
       "      <td>전자공학</td>\n",
       "      <td>2</td>\n",
       "    </tr>\n",
       "  </tbody>\n",
       "</table>\n",
       "</div>"
      ],
      "text/plain": [
       "        stuNum jeungong  grade\n",
       "park  20234311     전자공학      2"
      ]
     },
     "execution_count": 253,
     "metadata": {},
     "output_type": "execute_result"
    }
   ],
   "source": [
    "### 조건문\n",
    "df[df['grade'] > 1]"
   ]
  },
  {
   "cell_type": "code",
   "execution_count": 261,
   "id": "ca6184ec-e2a7-4d8d-9fa2-2ddfa2c2560b",
   "metadata": {},
   "outputs": [
    {
     "data": {
      "text/html": [
       "<div>\n",
       "<style scoped>\n",
       "    .dataframe tbody tr th:only-of-type {\n",
       "        vertical-align: middle;\n",
       "    }\n",
       "\n",
       "    .dataframe tbody tr th {\n",
       "        vertical-align: top;\n",
       "    }\n",
       "\n",
       "    .dataframe thead th {\n",
       "        text-align: right;\n",
       "    }\n",
       "</style>\n",
       "<table border=\"1\" class=\"dataframe\">\n",
       "  <thead>\n",
       "    <tr style=\"text-align: right;\">\n",
       "      <th></th>\n",
       "      <th>stuNum</th>\n",
       "      <th>jeungong</th>\n",
       "      <th>grade</th>\n",
       "    </tr>\n",
       "  </thead>\n",
       "  <tbody>\n",
       "    <tr>\n",
       "      <th>lee</th>\n",
       "      <td>20244943</td>\n",
       "      <td>컴퓨터공학</td>\n",
       "      <td>1</td>\n",
       "    </tr>\n",
       "  </tbody>\n",
       "</table>\n",
       "</div>"
      ],
      "text/plain": [
       "       stuNum jeungong  grade\n",
       "lee  20244943    컴퓨터공학      1"
      ]
     },
     "execution_count": 261,
     "metadata": {},
     "output_type": "execute_result"
    }
   ],
   "source": [
    "df[df['jeungong'].isin(['컴퓨터공학'])]"
   ]
  },
  {
   "cell_type": "markdown",
   "id": "439ece0a-2914-49ab-9e8d-693cfb8d29de",
   "metadata": {},
   "source": [
    "#### column, row 추가"
   ]
  },
  {
   "cell_type": "code",
   "execution_count": 401,
   "id": "4b41778e-5c40-4648-b8cf-3dd4d1d3d52f",
   "metadata": {},
   "outputs": [],
   "source": [
    "df['age'] = 20"
   ]
  },
  {
   "cell_type": "code",
   "execution_count": 403,
   "id": "aa09e336-1bf9-44b5-9aa9-34c30d9c3081",
   "metadata": {},
   "outputs": [
    {
     "data": {
      "text/html": [
       "<div>\n",
       "<style scoped>\n",
       "    .dataframe tbody tr th:only-of-type {\n",
       "        vertical-align: middle;\n",
       "    }\n",
       "\n",
       "    .dataframe tbody tr th {\n",
       "        vertical-align: top;\n",
       "    }\n",
       "\n",
       "    .dataframe thead th {\n",
       "        text-align: right;\n",
       "    }\n",
       "</style>\n",
       "<table border=\"1\" class=\"dataframe\">\n",
       "  <thead>\n",
       "    <tr style=\"text-align: right;\">\n",
       "      <th></th>\n",
       "      <th>이름</th>\n",
       "      <th>국어</th>\n",
       "      <th>영어</th>\n",
       "      <th>수학</th>\n",
       "      <th>코딩</th>\n",
       "      <th>코딩등급</th>\n",
       "      <th>age</th>\n",
       "    </tr>\n",
       "  </thead>\n",
       "  <tbody>\n",
       "    <tr>\n",
       "      <th>0</th>\n",
       "      <td>kim</td>\n",
       "      <td>95</td>\n",
       "      <td>65</td>\n",
       "      <td>75</td>\n",
       "      <td>78</td>\n",
       "      <td>C</td>\n",
       "      <td>20</td>\n",
       "    </tr>\n",
       "    <tr>\n",
       "      <th>1</th>\n",
       "      <td>lee</td>\n",
       "      <td>88</td>\n",
       "      <td>78</td>\n",
       "      <td>88</td>\n",
       "      <td>88</td>\n",
       "      <td>B</td>\n",
       "      <td>20</td>\n",
       "    </tr>\n",
       "    <tr>\n",
       "      <th>2</th>\n",
       "      <td>park</td>\n",
       "      <td>74</td>\n",
       "      <td>98</td>\n",
       "      <td>96</td>\n",
       "      <td>89</td>\n",
       "      <td>B</td>\n",
       "      <td>20</td>\n",
       "    </tr>\n",
       "    <tr>\n",
       "      <th>3</th>\n",
       "      <td>choi</td>\n",
       "      <td>87</td>\n",
       "      <td>78</td>\n",
       "      <td>98</td>\n",
       "      <td>96</td>\n",
       "      <td>A</td>\n",
       "      <td>20</td>\n",
       "    </tr>\n",
       "  </tbody>\n",
       "</table>\n",
       "</div>"
      ],
      "text/plain": [
       "     이름  국어  영어  수학  코딩 코딩등급  age\n",
       "0   kim  95  65  75  78    C   20\n",
       "1   lee  88  78  88  88    B   20\n",
       "2  park  74  98  96  89    B   20\n",
       "3  choi  87  78  98  96    A   20"
      ]
     },
     "execution_count": 403,
     "metadata": {},
     "output_type": "execute_result"
    }
   ],
   "source": [
    "df"
   ]
  },
  {
   "cell_type": "code",
   "execution_count": 268,
   "id": "9843b1f2-d702-43fe-9b0a-7f0b53f5fb86",
   "metadata": {},
   "outputs": [],
   "source": [
    "df.loc['jo'] = [202148611, '경제학', 3, 22]"
   ]
  },
  {
   "cell_type": "code",
   "execution_count": 270,
   "id": "04efa68b-241d-4de1-8398-811fc0970f95",
   "metadata": {},
   "outputs": [
    {
     "data": {
      "text/html": [
       "<div>\n",
       "<style scoped>\n",
       "    .dataframe tbody tr th:only-of-type {\n",
       "        vertical-align: middle;\n",
       "    }\n",
       "\n",
       "    .dataframe tbody tr th {\n",
       "        vertical-align: top;\n",
       "    }\n",
       "\n",
       "    .dataframe thead th {\n",
       "        text-align: right;\n",
       "    }\n",
       "</style>\n",
       "<table border=\"1\" class=\"dataframe\">\n",
       "  <thead>\n",
       "    <tr style=\"text-align: right;\">\n",
       "      <th></th>\n",
       "      <th>stuNum</th>\n",
       "      <th>jeungong</th>\n",
       "      <th>grade</th>\n",
       "      <th>age</th>\n",
       "    </tr>\n",
       "  </thead>\n",
       "  <tbody>\n",
       "    <tr>\n",
       "      <th>lee</th>\n",
       "      <td>20244943</td>\n",
       "      <td>컴퓨터공학</td>\n",
       "      <td>1</td>\n",
       "      <td>20</td>\n",
       "    </tr>\n",
       "    <tr>\n",
       "      <th>park</th>\n",
       "      <td>20234311</td>\n",
       "      <td>전자공학</td>\n",
       "      <td>2</td>\n",
       "      <td>20</td>\n",
       "    </tr>\n",
       "    <tr>\n",
       "      <th>jo</th>\n",
       "      <td>202148611</td>\n",
       "      <td>경제학</td>\n",
       "      <td>3</td>\n",
       "      <td>22</td>\n",
       "    </tr>\n",
       "  </tbody>\n",
       "</table>\n",
       "</div>"
      ],
      "text/plain": [
       "         stuNum jeungong  grade  age\n",
       "lee    20244943    컴퓨터공학      1   20\n",
       "park   20234311     전자공학      2   20\n",
       "jo    202148611      경제학      3   22"
      ]
     },
     "execution_count": 270,
     "metadata": {},
     "output_type": "execute_result"
    }
   ],
   "source": [
    "df"
   ]
  },
  {
   "cell_type": "code",
   "execution_count": 272,
   "id": "6eec3fc4-0f77-4340-96dd-dc1a9213aa4f",
   "metadata": {},
   "outputs": [],
   "source": [
    "df.loc['jo','grade'] = 1"
   ]
  },
  {
   "cell_type": "code",
   "execution_count": 274,
   "id": "5c9f6667-3388-4d53-858d-279c2a925da6",
   "metadata": {},
   "outputs": [
    {
     "data": {
      "text/html": [
       "<div>\n",
       "<style scoped>\n",
       "    .dataframe tbody tr th:only-of-type {\n",
       "        vertical-align: middle;\n",
       "    }\n",
       "\n",
       "    .dataframe tbody tr th {\n",
       "        vertical-align: top;\n",
       "    }\n",
       "\n",
       "    .dataframe thead th {\n",
       "        text-align: right;\n",
       "    }\n",
       "</style>\n",
       "<table border=\"1\" class=\"dataframe\">\n",
       "  <thead>\n",
       "    <tr style=\"text-align: right;\">\n",
       "      <th></th>\n",
       "      <th>stuNum</th>\n",
       "      <th>jeungong</th>\n",
       "      <th>grade</th>\n",
       "      <th>age</th>\n",
       "    </tr>\n",
       "  </thead>\n",
       "  <tbody>\n",
       "    <tr>\n",
       "      <th>lee</th>\n",
       "      <td>20244943</td>\n",
       "      <td>컴퓨터공학</td>\n",
       "      <td>1</td>\n",
       "      <td>20</td>\n",
       "    </tr>\n",
       "    <tr>\n",
       "      <th>park</th>\n",
       "      <td>20234311</td>\n",
       "      <td>전자공학</td>\n",
       "      <td>2</td>\n",
       "      <td>20</td>\n",
       "    </tr>\n",
       "    <tr>\n",
       "      <th>jo</th>\n",
       "      <td>202148611</td>\n",
       "      <td>경제학</td>\n",
       "      <td>1</td>\n",
       "      <td>22</td>\n",
       "    </tr>\n",
       "  </tbody>\n",
       "</table>\n",
       "</div>"
      ],
      "text/plain": [
       "         stuNum jeungong  grade  age\n",
       "lee    20244943    컴퓨터공학      1   20\n",
       "park   20234311     전자공학      2   20\n",
       "jo    202148611      경제학      1   22"
      ]
     },
     "execution_count": 274,
     "metadata": {},
     "output_type": "execute_result"
    }
   ],
   "source": [
    "df"
   ]
  },
  {
   "cell_type": "code",
   "execution_count": 282,
   "id": "12d0387d-5647-4a27-9581-af6d3c2d8148",
   "metadata": {},
   "outputs": [
    {
     "data": {
      "text/html": [
       "<div>\n",
       "<style scoped>\n",
       "    .dataframe tbody tr th:only-of-type {\n",
       "        vertical-align: middle;\n",
       "    }\n",
       "\n",
       "    .dataframe tbody tr th {\n",
       "        vertical-align: top;\n",
       "    }\n",
       "\n",
       "    .dataframe thead th {\n",
       "        text-align: right;\n",
       "    }\n",
       "</style>\n",
       "<table border=\"1\" class=\"dataframe\">\n",
       "  <thead>\n",
       "    <tr style=\"text-align: right;\">\n",
       "      <th></th>\n",
       "      <th>lee</th>\n",
       "      <th>park</th>\n",
       "      <th>jo</th>\n",
       "    </tr>\n",
       "  </thead>\n",
       "  <tbody>\n",
       "    <tr>\n",
       "      <th>stuNum</th>\n",
       "      <td>20244943</td>\n",
       "      <td>20234311</td>\n",
       "      <td>202148611</td>\n",
       "    </tr>\n",
       "    <tr>\n",
       "      <th>jeungong</th>\n",
       "      <td>컴퓨터공학</td>\n",
       "      <td>전자공학</td>\n",
       "      <td>경제학</td>\n",
       "    </tr>\n",
       "    <tr>\n",
       "      <th>grade</th>\n",
       "      <td>1</td>\n",
       "      <td>2</td>\n",
       "      <td>1</td>\n",
       "    </tr>\n",
       "    <tr>\n",
       "      <th>age</th>\n",
       "      <td>20</td>\n",
       "      <td>20</td>\n",
       "      <td>22</td>\n",
       "    </tr>\n",
       "  </tbody>\n",
       "</table>\n",
       "</div>"
      ],
      "text/plain": [
       "               lee      park         jo\n",
       "stuNum    20244943  20234311  202148611\n",
       "jeungong     컴퓨터공학      전자공학        경제학\n",
       "grade            1         2          1\n",
       "age             20        20         22"
      ]
     },
     "execution_count": 282,
     "metadata": {},
     "output_type": "execute_result"
    }
   ],
   "source": [
    "# df.transpose().loc['stuNum']\n",
    "df.T"
   ]
  },
  {
   "cell_type": "markdown",
   "id": "08026ad5-1a73-4b9b-8531-3945aca193ea",
   "metadata": {},
   "source": [
    "#### index 활용\n"
   ]
  },
  {
   "cell_type": "code",
   "execution_count": 303,
   "id": "4d8f99c5-e730-40f0-a237-2ec4b08444bb",
   "metadata": {},
   "outputs": [],
   "source": [
    "dic = {'이름': ['kim','lee','park','choi'],\n",
    "       '국어':[95,88,74,87], \n",
    "       '영어':[65,78,98,78], \n",
    "       '수학':[75,88,96,98], \n",
    "       '코딩':[78,88,89,96]}\n",
    "\n",
    "df = pd.DataFrame(dic)"
   ]
  },
  {
   "cell_type": "code",
   "execution_count": 287,
   "id": "b4d271c3-7980-4f50-95d2-8e50ae25d767",
   "metadata": {},
   "outputs": [
    {
     "data": {
      "text/html": [
       "<div>\n",
       "<style scoped>\n",
       "    .dataframe tbody tr th:only-of-type {\n",
       "        vertical-align: middle;\n",
       "    }\n",
       "\n",
       "    .dataframe tbody tr th {\n",
       "        vertical-align: top;\n",
       "    }\n",
       "\n",
       "    .dataframe thead th {\n",
       "        text-align: right;\n",
       "    }\n",
       "</style>\n",
       "<table border=\"1\" class=\"dataframe\">\n",
       "  <thead>\n",
       "    <tr style=\"text-align: right;\">\n",
       "      <th></th>\n",
       "      <th>이름</th>\n",
       "      <th>국어</th>\n",
       "      <th>영어</th>\n",
       "      <th>수학</th>\n",
       "      <th>코딩</th>\n",
       "    </tr>\n",
       "  </thead>\n",
       "  <tbody>\n",
       "    <tr>\n",
       "      <th>0</th>\n",
       "      <td>kim</td>\n",
       "      <td>95</td>\n",
       "      <td>65</td>\n",
       "      <td>75</td>\n",
       "      <td>78</td>\n",
       "    </tr>\n",
       "    <tr>\n",
       "      <th>1</th>\n",
       "      <td>lee</td>\n",
       "      <td>88</td>\n",
       "      <td>78</td>\n",
       "      <td>88</td>\n",
       "      <td>88</td>\n",
       "    </tr>\n",
       "    <tr>\n",
       "      <th>2</th>\n",
       "      <td>park</td>\n",
       "      <td>74</td>\n",
       "      <td>98</td>\n",
       "      <td>96</td>\n",
       "      <td>89</td>\n",
       "    </tr>\n",
       "    <tr>\n",
       "      <th>3</th>\n",
       "      <td>choi</td>\n",
       "      <td>87</td>\n",
       "      <td>78</td>\n",
       "      <td>98</td>\n",
       "      <td>96</td>\n",
       "    </tr>\n",
       "  </tbody>\n",
       "</table>\n",
       "</div>"
      ],
      "text/plain": [
       "     이름  국어  영어  수학  코딩\n",
       "0   kim  95  65  75  78\n",
       "1   lee  88  78  88  88\n",
       "2  park  74  98  96  89\n",
       "3  choi  87  78  98  96"
      ]
     },
     "execution_count": 287,
     "metadata": {},
     "output_type": "execute_result"
    }
   ],
   "source": [
    "df"
   ]
  },
  {
   "cell_type": "code",
   "execution_count": 305,
   "id": "681330da-5fa8-4f5d-b4a0-f58ce1d61ca2",
   "metadata": {},
   "outputs": [
    {
     "data": {
      "text/html": [
       "<div>\n",
       "<style scoped>\n",
       "    .dataframe tbody tr th:only-of-type {\n",
       "        vertical-align: middle;\n",
       "    }\n",
       "\n",
       "    .dataframe tbody tr th {\n",
       "        vertical-align: top;\n",
       "    }\n",
       "\n",
       "    .dataframe thead th {\n",
       "        text-align: right;\n",
       "    }\n",
       "</style>\n",
       "<table border=\"1\" class=\"dataframe\">\n",
       "  <thead>\n",
       "    <tr style=\"text-align: right;\">\n",
       "      <th></th>\n",
       "      <th>국어</th>\n",
       "      <th>영어</th>\n",
       "      <th>수학</th>\n",
       "      <th>코딩</th>\n",
       "    </tr>\n",
       "    <tr>\n",
       "      <th>이름</th>\n",
       "      <th></th>\n",
       "      <th></th>\n",
       "      <th></th>\n",
       "      <th></th>\n",
       "    </tr>\n",
       "  </thead>\n",
       "  <tbody>\n",
       "    <tr>\n",
       "      <th>kim</th>\n",
       "      <td>95</td>\n",
       "      <td>65</td>\n",
       "      <td>75</td>\n",
       "      <td>78</td>\n",
       "    </tr>\n",
       "    <tr>\n",
       "      <th>lee</th>\n",
       "      <td>88</td>\n",
       "      <td>78</td>\n",
       "      <td>88</td>\n",
       "      <td>88</td>\n",
       "    </tr>\n",
       "    <tr>\n",
       "      <th>park</th>\n",
       "      <td>74</td>\n",
       "      <td>98</td>\n",
       "      <td>96</td>\n",
       "      <td>89</td>\n",
       "    </tr>\n",
       "    <tr>\n",
       "      <th>choi</th>\n",
       "      <td>87</td>\n",
       "      <td>78</td>\n",
       "      <td>98</td>\n",
       "      <td>96</td>\n",
       "    </tr>\n",
       "  </tbody>\n",
       "</table>\n",
       "</div>"
      ],
      "text/plain": [
       "      국어  영어  수학  코딩\n",
       "이름                  \n",
       "kim   95  65  75  78\n",
       "lee   88  78  88  88\n",
       "park  74  98  96  89\n",
       "choi  87  78  98  96"
      ]
     },
     "execution_count": 305,
     "metadata": {},
     "output_type": "execute_result"
    }
   ],
   "source": [
    "df.set_index('이름', inplace=False) # 아랫쪽으로 내려간 컬럼은 인덱스임\n",
    "# 주의 : 만약 인덱스를 바꿀경우 기존의 인덱스는 지워짐\n"
   ]
  },
  {
   "cell_type": "code",
   "execution_count": 299,
   "id": "15abc663-3de3-4372-bd30-efa7a4ef0b15",
   "metadata": {},
   "outputs": [
    {
     "data": {
      "text/plain": [
       "Index(['kim', 'lee', 'park', 'choi'], dtype='object', name='이름')"
      ]
     },
     "execution_count": 299,
     "metadata": {},
     "output_type": "execute_result"
    }
   ],
   "source": [
    "df.index"
   ]
  },
  {
   "cell_type": "code",
   "execution_count": 307,
   "id": "6bb8f317-c325-4346-b426-dc988d5ddbf9",
   "metadata": {},
   "outputs": [
    {
     "data": {
      "text/html": [
       "<div>\n",
       "<style scoped>\n",
       "    .dataframe tbody tr th:only-of-type {\n",
       "        vertical-align: middle;\n",
       "    }\n",
       "\n",
       "    .dataframe tbody tr th {\n",
       "        vertical-align: top;\n",
       "    }\n",
       "\n",
       "    .dataframe thead th {\n",
       "        text-align: right;\n",
       "    }\n",
       "</style>\n",
       "<table border=\"1\" class=\"dataframe\">\n",
       "  <thead>\n",
       "    <tr style=\"text-align: right;\">\n",
       "      <th></th>\n",
       "      <th></th>\n",
       "      <th>이름</th>\n",
       "      <th>국어</th>\n",
       "      <th>코딩</th>\n",
       "    </tr>\n",
       "    <tr>\n",
       "      <th>영어</th>\n",
       "      <th>수학</th>\n",
       "      <th></th>\n",
       "      <th></th>\n",
       "      <th></th>\n",
       "    </tr>\n",
       "  </thead>\n",
       "  <tbody>\n",
       "    <tr>\n",
       "      <th>65</th>\n",
       "      <th>75</th>\n",
       "      <td>kim</td>\n",
       "      <td>95</td>\n",
       "      <td>78</td>\n",
       "    </tr>\n",
       "    <tr>\n",
       "      <th>78</th>\n",
       "      <th>88</th>\n",
       "      <td>lee</td>\n",
       "      <td>88</td>\n",
       "      <td>88</td>\n",
       "    </tr>\n",
       "    <tr>\n",
       "      <th>98</th>\n",
       "      <th>96</th>\n",
       "      <td>park</td>\n",
       "      <td>74</td>\n",
       "      <td>89</td>\n",
       "    </tr>\n",
       "    <tr>\n",
       "      <th>78</th>\n",
       "      <th>98</th>\n",
       "      <td>choi</td>\n",
       "      <td>87</td>\n",
       "      <td>96</td>\n",
       "    </tr>\n",
       "  </tbody>\n",
       "</table>\n",
       "</div>"
      ],
      "text/plain": [
       "         이름  국어  코딩\n",
       "영어 수학              \n",
       "65 75   kim  95  78\n",
       "78 88   lee  88  88\n",
       "98 96  park  74  89\n",
       "78 98  choi  87  96"
      ]
     },
     "execution_count": 307,
     "metadata": {},
     "output_type": "execute_result"
    }
   ],
   "source": [
    "df.set_index(['영어','수학']) #DynamoDB에서 이런 표현을 자주 쓴다"
   ]
  },
  {
   "cell_type": "code",
   "execution_count": 309,
   "id": "58397b15-9912-4d4c-9517-d1211e473a6a",
   "metadata": {},
   "outputs": [],
   "source": [
    "df2=df[:]"
   ]
  },
  {
   "cell_type": "code",
   "execution_count": 315,
   "id": "f5d11676-5736-4c62-89ba-c8208240cec5",
   "metadata": {},
   "outputs": [
    {
     "data": {
      "text/html": [
       "<div>\n",
       "<style scoped>\n",
       "    .dataframe tbody tr th:only-of-type {\n",
       "        vertical-align: middle;\n",
       "    }\n",
       "\n",
       "    .dataframe tbody tr th {\n",
       "        vertical-align: top;\n",
       "    }\n",
       "\n",
       "    .dataframe thead th {\n",
       "        text-align: right;\n",
       "    }\n",
       "</style>\n",
       "<table border=\"1\" class=\"dataframe\">\n",
       "  <thead>\n",
       "    <tr style=\"text-align: right;\">\n",
       "      <th></th>\n",
       "      <th>index</th>\n",
       "      <th>이름</th>\n",
       "      <th>국어</th>\n",
       "      <th>영어</th>\n",
       "      <th>수학</th>\n",
       "      <th>코딩</th>\n",
       "    </tr>\n",
       "  </thead>\n",
       "  <tbody>\n",
       "    <tr>\n",
       "      <th>0</th>\n",
       "      <td>0</td>\n",
       "      <td>kim</td>\n",
       "      <td>95</td>\n",
       "      <td>65</td>\n",
       "      <td>75</td>\n",
       "      <td>78</td>\n",
       "    </tr>\n",
       "    <tr>\n",
       "      <th>1</th>\n",
       "      <td>1</td>\n",
       "      <td>lee</td>\n",
       "      <td>88</td>\n",
       "      <td>78</td>\n",
       "      <td>88</td>\n",
       "      <td>88</td>\n",
       "    </tr>\n",
       "    <tr>\n",
       "      <th>2</th>\n",
       "      <td>2</td>\n",
       "      <td>park</td>\n",
       "      <td>74</td>\n",
       "      <td>98</td>\n",
       "      <td>96</td>\n",
       "      <td>89</td>\n",
       "    </tr>\n",
       "    <tr>\n",
       "      <th>3</th>\n",
       "      <td>3</td>\n",
       "      <td>choi</td>\n",
       "      <td>87</td>\n",
       "      <td>78</td>\n",
       "      <td>98</td>\n",
       "      <td>96</td>\n",
       "    </tr>\n",
       "  </tbody>\n",
       "</table>\n",
       "</div>"
      ],
      "text/plain": [
       "   index    이름  국어  영어  수학  코딩\n",
       "0      0   kim  95  65  75  78\n",
       "1      1   lee  88  78  88  88\n",
       "2      2  park  74  98  96  89\n",
       "3      3  choi  87  78  98  96"
      ]
     },
     "execution_count": 315,
     "metadata": {},
     "output_type": "execute_result"
    }
   ],
   "source": [
    "df2.reset_index()  # 다시 정수형 인덱스로 돌아가지만 기존에 있던 인덱스는 컬럼으로 변환 됨"
   ]
  },
  {
   "cell_type": "code",
   "execution_count": 319,
   "id": "e55b3a30-3a0c-4fc3-b5f3-7b3877dfb9ea",
   "metadata": {},
   "outputs": [
    {
     "data": {
      "text/html": [
       "<div>\n",
       "<style scoped>\n",
       "    .dataframe tbody tr th:only-of-type {\n",
       "        vertical-align: middle;\n",
       "    }\n",
       "\n",
       "    .dataframe tbody tr th {\n",
       "        vertical-align: top;\n",
       "    }\n",
       "\n",
       "    .dataframe thead th {\n",
       "        text-align: right;\n",
       "    }\n",
       "</style>\n",
       "<table border=\"1\" class=\"dataframe\">\n",
       "  <thead>\n",
       "    <tr style=\"text-align: right;\">\n",
       "      <th></th>\n",
       "      <th>이름</th>\n",
       "      <th>국어</th>\n",
       "      <th>영어</th>\n",
       "      <th>수학</th>\n",
       "      <th>코딩</th>\n",
       "    </tr>\n",
       "  </thead>\n",
       "  <tbody>\n",
       "    <tr>\n",
       "      <th>0</th>\n",
       "      <td>kim</td>\n",
       "      <td>95</td>\n",
       "      <td>65</td>\n",
       "      <td>75</td>\n",
       "      <td>78</td>\n",
       "    </tr>\n",
       "    <tr>\n",
       "      <th>1</th>\n",
       "      <td>lee</td>\n",
       "      <td>88</td>\n",
       "      <td>78</td>\n",
       "      <td>88</td>\n",
       "      <td>88</td>\n",
       "    </tr>\n",
       "    <tr>\n",
       "      <th>3</th>\n",
       "      <td>choi</td>\n",
       "      <td>87</td>\n",
       "      <td>78</td>\n",
       "      <td>98</td>\n",
       "      <td>96</td>\n",
       "    </tr>\n",
       "    <tr>\n",
       "      <th>2</th>\n",
       "      <td>park</td>\n",
       "      <td>74</td>\n",
       "      <td>98</td>\n",
       "      <td>96</td>\n",
       "      <td>89</td>\n",
       "    </tr>\n",
       "  </tbody>\n",
       "</table>\n",
       "</div>"
      ],
      "text/plain": [
       "     이름  국어  영어  수학  코딩\n",
       "0   kim  95  65  75  78\n",
       "1   lee  88  78  88  88\n",
       "3  choi  87  78  98  96\n",
       "2  park  74  98  96  89"
      ]
     },
     "execution_count": 319,
     "metadata": {},
     "output_type": "execute_result"
    }
   ],
   "source": [
    "df.sort_values(by='국어', ascending=False)"
   ]
  },
  {
   "cell_type": "markdown",
   "id": "85b817b5-d6d6-485e-84fe-04106b4d37fd",
   "metadata": {},
   "source": [
    "#### Aggregation 함수\n",
    "- DataFrame / Series에서 집합 연산을 수행\n",
    "- sum, max, min, mean(평균), count 등등\n",
    "- DataFrame에서 aggregation을 호출할 경우 모든 Column에 해당 aggregation을 적용\n",
    "     "
   ]
  },
  {
   "cell_type": "code",
   "execution_count": 330,
   "id": "b3c3e21c-ed3e-442c-8b6e-dd1f18db1785",
   "metadata": {},
   "outputs": [
    {
     "data": {
      "text/plain": [
       "국어    86.00\n",
       "영어    79.75\n",
       "수학    89.25\n",
       "코딩    87.75\n",
       "dtype: float64"
      ]
     },
     "execution_count": 330,
     "metadata": {},
     "output_type": "execute_result"
    }
   ],
   "source": [
    "df[['국어','영어','수학','코딩']].mean()"
   ]
  },
  {
   "cell_type": "markdown",
   "id": "32c8297e-ce94-4c1d-856c-e85832cdf653",
   "metadata": {},
   "source": [
    "#### Function mapping\n",
    "- Dataframe의 여러 column에 특정 함수를 적용시켜 데이터를 가공"
   ]
  },
  {
   "cell_type": "code",
   "execution_count": 333,
   "id": "10f68e0e-bbc6-41be-bd37-1f2f5fd91232",
   "metadata": {},
   "outputs": [
    {
     "data": {
      "text/html": [
       "<div>\n",
       "<style scoped>\n",
       "    .dataframe tbody tr th:only-of-type {\n",
       "        vertical-align: middle;\n",
       "    }\n",
       "\n",
       "    .dataframe tbody tr th {\n",
       "        vertical-align: top;\n",
       "    }\n",
       "\n",
       "    .dataframe thead th {\n",
       "        text-align: right;\n",
       "    }\n",
       "</style>\n",
       "<table border=\"1\" class=\"dataframe\">\n",
       "  <thead>\n",
       "    <tr style=\"text-align: right;\">\n",
       "      <th></th>\n",
       "      <th>이름</th>\n",
       "      <th>국어</th>\n",
       "      <th>영어</th>\n",
       "      <th>수학</th>\n",
       "      <th>코딩</th>\n",
       "    </tr>\n",
       "  </thead>\n",
       "  <tbody>\n",
       "    <tr>\n",
       "      <th>0</th>\n",
       "      <td>kim</td>\n",
       "      <td>95</td>\n",
       "      <td>65</td>\n",
       "      <td>75</td>\n",
       "      <td>78</td>\n",
       "    </tr>\n",
       "    <tr>\n",
       "      <th>1</th>\n",
       "      <td>lee</td>\n",
       "      <td>88</td>\n",
       "      <td>78</td>\n",
       "      <td>88</td>\n",
       "      <td>88</td>\n",
       "    </tr>\n",
       "    <tr>\n",
       "      <th>2</th>\n",
       "      <td>park</td>\n",
       "      <td>74</td>\n",
       "      <td>98</td>\n",
       "      <td>96</td>\n",
       "      <td>89</td>\n",
       "    </tr>\n",
       "    <tr>\n",
       "      <th>3</th>\n",
       "      <td>choi</td>\n",
       "      <td>87</td>\n",
       "      <td>78</td>\n",
       "      <td>98</td>\n",
       "      <td>96</td>\n",
       "    </tr>\n",
       "  </tbody>\n",
       "</table>\n",
       "</div>"
      ],
      "text/plain": [
       "     이름  국어  영어  수학  코딩\n",
       "0   kim  95  65  75  78\n",
       "1   lee  88  78  88  88\n",
       "2  park  74  98  96  89\n",
       "3  choi  87  78  98  96"
      ]
     },
     "execution_count": 333,
     "metadata": {},
     "output_type": "execute_result"
    }
   ],
   "source": [
    "df"
   ]
  },
  {
   "cell_type": "code",
   "execution_count": 336,
   "id": "916f1789-3751-4b2f-968c-0df3f45a6d25",
   "metadata": {},
   "outputs": [],
   "source": [
    "def func(x):\n",
    "    if x >= 90 :\n",
    "        return 'A'\n",
    "    elif x >= 80:\n",
    "        return 'B'\n",
    "    elif x >= 70:\n",
    "        return 'C'\n",
    "    else:\n",
    "        return 'D'"
   ]
  },
  {
   "cell_type": "code",
   "execution_count": 338,
   "id": "9da638d9-920a-450c-890c-5e2756862f10",
   "metadata": {},
   "outputs": [],
   "source": [
    "df['코딩등급'] = df['코딩'].apply(lambda x: func(x))"
   ]
  },
  {
   "cell_type": "code",
   "execution_count": 340,
   "id": "a25a9f55-71e9-4b0f-b6f8-a1da9a9ab93b",
   "metadata": {},
   "outputs": [
    {
     "data": {
      "text/html": [
       "<div>\n",
       "<style scoped>\n",
       "    .dataframe tbody tr th:only-of-type {\n",
       "        vertical-align: middle;\n",
       "    }\n",
       "\n",
       "    .dataframe tbody tr th {\n",
       "        vertical-align: top;\n",
       "    }\n",
       "\n",
       "    .dataframe thead th {\n",
       "        text-align: right;\n",
       "    }\n",
       "</style>\n",
       "<table border=\"1\" class=\"dataframe\">\n",
       "  <thead>\n",
       "    <tr style=\"text-align: right;\">\n",
       "      <th></th>\n",
       "      <th>이름</th>\n",
       "      <th>국어</th>\n",
       "      <th>영어</th>\n",
       "      <th>수학</th>\n",
       "      <th>코딩</th>\n",
       "      <th>코딩등급</th>\n",
       "    </tr>\n",
       "  </thead>\n",
       "  <tbody>\n",
       "    <tr>\n",
       "      <th>0</th>\n",
       "      <td>kim</td>\n",
       "      <td>95</td>\n",
       "      <td>65</td>\n",
       "      <td>75</td>\n",
       "      <td>78</td>\n",
       "      <td>C</td>\n",
       "    </tr>\n",
       "    <tr>\n",
       "      <th>1</th>\n",
       "      <td>lee</td>\n",
       "      <td>88</td>\n",
       "      <td>78</td>\n",
       "      <td>88</td>\n",
       "      <td>88</td>\n",
       "      <td>B</td>\n",
       "    </tr>\n",
       "    <tr>\n",
       "      <th>2</th>\n",
       "      <td>park</td>\n",
       "      <td>74</td>\n",
       "      <td>98</td>\n",
       "      <td>96</td>\n",
       "      <td>89</td>\n",
       "      <td>B</td>\n",
       "    </tr>\n",
       "    <tr>\n",
       "      <th>3</th>\n",
       "      <td>choi</td>\n",
       "      <td>87</td>\n",
       "      <td>78</td>\n",
       "      <td>98</td>\n",
       "      <td>96</td>\n",
       "      <td>A</td>\n",
       "    </tr>\n",
       "  </tbody>\n",
       "</table>\n",
       "</div>"
      ],
      "text/plain": [
       "     이름  국어  영어  수학  코딩 코딩등급\n",
       "0   kim  95  65  75  78    C\n",
       "1   lee  88  78  88  88    B\n",
       "2  park  74  98  96  89    B\n",
       "3  choi  87  78  98  96    A"
      ]
     },
     "execution_count": 340,
     "metadata": {},
     "output_type": "execute_result"
    }
   ],
   "source": [
    "df"
   ]
  },
  {
   "cell_type": "code",
   "execution_count": 344,
   "id": "a23f8110-9b01-4dd6-b314-eb5d088b6197",
   "metadata": {},
   "outputs": [
    {
     "data": {
      "text/plain": [
       "<function __main__.<lambda>(x)>"
      ]
     },
     "execution_count": 344,
     "metadata": {},
     "output_type": "execute_result"
    }
   ],
   "source": [
    "def func2(x) :\n",
    "    return x + 1\n",
    "\n",
    "lambda x : x + 1      #람다 문법"
   ]
  },
  {
   "cell_type": "code",
   "execution_count": 352,
   "id": "ecec7c5c-ccb9-4020-b04f-8a0a289ac2ac",
   "metadata": {},
   "outputs": [
    {
     "data": {
      "text/html": [
       "<div>\n",
       "<style scoped>\n",
       "    .dataframe tbody tr th:only-of-type {\n",
       "        vertical-align: middle;\n",
       "    }\n",
       "\n",
       "    .dataframe tbody tr th {\n",
       "        vertical-align: top;\n",
       "    }\n",
       "\n",
       "    .dataframe thead th {\n",
       "        text-align: right;\n",
       "    }\n",
       "</style>\n",
       "<table border=\"1\" class=\"dataframe\">\n",
       "  <thead>\n",
       "    <tr style=\"text-align: right;\">\n",
       "      <th></th>\n",
       "      <th>국어</th>\n",
       "      <th>코딩</th>\n",
       "    </tr>\n",
       "    <tr>\n",
       "      <th>코딩등급</th>\n",
       "      <th></th>\n",
       "      <th></th>\n",
       "    </tr>\n",
       "  </thead>\n",
       "  <tbody>\n",
       "    <tr>\n",
       "      <th>A</th>\n",
       "      <td>87.0</td>\n",
       "      <td>96.0</td>\n",
       "    </tr>\n",
       "    <tr>\n",
       "      <th>B</th>\n",
       "      <td>81.0</td>\n",
       "      <td>88.5</td>\n",
       "    </tr>\n",
       "    <tr>\n",
       "      <th>C</th>\n",
       "      <td>95.0</td>\n",
       "      <td>78.0</td>\n",
       "    </tr>\n",
       "  </tbody>\n",
       "</table>\n",
       "</div>"
      ],
      "text/plain": [
       "        국어    코딩\n",
       "코딩등급            \n",
       "A     87.0  96.0\n",
       "B     81.0  88.5\n",
       "C     95.0  78.0"
      ]
     },
     "execution_count": 352,
     "metadata": {},
     "output_type": "execute_result"
    }
   ],
   "source": [
    "# 그룹화\n",
    "df.groupby('코딩등급')[['국어','코딩']].mean()"
   ]
  },
  {
   "cell_type": "code",
   "execution_count": 348,
   "id": "666e2624-4151-4719-b360-d7dc8edcb6f2",
   "metadata": {},
   "outputs": [
    {
     "data": {
      "text/html": [
       "<div>\n",
       "<style scoped>\n",
       "    .dataframe tbody tr th:only-of-type {\n",
       "        vertical-align: middle;\n",
       "    }\n",
       "\n",
       "    .dataframe tbody tr th {\n",
       "        vertical-align: top;\n",
       "    }\n",
       "\n",
       "    .dataframe thead th {\n",
       "        text-align: right;\n",
       "    }\n",
       "</style>\n",
       "<table border=\"1\" class=\"dataframe\">\n",
       "  <thead>\n",
       "    <tr style=\"text-align: right;\">\n",
       "      <th></th>\n",
       "      <th>이름</th>\n",
       "      <th>국어</th>\n",
       "      <th>영어</th>\n",
       "      <th>수학</th>\n",
       "      <th>코딩</th>\n",
       "      <th>코딩등급</th>\n",
       "    </tr>\n",
       "  </thead>\n",
       "  <tbody>\n",
       "    <tr>\n",
       "      <th>0</th>\n",
       "      <td>kim</td>\n",
       "      <td>95</td>\n",
       "      <td>65</td>\n",
       "      <td>75</td>\n",
       "      <td>78</td>\n",
       "      <td>C</td>\n",
       "    </tr>\n",
       "    <tr>\n",
       "      <th>1</th>\n",
       "      <td>lee</td>\n",
       "      <td>88</td>\n",
       "      <td>78</td>\n",
       "      <td>88</td>\n",
       "      <td>88</td>\n",
       "      <td>B</td>\n",
       "    </tr>\n",
       "    <tr>\n",
       "      <th>2</th>\n",
       "      <td>park</td>\n",
       "      <td>74</td>\n",
       "      <td>98</td>\n",
       "      <td>96</td>\n",
       "      <td>89</td>\n",
       "      <td>B</td>\n",
       "    </tr>\n",
       "    <tr>\n",
       "      <th>3</th>\n",
       "      <td>choi</td>\n",
       "      <td>87</td>\n",
       "      <td>78</td>\n",
       "      <td>98</td>\n",
       "      <td>96</td>\n",
       "      <td>A</td>\n",
       "    </tr>\n",
       "  </tbody>\n",
       "</table>\n",
       "</div>"
      ],
      "text/plain": [
       "     이름  국어  영어  수학  코딩 코딩등급\n",
       "0   kim  95  65  75  78    C\n",
       "1   lee  88  78  88  88    B\n",
       "2  park  74  98  96  89    B\n",
       "3  choi  87  78  98  96    A"
      ]
     },
     "execution_count": 348,
     "metadata": {},
     "output_type": "execute_result"
    }
   ],
   "source": [
    "df"
   ]
  },
  {
   "cell_type": "markdown",
   "id": "8aaf643c-a3a1-4713-8ab1-36e68ea135fe",
   "metadata": {},
   "source": [
    "#### 산술연산\n",
    "1. 행, 열을 기준으로 모든 원소를 정렬\n",
    "2. 동일한 위치에 있는 원소끼리 잉대일로 대응\n",
    "3. 일대일 대응이 되는 원소끼리 연산 처리"
   ]
  },
  {
   "cell_type": "code",
   "execution_count": 361,
   "id": "8e6b6a05-735c-46cb-8eec-0c9b675de03b",
   "metadata": {},
   "outputs": [
    {
     "data": {
      "text/plain": [
       "Kor    88\n",
       "eng    92\n",
       "mat    88\n",
       "dtype: int64"
      ]
     },
     "execution_count": 361,
     "metadata": {},
     "output_type": "execute_result"
    }
   ],
   "source": [
    "# series\n",
    "s1 = pd.Series({'Kor':88,'eng':92,'mat':88})\n",
    "s1"
   ]
  },
  {
   "cell_type": "code",
   "execution_count": 363,
   "id": "72ebd500-5325-4dd1-a09a-8cabb849ee9b",
   "metadata": {},
   "outputs": [
    {
     "data": {
      "text/plain": [
       "Kor    0.88\n",
       "eng    0.92\n",
       "mat    0.88\n",
       "dtype: float64"
      ]
     },
     "execution_count": 363,
     "metadata": {},
     "output_type": "execute_result"
    }
   ],
   "source": [
    "s1/100"
   ]
  },
  {
   "cell_type": "code",
   "execution_count": 385,
   "id": "00e94cab-65b9-4fdf-9863-15450a6760bd",
   "metadata": {},
   "outputs": [],
   "source": [
    "s2 = pd.Series({'Kor':95,'eng':88,'mat':100})\n",
    "s3 = pd.Series({'Kor':95,'mat':88,'eng':100})"
   ]
  },
  {
   "cell_type": "code",
   "execution_count": 379,
   "id": "a6c5f2c9-7a92-484c-9b5c-37cbf3d83a90",
   "metadata": {},
   "outputs": [
    {
     "data": {
      "text/html": [
       "<div>\n",
       "<style scoped>\n",
       "    .dataframe tbody tr th:only-of-type {\n",
       "        vertical-align: middle;\n",
       "    }\n",
       "\n",
       "    .dataframe tbody tr th {\n",
       "        vertical-align: top;\n",
       "    }\n",
       "\n",
       "    .dataframe thead th {\n",
       "        text-align: right;\n",
       "    }\n",
       "</style>\n",
       "<table border=\"1\" class=\"dataframe\">\n",
       "  <thead>\n",
       "    <tr style=\"text-align: right;\">\n",
       "      <th></th>\n",
       "      <th>Kor</th>\n",
       "      <th>eng</th>\n",
       "      <th>mat</th>\n",
       "    </tr>\n",
       "  </thead>\n",
       "  <tbody>\n",
       "    <tr>\n",
       "      <th>덧셈</th>\n",
       "      <td>183.000000</td>\n",
       "      <td>192.00</td>\n",
       "      <td>176.0</td>\n",
       "    </tr>\n",
       "    <tr>\n",
       "      <th>뺄셈</th>\n",
       "      <td>-7.000000</td>\n",
       "      <td>-8.00</td>\n",
       "      <td>0.0</td>\n",
       "    </tr>\n",
       "    <tr>\n",
       "      <th>곱셈</th>\n",
       "      <td>8360.000000</td>\n",
       "      <td>9200.00</td>\n",
       "      <td>7744.0</td>\n",
       "    </tr>\n",
       "    <tr>\n",
       "      <th>나눗셈</th>\n",
       "      <td>0.926316</td>\n",
       "      <td>0.92</td>\n",
       "      <td>1.0</td>\n",
       "    </tr>\n",
       "  </tbody>\n",
       "</table>\n",
       "</div>"
      ],
      "text/plain": [
       "             Kor      eng     mat\n",
       "덧셈    183.000000   192.00   176.0\n",
       "뺄셈     -7.000000    -8.00     0.0\n",
       "곱셈   8360.000000  9200.00  7744.0\n",
       "나눗셈     0.926316     0.92     1.0"
      ]
     },
     "execution_count": 379,
     "metadata": {},
     "output_type": "execute_result"
    }
   ],
   "source": [
    "add = s1 + s2\n",
    "sub = s1 - s2\n",
    "mul = s1 * s2\n",
    "div = s1 / s2\n",
    "\n",
    "pd.DataFrame([add, sub, mul, div], index=['덧셈','뺄셈','곱셈','나눗셈'])"
   ]
  },
  {
   "cell_type": "code",
   "execution_count": 387,
   "id": "6ad6c116-a2e9-4d6f-a24e-db1dfd1a35e1",
   "metadata": {},
   "outputs": [
    {
     "data": {
      "text/html": [
       "<div>\n",
       "<style scoped>\n",
       "    .dataframe tbody tr th:only-of-type {\n",
       "        vertical-align: middle;\n",
       "    }\n",
       "\n",
       "    .dataframe tbody tr th {\n",
       "        vertical-align: top;\n",
       "    }\n",
       "\n",
       "    .dataframe thead th {\n",
       "        text-align: right;\n",
       "    }\n",
       "</style>\n",
       "<table border=\"1\" class=\"dataframe\">\n",
       "  <thead>\n",
       "    <tr style=\"text-align: right;\">\n",
       "      <th></th>\n",
       "      <th>Kor</th>\n",
       "      <th>eng</th>\n",
       "      <th>mat</th>\n",
       "    </tr>\n",
       "  </thead>\n",
       "  <tbody>\n",
       "    <tr>\n",
       "      <th>덧셈</th>\n",
       "      <td>183.000000</td>\n",
       "      <td>192.00</td>\n",
       "      <td>176.0</td>\n",
       "    </tr>\n",
       "    <tr>\n",
       "      <th>뺄셈</th>\n",
       "      <td>-7.000000</td>\n",
       "      <td>-8.00</td>\n",
       "      <td>0.0</td>\n",
       "    </tr>\n",
       "    <tr>\n",
       "      <th>곱셈</th>\n",
       "      <td>8360.000000</td>\n",
       "      <td>9200.00</td>\n",
       "      <td>7744.0</td>\n",
       "    </tr>\n",
       "    <tr>\n",
       "      <th>나눗셈</th>\n",
       "      <td>0.926316</td>\n",
       "      <td>0.92</td>\n",
       "      <td>1.0</td>\n",
       "    </tr>\n",
       "  </tbody>\n",
       "</table>\n",
       "</div>"
      ],
      "text/plain": [
       "             Kor      eng     mat\n",
       "덧셈    183.000000   192.00   176.0\n",
       "뺄셈     -7.000000    -8.00     0.0\n",
       "곱셈   8360.000000  9200.00  7744.0\n",
       "나눗셈     0.926316     0.92     1.0"
      ]
     },
     "execution_count": 387,
     "metadata": {},
     "output_type": "execute_result"
    }
   ],
   "source": [
    "add = s1 + s3\n",
    "sub = s1 - s3\n",
    "mul = s1 * s3\n",
    "div = s1 / s3\n",
    "\n",
    "pd.DataFrame([add, sub, mul, div], index=['덧셈','뺄셈','곱셈','나눗셈'])"
   ]
  },
  {
   "cell_type": "code",
   "execution_count": 389,
   "id": "f57a4855-ae07-4be9-ac21-6c73b7c9df57",
   "metadata": {},
   "outputs": [],
   "source": [
    "# 만약 s1 과 s2가 컬럼의 순서가 다르면 아캄?\n",
    "# 두개의 Series에서 원소 갯수가 다른경우?\n",
    "s4 = pd.Series({'Kor':95,'mat':88})"
   ]
  },
  {
   "cell_type": "code",
   "execution_count": 391,
   "id": "7b7b4492-b393-4c67-bdef-9fe43d6cdf48",
   "metadata": {},
   "outputs": [
    {
     "data": {
      "text/html": [
       "<div>\n",
       "<style scoped>\n",
       "    .dataframe tbody tr th:only-of-type {\n",
       "        vertical-align: middle;\n",
       "    }\n",
       "\n",
       "    .dataframe tbody tr th {\n",
       "        vertical-align: top;\n",
       "    }\n",
       "\n",
       "    .dataframe thead th {\n",
       "        text-align: right;\n",
       "    }\n",
       "</style>\n",
       "<table border=\"1\" class=\"dataframe\">\n",
       "  <thead>\n",
       "    <tr style=\"text-align: right;\">\n",
       "      <th></th>\n",
       "      <th>Kor</th>\n",
       "      <th>eng</th>\n",
       "      <th>mat</th>\n",
       "    </tr>\n",
       "  </thead>\n",
       "  <tbody>\n",
       "    <tr>\n",
       "      <th>덧셈</th>\n",
       "      <td>183.000000</td>\n",
       "      <td>NaN</td>\n",
       "      <td>176.0</td>\n",
       "    </tr>\n",
       "    <tr>\n",
       "      <th>뺄셈</th>\n",
       "      <td>-7.000000</td>\n",
       "      <td>NaN</td>\n",
       "      <td>0.0</td>\n",
       "    </tr>\n",
       "    <tr>\n",
       "      <th>곱셈</th>\n",
       "      <td>8360.000000</td>\n",
       "      <td>NaN</td>\n",
       "      <td>7744.0</td>\n",
       "    </tr>\n",
       "    <tr>\n",
       "      <th>나눗셈</th>\n",
       "      <td>0.926316</td>\n",
       "      <td>NaN</td>\n",
       "      <td>1.0</td>\n",
       "    </tr>\n",
       "  </tbody>\n",
       "</table>\n",
       "</div>"
      ],
      "text/plain": [
       "             Kor  eng     mat\n",
       "덧셈    183.000000  NaN   176.0\n",
       "뺄셈     -7.000000  NaN     0.0\n",
       "곱셈   8360.000000  NaN  7744.0\n",
       "나눗셈     0.926316  NaN     1.0"
      ]
     },
     "execution_count": 391,
     "metadata": {},
     "output_type": "execute_result"
    }
   ],
   "source": [
    "add = s1 + s4\n",
    "sub = s1 - s4\n",
    "mul = s1 * s4\n",
    "div = s1 / s4\n",
    "\n",
    "pd.DataFrame([add, sub, mul, div], index=['덧셈','뺄셈','곱셈','나눗셈'])\n",
    "\n",
    "# NaN으로 처리된 결과는 NaN으로 처리된다\n",
    "# 반드시 NaN을 먼저 처리하고 난 후 계산을 해야한다."
   ]
  },
  {
   "cell_type": "markdown",
   "id": "db54a073-b22e-445b-902f-c2c6307fb812",
   "metadata": {},
   "source": [
    "### NaN(Not a Number)\n",
    "- 값이 없음을 의미함\n",
    "- NULL : 값이 들어갈 자리조차 없음\n",
    "- NA(Not Available) : 값이 들어갈 자리는 있으나 값이 없음\n",
    "- NaN : 값이 들어갈 자리는 있음, 계산상의 오류로 인해 값이 없음"
   ]
  },
  {
   "cell_type": "code",
   "execution_count": null,
   "id": "fa52c9b1-f579-4ad6-9fa5-8d5b210b115f",
   "metadata": {},
   "outputs": [],
   "source": []
  }
 ],
 "metadata": {
  "kernelspec": {
   "display_name": "Python 3 (ipykernel)",
   "language": "python",
   "name": "python3"
  },
  "language_info": {
   "codemirror_mode": {
    "name": "ipython",
    "version": 3
   },
   "file_extension": ".py",
   "mimetype": "text/x-python",
   "name": "python",
   "nbconvert_exporter": "python",
   "pygments_lexer": "ipython3",
   "version": "3.11.7"
  },
  "widgets": {
   "application/vnd.jupyter.widget-state+json": {
    "state": {},
    "version_major": 2,
    "version_minor": 0
   }
  }
 },
 "nbformat": 4,
 "nbformat_minor": 5
}
