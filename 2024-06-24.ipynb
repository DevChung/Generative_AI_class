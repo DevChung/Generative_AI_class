{
 "cells": [
  {
   "cell_type": "code",
   "execution_count": 1,
   "id": "4d02070b-10ea-41ec-9c71-b98d029f37a6",
   "metadata": {},
   "outputs": [
    {
     "name": "stdout",
     "output_type": "stream",
     "text": [
      "hello world\n"
     ]
    }
   ],
   "source": [
    "print(\"hello world\")"
   ]
  },
  {
   "cell_type": "code",
   "execution_count": 3,
   "id": "d1404dfd-5c1b-4603-9ba4-fae894792798",
   "metadata": {},
   "outputs": [],
   "source": [
    "a = 10"
   ]
  },
  {
   "cell_type": "code",
   "execution_count": 5,
   "id": "3b483d70-ad0f-4db9-9f82-679bfa34a28a",
   "metadata": {},
   "outputs": [
    {
     "name": "stdout",
     "output_type": "stream",
     "text": [
      "10\n"
     ]
    }
   ],
   "source": [
    "print(a)"
   ]
  },
  {
   "cell_type": "markdown",
   "id": "5daf7d4b-2a27-49d1-9716-43d66e6c10d2",
   "metadata": {},
   "source": [
    "# markdown\n",
    "코맨트를 넣는 상자\n",
    "# 샵1\n",
    "## 샵2\n",
    "### 샵3\n",
    "#### 샵4\n",
    "##### 샵5\n",
    "###### 샵6"
   ]
  },
  {
   "cell_type": "markdown",
   "id": "05517fb0-9ffe-40f3-8a83-12b6043fcf42",
   "metadata": {},
   "source": [
    "- 과제 2 대용량 파일 다운로드\n",
    "- 과제 3 가사 크롤링 워드 클라우드로. \n",
    "- 목차3"
   ]
  },
  {
   "cell_type": "code",
   "execution_count": 9,
   "id": "daf5d923-e15e-4627-9a15-56a9aa6593d4",
   "metadata": {},
   "outputs": [],
   "source": [
    "import requests\n",
    "\n",
    "# 3rd party 모듈\n",
    "# urllib 표준 라이브러리, 근데 requests가 더 유명함."
   ]
  },
  {
   "cell_type": "code",
   "execution_count": 11,
   "id": "d2b9a9cd-9dab-43c4-b6ab-38462c1afc3d",
   "metadata": {},
   "outputs": [],
   "source": [
    "url = 'https://www.naver.com'\n",
    "response = requests.get(url)"
   ]
  },
  {
   "cell_type": "code",
   "execution_count": 13,
   "id": "c6ffc772-14fc-4360-822f-ceafe35782f7",
   "metadata": {},
   "outputs": [
    {
     "data": {
      "text/plain": [
       "<Response [200]>"
      ]
     },
     "execution_count": 13,
     "metadata": {},
     "output_type": "execute_result"
    }
   ],
   "source": [
    "response"
   ]
  },
  {
   "cell_type": "code",
   "execution_count": 15,
   "id": "6940da9c-5e4c-4a50-aae4-a2a12dd89798",
   "metadata": {},
   "outputs": [
    {
     "data": {
      "text/plain": [
       "requests.models.Response"
      ]
     },
     "execution_count": 15,
     "metadata": {},
     "output_type": "execute_result"
    }
   ],
   "source": [
    "type(response)"
   ]
  },
  {
   "cell_type": "code",
   "execution_count": 17,
   "id": "4cf4bc88-e53d-4398-a20a-f9ffa1919da8",
   "metadata": {},
   "outputs": [
    {
     "name": "stdout",
     "output_type": "stream",
     "text": [
      "<bound method Response.json of <Response [200]>>\n"
     ]
    }
   ],
   "source": [
    "print(response.json)"
   ]
  },
  {
   "cell_type": "code",
   "execution_count": 19,
   "id": "1a8becfb-3967-434d-9787-02b46742ba6c",
   "metadata": {},
   "outputs": [
    {
     "data": {
      "text/plain": [
       "'UTF-8'"
      ]
     },
     "execution_count": 19,
     "metadata": {},
     "output_type": "execute_result"
    }
   ],
   "source": [
    "response.encoding"
   ]
  },
  {
   "cell_type": "markdown",
   "id": "22904d56-f524-4256-b775-8f4c6f486ba9",
   "metadata": {},
   "source": [
    "가장 왼쪽에 위치한 비트는 부호(sign) 비트라 하며, 그 값이 0 이면 양수를 나타내고, 1 이면 음수를 나타낸다."
   ]
  },
  {
   "cell_type": "code",
   "execution_count": 22,
   "id": "44e6cf05-ecb8-4f4b-94ed-3df6c018e0b7",
   "metadata": {},
   "outputs": [
    {
     "data": {
      "text/plain": [
       "str"
      ]
     },
     "execution_count": 22,
     "metadata": {},
     "output_type": "execute_result"
    }
   ],
   "source": [
    "type(response.text)"
   ]
  },
  {
   "cell_type": "code",
   "execution_count": 24,
   "id": "ac8b6e31-d199-44d5-b388-4fa220d917f6",
   "metadata": {},
   "outputs": [
    {
     "data": {
      "text/plain": [
       "212780"
      ]
     },
     "execution_count": 24,
     "metadata": {},
     "output_type": "execute_result"
    }
   ],
   "source": [
    "html = response.text\n",
    "open('naver.html', 'w', encoding='UTF-8').write(html)\n"
   ]
  },
  {
   "cell_type": "markdown",
   "id": "8fccf11a-d434-4ca7-88b5-4e4e6dfd3cbc",
   "metadata": {},
   "source": [
    "Dictionary 안의 Dictionary"
   ]
  },
  {
   "cell_type": "code",
   "execution_count": null,
   "id": "94f8c891-a377-4982-836f-8fa4bee08a7e",
   "metadata": {},
   "outputs": [],
   "source": [
    "dictionary_ex = {\n",
    "  \"results\": {\n",
    "    \"date\": \"2024-06-24\",\n",
    "    \"sunrise\": \"5:45:07 AM\",\n",
    "    \"sunset\": \"8:38:39 PM\",\n",
    "    \"first_light\": \"3:46:08 AM\",\n",
    "    \"last_light\": \"10:37:39 PM\",\n",
    "    \"dawn\": \"5:13:03 AM\",\n",
    "    \"dusk\": \"9:10:44 PM\",\n",
    "    \"solar_noon\": \"1:11:53 PM\",\n",
    "    \"golden_hour\": \"7:58:43 PM\",\n",
    "    \"day_length\": \"14:53:32\",\n",
    "    \"timezone\": \"America/New_York\",\n",
    "    \"utc_offset\": -240\n",
    "  },\n",
    "  \"status\": \"OK\"\n",
    "}"
   ]
  },
  {
   "cell_type": "code",
   "execution_count": null,
   "id": "61de3214-f599-475a-86bb-22786f18592a",
   "metadata": {},
   "outputs": [],
   "source": [
    "type(dictionary_ex)"
   ]
  },
  {
   "cell_type": "code",
   "execution_count": null,
   "id": "744a4fbd-0669-4967-9fa5-0fe7ad795d27",
   "metadata": {},
   "outputs": [],
   "source": [
    "dictionary_ex[\"results\"][\"day_length\"]"
   ]
  },
  {
   "cell_type": "code",
   "execution_count": 234,
   "id": "533baec9-aaa3-4cf0-a6bb-8f0e532d85d9",
   "metadata": {},
   "outputs": [
    {
     "data": {
      "text/plain": [
       "{'results': {'date': '2024-06-24',\n",
       "  'sunrise': '5:45:07 AM',\n",
       "  'sunset': '8:38:39 PM',\n",
       "  'first_light': '3:46:08 AM',\n",
       "  'last_light': '10:37:39 PM',\n",
       "  'dawn': '5:13:03 AM',\n",
       "  'dusk': '9:10:44 PM',\n",
       "  'solar_noon': '1:11:53 PM',\n",
       "  'golden_hour': '7:58:43 PM',\n",
       "  'day_length': '14:53:32',\n",
       "  'timezone': 'America/New_York',\n",
       "  'utc_offset': -240},\n",
       " 'status': 'OK'}"
      ]
     },
     "execution_count": 234,
     "metadata": {},
     "output_type": "execute_result"
    }
   ],
   "source": [
    "url = \"https://api.sunrisesunset.io/json?lat=38.907192&lng=-77.036873\"\n",
    "\n",
    "data = requests.get(url).json()\n",
    "\n",
    "data"
   ]
  },
  {
   "cell_type": "code",
   "execution_count": null,
   "id": "460db522-8fff-4e85-8bde-6aaa1e077034",
   "metadata": {},
   "outputs": [],
   "source": [
    "date = \"2024-06-24\"\n",
    "url = f\"https://api.sunrisesunset.io/json?lat=38.907192&lng=-77.036873&timezone=UTC&date={date}\"\n",
    "\n",
    "data = requests.get(url).json()['results']\n",
    "data"
   ]
  },
  {
   "cell_type": "markdown",
   "id": "b9e710a2-ab2e-4806-9e58-356bfc6d8f17",
   "metadata": {},
   "source": [
    "data frames ==> table\n",
    "\n",
    "\n",
    "        Column   Column\n",
    "Row\n",
    "Row\n",
    "\n",
    "NaN---> 손실된 데이터. 이게 있을 경우 연산이 불가함.\n"
   ]
  },
  {
   "cell_type": "code",
   "execution_count": 36,
   "id": "904e4831-93c3-4e59-9e3d-6d8709aec7a7",
   "metadata": {},
   "outputs": [
    {
     "data": {
      "text/plain": [
       "[{'date': '2024-06-01', 'dayofweek': 'mon'},\n",
       " {'date': '2024-06-02', 'dayofweek': 'tue'},\n",
       " {'date': '2024-06-03', 'dayofweek': 'wed'}]"
      ]
     },
     "execution_count": 36,
     "metadata": {},
     "output_type": "execute_result"
    }
   ],
   "source": [
    "sample_list = []\n",
    "sample_list.append({'date': '2024-06-01', 'dayofweek' : 'mon'})\n",
    "sample_list.append({'date': '2024-06-02', 'dayofweek' : 'tue'})\n",
    "sample_list.append({'date': '2024-06-03', 'dayofweek' : 'wed'})\n",
    "\n",
    "sample_list"
   ]
  },
  {
   "cell_type": "code",
   "execution_count": 38,
   "id": "55739c54-1c0d-48a8-97f7-139e4ae69c1c",
   "metadata": {},
   "outputs": [],
   "source": [
    "import pandas as pd\n",
    "\n",
    "df = pd.DataFrame(sample_list)\n",
    "df.to_csv('sample.csv', index=False)"
   ]
  },
  {
   "cell_type": "code",
   "execution_count": 40,
   "id": "ca549564-7b8b-4119-8f40-0f7fce8c1a2b",
   "metadata": {},
   "outputs": [
    {
     "data": {
      "text/html": [
       "<div>\n",
       "<style scoped>\n",
       "    .dataframe tbody tr th:only-of-type {\n",
       "        vertical-align: middle;\n",
       "    }\n",
       "\n",
       "    .dataframe tbody tr th {\n",
       "        vertical-align: top;\n",
       "    }\n",
       "\n",
       "    .dataframe thead th {\n",
       "        text-align: right;\n",
       "    }\n",
       "</style>\n",
       "<table border=\"1\" class=\"dataframe\">\n",
       "  <thead>\n",
       "    <tr style=\"text-align: right;\">\n",
       "      <th></th>\n",
       "      <th>date</th>\n",
       "      <th>dayofweek</th>\n",
       "    </tr>\n",
       "  </thead>\n",
       "  <tbody>\n",
       "    <tr>\n",
       "      <th>0</th>\n",
       "      <td>2024-06-01</td>\n",
       "      <td>mon</td>\n",
       "    </tr>\n",
       "    <tr>\n",
       "      <th>1</th>\n",
       "      <td>2024-06-02</td>\n",
       "      <td>tue</td>\n",
       "    </tr>\n",
       "    <tr>\n",
       "      <th>2</th>\n",
       "      <td>2024-06-03</td>\n",
       "      <td>wed</td>\n",
       "    </tr>\n",
       "  </tbody>\n",
       "</table>\n",
       "</div>"
      ],
      "text/plain": [
       "         date dayofweek\n",
       "0  2024-06-01       mon\n",
       "1  2024-06-02       tue\n",
       "2  2024-06-03       wed"
      ]
     },
     "execution_count": 40,
     "metadata": {},
     "output_type": "execute_result"
    }
   ],
   "source": [
    "df = pd.read_csv('sample.csv')\n",
    "df"
   ]
  },
  {
   "cell_type": "code",
   "execution_count": 62,
   "id": "59a59510-6cb6-4cf3-8771-663dd3136abf",
   "metadata": {},
   "outputs": [],
   "source": [
    "df = pd.DataFrame(sample_list)\n",
    "df.to_csv(r'C:\\Users\\405-11\\Desktop\\test\\sample.csv', index=False)"
   ]
  },
  {
   "cell_type": "code",
   "execution_count": 64,
   "id": "2b283371-d119-4a17-9237-c78c45b1acb3",
   "metadata": {},
   "outputs": [
    {
     "data": {
      "text/html": [
       "<div>\n",
       "<style scoped>\n",
       "    .dataframe tbody tr th:only-of-type {\n",
       "        vertical-align: middle;\n",
       "    }\n",
       "\n",
       "    .dataframe tbody tr th {\n",
       "        vertical-align: top;\n",
       "    }\n",
       "\n",
       "    .dataframe thead th {\n",
       "        text-align: right;\n",
       "    }\n",
       "</style>\n",
       "<table border=\"1\" class=\"dataframe\">\n",
       "  <thead>\n",
       "    <tr style=\"text-align: right;\">\n",
       "      <th></th>\n",
       "      <th>date</th>\n",
       "      <th>dayofweek</th>\n",
       "    </tr>\n",
       "  </thead>\n",
       "  <tbody>\n",
       "    <tr>\n",
       "      <th>0</th>\n",
       "      <td>2024-06-01</td>\n",
       "      <td>mon</td>\n",
       "    </tr>\n",
       "    <tr>\n",
       "      <th>1</th>\n",
       "      <td>2024-06-02</td>\n",
       "      <td>tue</td>\n",
       "    </tr>\n",
       "    <tr>\n",
       "      <th>2</th>\n",
       "      <td>2024-06-03</td>\n",
       "      <td>wed</td>\n",
       "    </tr>\n",
       "  </tbody>\n",
       "</table>\n",
       "</div>"
      ],
      "text/plain": [
       "         date dayofweek\n",
       "0  2024-06-01       mon\n",
       "1  2024-06-02       tue\n",
       "2  2024-06-03       wed"
      ]
     },
     "execution_count": 64,
     "metadata": {},
     "output_type": "execute_result"
    }
   ],
   "source": [
    "df = pd.read_csv(r'C:\\Users\\405-11\\Desktop\\test\\sample.csv')\n",
    "df"
   ]
  },
  {
   "cell_type": "code",
   "execution_count": 66,
   "id": "f050d0a0-c7fe-46ce-a0d8-0f02da6f56f9",
   "metadata": {},
   "outputs": [],
   "source": [
    "def sunset_by_date(date):\n",
    "    url = f\"https://api.sunrisesunset.io/json?lat=38.907192&lng=-77.036873&timezone=UTC&date={date}\"\n",
    "\n",
    "    return requests.get(url).json()['results']"
   ]
  },
  {
   "cell_type": "code",
   "execution_count": 80,
   "id": "61f27ffc-813c-4d48-894b-974a1b2c3f02",
   "metadata": {},
   "outputs": [
    {
     "data": {
      "text/html": [
       "<div>\n",
       "<style scoped>\n",
       "    .dataframe tbody tr th:only-of-type {\n",
       "        vertical-align: middle;\n",
       "    }\n",
       "\n",
       "    .dataframe tbody tr th {\n",
       "        vertical-align: top;\n",
       "    }\n",
       "\n",
       "    .dataframe thead th {\n",
       "        text-align: right;\n",
       "    }\n",
       "</style>\n",
       "<table border=\"1\" class=\"dataframe\">\n",
       "  <thead>\n",
       "    <tr style=\"text-align: right;\">\n",
       "      <th></th>\n",
       "      <th>date</th>\n",
       "      <th>sunrise</th>\n",
       "      <th>sunset</th>\n",
       "      <th>first_light</th>\n",
       "      <th>last_light</th>\n",
       "      <th>dawn</th>\n",
       "      <th>dusk</th>\n",
       "      <th>solar_noon</th>\n",
       "      <th>golden_hour</th>\n",
       "      <th>day_length</th>\n",
       "      <th>timezone</th>\n",
       "      <th>utc_offset</th>\n",
       "    </tr>\n",
       "  </thead>\n",
       "  <tbody>\n",
       "    <tr>\n",
       "      <th>0</th>\n",
       "      <td>2024-06-01</td>\n",
       "      <td>9:46:21 AM</td>\n",
       "      <td>12:28:23 AM</td>\n",
       "      <td>7:51:30 AM</td>\n",
       "      <td>2:23:14 AM</td>\n",
       "      <td>9:15:00 AM</td>\n",
       "      <td>12:59:44 AM</td>\n",
       "      <td>5:07:22 PM</td>\n",
       "      <td>11:49:07 PM</td>\n",
       "      <td>14:42:01</td>\n",
       "      <td>UTC</td>\n",
       "      <td>0</td>\n",
       "    </tr>\n",
       "    <tr>\n",
       "      <th>1</th>\n",
       "      <td>2024-06-02</td>\n",
       "      <td>9:45:57 AM</td>\n",
       "      <td>12:29:05 AM</td>\n",
       "      <td>7:50:44 AM</td>\n",
       "      <td>2:24:18 AM</td>\n",
       "      <td>9:14:32 AM</td>\n",
       "      <td>1:00:30 AM</td>\n",
       "      <td>5:07:31 PM</td>\n",
       "      <td>11:49:45 PM</td>\n",
       "      <td>14:43:07</td>\n",
       "      <td>UTC</td>\n",
       "      <td>0</td>\n",
       "    </tr>\n",
       "    <tr>\n",
       "      <th>2</th>\n",
       "      <td>2024-06-03</td>\n",
       "      <td>9:45:35 AM</td>\n",
       "      <td>12:29:45 AM</td>\n",
       "      <td>7:50:00 AM</td>\n",
       "      <td>2:25:20 AM</td>\n",
       "      <td>9:14:06 AM</td>\n",
       "      <td>1:01:14 AM</td>\n",
       "      <td>5:07:40 PM</td>\n",
       "      <td>11:50:22 PM</td>\n",
       "      <td>14:44:10</td>\n",
       "      <td>UTC</td>\n",
       "      <td>0</td>\n",
       "    </tr>\n",
       "    <tr>\n",
       "      <th>3</th>\n",
       "      <td>2024-06-04</td>\n",
       "      <td>9:45:15 AM</td>\n",
       "      <td>12:30:25 AM</td>\n",
       "      <td>7:49:19 AM</td>\n",
       "      <td>2:26:20 AM</td>\n",
       "      <td>9:13:42 AM</td>\n",
       "      <td>1:01:58 AM</td>\n",
       "      <td>5:07:50 PM</td>\n",
       "      <td>11:50:58 PM</td>\n",
       "      <td>14:45:09</td>\n",
       "      <td>UTC</td>\n",
       "      <td>0</td>\n",
       "    </tr>\n",
       "  </tbody>\n",
       "</table>\n",
       "</div>"
      ],
      "text/plain": [
       "         date     sunrise       sunset first_light  last_light        dawn  \\\n",
       "0  2024-06-01  9:46:21 AM  12:28:23 AM  7:51:30 AM  2:23:14 AM  9:15:00 AM   \n",
       "1  2024-06-02  9:45:57 AM  12:29:05 AM  7:50:44 AM  2:24:18 AM  9:14:32 AM   \n",
       "2  2024-06-03  9:45:35 AM  12:29:45 AM  7:50:00 AM  2:25:20 AM  9:14:06 AM   \n",
       "3  2024-06-04  9:45:15 AM  12:30:25 AM  7:49:19 AM  2:26:20 AM  9:13:42 AM   \n",
       "\n",
       "          dusk  solar_noon  golden_hour day_length timezone  utc_offset  \n",
       "0  12:59:44 AM  5:07:22 PM  11:49:07 PM   14:42:01      UTC           0  \n",
       "1   1:00:30 AM  5:07:31 PM  11:49:45 PM   14:43:07      UTC           0  \n",
       "2   1:01:14 AM  5:07:40 PM  11:50:22 PM   14:44:10      UTC           0  \n",
       "3   1:01:58 AM  5:07:50 PM  11:50:58 PM   14:45:09      UTC           0  "
      ]
     },
     "execution_count": 80,
     "metadata": {},
     "output_type": "execute_result"
    }
   ],
   "source": [
    "sample_list = []\n",
    "sample_list.append(sunset_by_date('2024-06-01'))\n",
    "sample_list.append(sunset_by_date('2024-06-02'))\n",
    "sample_list.append(sunset_by_date('2024-06-03'))\n",
    "sample_list.append(sunset_by_date('2024-06-04'))\n",
    "\n",
    "pd.DataFrame(sample_list).to_csv('sample_sunset.csv', index=False)\n",
    "df = pd.read_csv('sample_sunset.csv')\n",
    "df"
   ]
  },
  {
   "cell_type": "markdown",
   "id": "113f24fc-4d58-4737-b2bd-af2ff182a19c",
   "metadata": {},
   "source": [
    "### 시간을 다루는 time\n",
    "- 웹 크롤링 할 때 수집시간을 늘려서 상대 서버의 자원을 적절하게 사용할 수 있게 해야함(안하면 디도스)\n",
    "- 일반적인 프로그래밍 상 빠른 코드가 좋은 코드라는 논리에 해당하지 않음(중요!)"
   ]
  },
  {
   "cell_type": "code",
   "execution_count": 85,
   "id": "200c0714-d021-49bd-b6de-edd2b09d98da",
   "metadata": {},
   "outputs": [
    {
     "name": "stdout",
     "output_type": "stream",
     "text": [
      "0\n",
      "1\n",
      "2\n",
      "3\n",
      "4\n",
      "5\n",
      "6\n",
      "7\n",
      "8\n",
      "9\n"
     ]
    }
   ],
   "source": [
    "import time\n",
    "\n",
    "for i in range(10):\n",
    "    time.sleep(2)\n",
    "    print(i)"
   ]
  },
  {
   "cell_type": "code",
   "execution_count": 95,
   "id": "5489af27-893c-45ca-a6a1-1c2e020ceb4f",
   "metadata": {},
   "outputs": [
    {
     "data": {
      "text/html": [
       "<div>\n",
       "<style scoped>\n",
       "    .dataframe tbody tr th:only-of-type {\n",
       "        vertical-align: middle;\n",
       "    }\n",
       "\n",
       "    .dataframe tbody tr th {\n",
       "        vertical-align: top;\n",
       "    }\n",
       "\n",
       "    .dataframe thead th {\n",
       "        text-align: right;\n",
       "    }\n",
       "</style>\n",
       "<table border=\"1\" class=\"dataframe\">\n",
       "  <thead>\n",
       "    <tr style=\"text-align: right;\">\n",
       "      <th></th>\n",
       "      <th>date</th>\n",
       "      <th>sunrise</th>\n",
       "      <th>sunset</th>\n",
       "      <th>first_light</th>\n",
       "      <th>last_light</th>\n",
       "      <th>dawn</th>\n",
       "      <th>dusk</th>\n",
       "      <th>solar_noon</th>\n",
       "      <th>golden_hour</th>\n",
       "      <th>day_length</th>\n",
       "      <th>timezone</th>\n",
       "      <th>utc_offset</th>\n",
       "    </tr>\n",
       "  </thead>\n",
       "  <tbody>\n",
       "    <tr>\n",
       "      <th>0</th>\n",
       "      <td>2024-07-01</td>\n",
       "      <td>9:47:22 AM</td>\n",
       "      <td>12:38:43 AM</td>\n",
       "      <td>7:49:12 AM</td>\n",
       "      <td>2:36:53 AM</td>\n",
       "      <td>9:15:26 AM</td>\n",
       "      <td>1:10:39 AM</td>\n",
       "      <td>5:13:03 PM</td>\n",
       "      <td>11:58:54 PM</td>\n",
       "      <td>14:51:20</td>\n",
       "      <td>UTC</td>\n",
       "      <td>0</td>\n",
       "    </tr>\n",
       "    <tr>\n",
       "      <th>1</th>\n",
       "      <td>2024-07-02</td>\n",
       "      <td>9:47:50 AM</td>\n",
       "      <td>12:38:37 AM</td>\n",
       "      <td>7:49:53 AM</td>\n",
       "      <td>2:36:34 AM</td>\n",
       "      <td>9:15:56 AM</td>\n",
       "      <td>1:10:31 AM</td>\n",
       "      <td>5:13:13 PM</td>\n",
       "      <td>11:58:50 PM</td>\n",
       "      <td>14:50:47</td>\n",
       "      <td>UTC</td>\n",
       "      <td>0</td>\n",
       "    </tr>\n",
       "    <tr>\n",
       "      <th>2</th>\n",
       "      <td>2024-07-03</td>\n",
       "      <td>9:48:19 AM</td>\n",
       "      <td>12:38:29 AM</td>\n",
       "      <td>7:50:35 AM</td>\n",
       "      <td>2:36:13 AM</td>\n",
       "      <td>9:16:28 AM</td>\n",
       "      <td>1:10:21 AM</td>\n",
       "      <td>5:13:24 PM</td>\n",
       "      <td>11:58:45 PM</td>\n",
       "      <td>14:50:10</td>\n",
       "      <td>UTC</td>\n",
       "      <td>0</td>\n",
       "    </tr>\n",
       "    <tr>\n",
       "      <th>3</th>\n",
       "      <td>2024-07-04</td>\n",
       "      <td>9:48:50 AM</td>\n",
       "      <td>12:38:20 AM</td>\n",
       "      <td>7:51:21 AM</td>\n",
       "      <td>2:35:48 AM</td>\n",
       "      <td>9:17:01 AM</td>\n",
       "      <td>1:10:09 AM</td>\n",
       "      <td>5:13:35 PM</td>\n",
       "      <td>11:58:38 PM</td>\n",
       "      <td>14:49:30</td>\n",
       "      <td>UTC</td>\n",
       "      <td>0</td>\n",
       "    </tr>\n",
       "    <tr>\n",
       "      <th>4</th>\n",
       "      <td>2024-07-05</td>\n",
       "      <td>9:49:21 AM</td>\n",
       "      <td>12:38:08 AM</td>\n",
       "      <td>7:52:08 AM</td>\n",
       "      <td>2:35:21 AM</td>\n",
       "      <td>9:17:35 AM</td>\n",
       "      <td>1:09:54 AM</td>\n",
       "      <td>5:13:45 PM</td>\n",
       "      <td>11:58:29 PM</td>\n",
       "      <td>14:48:46</td>\n",
       "      <td>UTC</td>\n",
       "      <td>0</td>\n",
       "    </tr>\n",
       "    <tr>\n",
       "      <th>5</th>\n",
       "      <td>2024-07-06</td>\n",
       "      <td>9:49:54 AM</td>\n",
       "      <td>12:37:55 AM</td>\n",
       "      <td>7:52:58 AM</td>\n",
       "      <td>2:34:51 AM</td>\n",
       "      <td>9:18:11 AM</td>\n",
       "      <td>1:09:38 AM</td>\n",
       "      <td>5:13:55 PM</td>\n",
       "      <td>11:58:18 PM</td>\n",
       "      <td>14:48:00</td>\n",
       "      <td>UTC</td>\n",
       "      <td>0</td>\n",
       "    </tr>\n",
       "    <tr>\n",
       "      <th>6</th>\n",
       "      <td>2024-07-07</td>\n",
       "      <td>9:50:29 AM</td>\n",
       "      <td>12:37:39 AM</td>\n",
       "      <td>7:53:51 AM</td>\n",
       "      <td>2:34:18 AM</td>\n",
       "      <td>9:18:49 AM</td>\n",
       "      <td>1:09:20 AM</td>\n",
       "      <td>5:14:04 PM</td>\n",
       "      <td>11:58:06 PM</td>\n",
       "      <td>14:47:10</td>\n",
       "      <td>UTC</td>\n",
       "      <td>0</td>\n",
       "    </tr>\n",
       "    <tr>\n",
       "      <th>7</th>\n",
       "      <td>2024-07-08</td>\n",
       "      <td>9:51:04 AM</td>\n",
       "      <td>12:37:22 AM</td>\n",
       "      <td>7:54:45 AM</td>\n",
       "      <td>2:33:42 AM</td>\n",
       "      <td>9:19:28 AM</td>\n",
       "      <td>1:08:59 AM</td>\n",
       "      <td>5:14:13 PM</td>\n",
       "      <td>11:57:52 PM</td>\n",
       "      <td>14:46:17</td>\n",
       "      <td>UTC</td>\n",
       "      <td>0</td>\n",
       "    </tr>\n",
       "    <tr>\n",
       "      <th>8</th>\n",
       "      <td>2024-07-09</td>\n",
       "      <td>9:51:41 AM</td>\n",
       "      <td>12:37:03 AM</td>\n",
       "      <td>7:55:41 AM</td>\n",
       "      <td>2:33:03 AM</td>\n",
       "      <td>9:20:08 AM</td>\n",
       "      <td>1:08:37 AM</td>\n",
       "      <td>5:14:22 PM</td>\n",
       "      <td>11:57:36 PM</td>\n",
       "      <td>14:45:22</td>\n",
       "      <td>UTC</td>\n",
       "      <td>0</td>\n",
       "    </tr>\n",
       "    <tr>\n",
       "      <th>9</th>\n",
       "      <td>2024-07-10</td>\n",
       "      <td>9:52:19 AM</td>\n",
       "      <td>12:36:43 AM</td>\n",
       "      <td>7:56:40 AM</td>\n",
       "      <td>2:32:22 AM</td>\n",
       "      <td>9:20:49 AM</td>\n",
       "      <td>1:08:13 AM</td>\n",
       "      <td>5:14:31 PM</td>\n",
       "      <td>11:57:18 PM</td>\n",
       "      <td>14:44:23</td>\n",
       "      <td>UTC</td>\n",
       "      <td>0</td>\n",
       "    </tr>\n",
       "  </tbody>\n",
       "</table>\n",
       "</div>"
      ],
      "text/plain": [
       "         date     sunrise       sunset first_light  last_light        dawn  \\\n",
       "0  2024-07-01  9:47:22 AM  12:38:43 AM  7:49:12 AM  2:36:53 AM  9:15:26 AM   \n",
       "1  2024-07-02  9:47:50 AM  12:38:37 AM  7:49:53 AM  2:36:34 AM  9:15:56 AM   \n",
       "2  2024-07-03  9:48:19 AM  12:38:29 AM  7:50:35 AM  2:36:13 AM  9:16:28 AM   \n",
       "3  2024-07-04  9:48:50 AM  12:38:20 AM  7:51:21 AM  2:35:48 AM  9:17:01 AM   \n",
       "4  2024-07-05  9:49:21 AM  12:38:08 AM  7:52:08 AM  2:35:21 AM  9:17:35 AM   \n",
       "5  2024-07-06  9:49:54 AM  12:37:55 AM  7:52:58 AM  2:34:51 AM  9:18:11 AM   \n",
       "6  2024-07-07  9:50:29 AM  12:37:39 AM  7:53:51 AM  2:34:18 AM  9:18:49 AM   \n",
       "7  2024-07-08  9:51:04 AM  12:37:22 AM  7:54:45 AM  2:33:42 AM  9:19:28 AM   \n",
       "8  2024-07-09  9:51:41 AM  12:37:03 AM  7:55:41 AM  2:33:03 AM  9:20:08 AM   \n",
       "9  2024-07-10  9:52:19 AM  12:36:43 AM  7:56:40 AM  2:32:22 AM  9:20:49 AM   \n",
       "\n",
       "         dusk  solar_noon  golden_hour day_length timezone  utc_offset  \n",
       "0  1:10:39 AM  5:13:03 PM  11:58:54 PM   14:51:20      UTC           0  \n",
       "1  1:10:31 AM  5:13:13 PM  11:58:50 PM   14:50:47      UTC           0  \n",
       "2  1:10:21 AM  5:13:24 PM  11:58:45 PM   14:50:10      UTC           0  \n",
       "3  1:10:09 AM  5:13:35 PM  11:58:38 PM   14:49:30      UTC           0  \n",
       "4  1:09:54 AM  5:13:45 PM  11:58:29 PM   14:48:46      UTC           0  \n",
       "5  1:09:38 AM  5:13:55 PM  11:58:18 PM   14:48:00      UTC           0  \n",
       "6  1:09:20 AM  5:14:04 PM  11:58:06 PM   14:47:10      UTC           0  \n",
       "7  1:08:59 AM  5:14:13 PM  11:57:52 PM   14:46:17      UTC           0  \n",
       "8  1:08:37 AM  5:14:22 PM  11:57:36 PM   14:45:22      UTC           0  \n",
       "9  1:08:13 AM  5:14:31 PM  11:57:18 PM   14:44:23      UTC           0  "
      ]
     },
     "execution_count": 95,
     "metadata": {},
     "output_type": "execute_result"
    }
   ],
   "source": [
    "# 2024-07-01 ~ 2024-07-10 데이터를 모아서 sameple_date.csv 파일에 저장\n",
    "\n",
    "sample_list = []\n",
    "\n",
    "for date in pd.date_range('2024-07-01', '2024-07-10'):\n",
    "    sample_list.append(sunset_by_date(str(date)[:10]))\n",
    "    time.sleep(1)\n",
    "\n",
    "pd.DataFrame(sample_list).to_csv('sample_sunset.csv', index=False)\n",
    "df = pd.read_csv('sample_sunset.csv')\n",
    "df"
   ]
  },
  {
   "cell_type": "markdown",
   "id": "80483229-6791-4ae3-81a3-9f6e7b9f0042",
   "metadata": {},
   "source": [
    "### 웹 문서의 종류\n",
    "#### JSON\n",
    "- Java Script Object Notation\n",
    "- Key:Value가 쌍으로 이뤄진 데이터를 저장하거나 전송할 목적\n",
    "- 개방형 표준 포맷입니다\n",
    "- 사람, 기계 모두 이해가능한 쉬운 언어, 용량이 적음\n",
    "\n",
    "#### HTML\n",
    "- Hyper Text Markup Language\n",
    "- Hyper text : 텍스트에 추가적인 기능이 들어간 텍스트를 하이퍼 텍스트 라고 함(zB. Link)\n",
    "- 웹 사이트에서 화면에 표시되는 정보를 약속한 언어\n",
    "- mark up : 꺽쇠(<>)를 사용하는 태그를 사용하는 규격\n",
    "\n",
    "#### XML\n",
    "- eXtensible Markup Language\n",
    "- HTML의 한계를 극복할 목적으로 만들어진 다목적 언어\n",
    "- XML은 HTML처럼 데이터를 보여줄 목적이 아닌, 데이터를 저장하고 전달할 목저으로 만들어짐\n",
    "- XML 태그는 HTML 태그처럼 미리 정해져 있지 않음, 사용자가 직접 정의할 수 있음\n"
   ]
  },
  {
   "cell_type": "code",
   "execution_count": 100,
   "id": "1007ea7b-0578-4400-a556-ce55091c176e",
   "metadata": {},
   "outputs": [
    {
     "data": {
      "text/plain": [
       "'<?xml version=\"1.0\" encoding=\"UTF-8\"?>\\n<rss version=\"2.0\">\\n<channel>\\n<title>기상청 1시간단위 동네예보 웹서비스 - 충청'"
      ]
     },
     "execution_count": 100,
     "metadata": {},
     "output_type": "execute_result"
    }
   ],
   "source": [
    "url = \"https://www.weather.go.kr/w/rss/dfs/hr1-forecast.do?zone=4413125000\"\n",
    "response = requests.get(url).text"
   ]
  },
  {
   "cell_type": "code",
   "execution_count": 208,
   "id": "924dba75-f7aa-4b92-910e-ffb7962f6f30",
   "metadata": {},
   "outputs": [],
   "source": [
    "import xmltodict\n",
    "\n",
    "json_data = xmltodict.parse(response)\n"
   ]
  },
  {
   "cell_type": "code",
   "execution_count": 216,
   "id": "ca56513d-0750-48ed-8b6d-30bf14131886",
   "metadata": {},
   "outputs": [
    {
     "data": {
      "text/html": [
       "<div>\n",
       "<style scoped>\n",
       "    .dataframe tbody tr th:only-of-type {\n",
       "        vertical-align: middle;\n",
       "    }\n",
       "\n",
       "    .dataframe tbody tr th {\n",
       "        vertical-align: top;\n",
       "    }\n",
       "\n",
       "    .dataframe thead th {\n",
       "        text-align: right;\n",
       "    }\n",
       "</style>\n",
       "<table border=\"1\" class=\"dataframe\">\n",
       "  <thead>\n",
       "    <tr style=\"text-align: right;\">\n",
       "      <th></th>\n",
       "      <th>hour</th>\n",
       "      <th>day</th>\n",
       "      <th>temp</th>\n",
       "      <th>tmx</th>\n",
       "      <th>tmn</th>\n",
       "      <th>sky</th>\n",
       "      <th>pty</th>\n",
       "      <th>wfKor</th>\n",
       "      <th>wfEn</th>\n",
       "      <th>pcp</th>\n",
       "      <th>sno</th>\n",
       "      <th>pop</th>\n",
       "      <th>ws</th>\n",
       "      <th>wd</th>\n",
       "      <th>wdKor</th>\n",
       "      <th>wdEn</th>\n",
       "      <th>reh</th>\n",
       "    </tr>\n",
       "    <tr>\n",
       "      <th>@seq</th>\n",
       "      <th></th>\n",
       "      <th></th>\n",
       "      <th></th>\n",
       "      <th></th>\n",
       "      <th></th>\n",
       "      <th></th>\n",
       "      <th></th>\n",
       "      <th></th>\n",
       "      <th></th>\n",
       "      <th></th>\n",
       "      <th></th>\n",
       "      <th></th>\n",
       "      <th></th>\n",
       "      <th></th>\n",
       "      <th></th>\n",
       "      <th></th>\n",
       "      <th></th>\n",
       "    </tr>\n",
       "  </thead>\n",
       "  <tbody>\n",
       "    <tr>\n",
       "      <th>0</th>\n",
       "      <td>16</td>\n",
       "      <td>0</td>\n",
       "      <td>26.0</td>\n",
       "      <td>-999.0</td>\n",
       "      <td>-999.0</td>\n",
       "      <td>1</td>\n",
       "      <td>0</td>\n",
       "      <td>맑음</td>\n",
       "      <td>Clear</td>\n",
       "      <td>0.0</td>\n",
       "      <td>0.0</td>\n",
       "      <td>0</td>\n",
       "      <td>4.0</td>\n",
       "      <td>6</td>\n",
       "      <td>서</td>\n",
       "      <td>W</td>\n",
       "      <td>60</td>\n",
       "    </tr>\n",
       "    <tr>\n",
       "      <th>1</th>\n",
       "      <td>17</td>\n",
       "      <td>0</td>\n",
       "      <td>25.0</td>\n",
       "      <td>-999.0</td>\n",
       "      <td>-999.0</td>\n",
       "      <td>1</td>\n",
       "      <td>0</td>\n",
       "      <td>맑음</td>\n",
       "      <td>Clear</td>\n",
       "      <td>0.0</td>\n",
       "      <td>0.0</td>\n",
       "      <td>0</td>\n",
       "      <td>3.9</td>\n",
       "      <td>6</td>\n",
       "      <td>서</td>\n",
       "      <td>W</td>\n",
       "      <td>55</td>\n",
       "    </tr>\n",
       "    <tr>\n",
       "      <th>2</th>\n",
       "      <td>18</td>\n",
       "      <td>0</td>\n",
       "      <td>24.0</td>\n",
       "      <td>-999.0</td>\n",
       "      <td>-999.0</td>\n",
       "      <td>1</td>\n",
       "      <td>0</td>\n",
       "      <td>맑음</td>\n",
       "      <td>Clear</td>\n",
       "      <td>0.0</td>\n",
       "      <td>0.0</td>\n",
       "      <td>0</td>\n",
       "      <td>3.3</td>\n",
       "      <td>6</td>\n",
       "      <td>서</td>\n",
       "      <td>W</td>\n",
       "      <td>60</td>\n",
       "    </tr>\n",
       "    <tr>\n",
       "      <th>3</th>\n",
       "      <td>19</td>\n",
       "      <td>0</td>\n",
       "      <td>22.0</td>\n",
       "      <td>-999.0</td>\n",
       "      <td>-999.0</td>\n",
       "      <td>1</td>\n",
       "      <td>0</td>\n",
       "      <td>맑음</td>\n",
       "      <td>Clear</td>\n",
       "      <td>0.0</td>\n",
       "      <td>0.0</td>\n",
       "      <td>0</td>\n",
       "      <td>2.3</td>\n",
       "      <td>6</td>\n",
       "      <td>서</td>\n",
       "      <td>W</td>\n",
       "      <td>60</td>\n",
       "    </tr>\n",
       "    <tr>\n",
       "      <th>4</th>\n",
       "      <td>20</td>\n",
       "      <td>0</td>\n",
       "      <td>21.0</td>\n",
       "      <td>-999.0</td>\n",
       "      <td>-999.0</td>\n",
       "      <td>1</td>\n",
       "      <td>0</td>\n",
       "      <td>맑음</td>\n",
       "      <td>Clear</td>\n",
       "      <td>0.0</td>\n",
       "      <td>0.0</td>\n",
       "      <td>0</td>\n",
       "      <td>2.1</td>\n",
       "      <td>6</td>\n",
       "      <td>서</td>\n",
       "      <td>W</td>\n",
       "      <td>70</td>\n",
       "    </tr>\n",
       "    <tr>\n",
       "      <th>...</th>\n",
       "      <td>...</td>\n",
       "      <td>...</td>\n",
       "      <td>...</td>\n",
       "      <td>...</td>\n",
       "      <td>...</td>\n",
       "      <td>...</td>\n",
       "      <td>...</td>\n",
       "      <td>...</td>\n",
       "      <td>...</td>\n",
       "      <td>...</td>\n",
       "      <td>...</td>\n",
       "      <td>...</td>\n",
       "      <td>...</td>\n",
       "      <td>...</td>\n",
       "      <td>...</td>\n",
       "      <td>...</td>\n",
       "      <td>...</td>\n",
       "    </tr>\n",
       "    <tr>\n",
       "      <th>76</th>\n",
       "      <td>20</td>\n",
       "      <td>3</td>\n",
       "      <td>24.0</td>\n",
       "      <td>29.0</td>\n",
       "      <td>16.0</td>\n",
       "      <td>1</td>\n",
       "      <td>0</td>\n",
       "      <td>맑음</td>\n",
       "      <td>Clear</td>\n",
       "      <td>0.0</td>\n",
       "      <td>0.0</td>\n",
       "      <td>0</td>\n",
       "      <td>1.6</td>\n",
       "      <td>7</td>\n",
       "      <td>북서</td>\n",
       "      <td>NW</td>\n",
       "      <td>60</td>\n",
       "    </tr>\n",
       "    <tr>\n",
       "      <th>77</th>\n",
       "      <td>21</td>\n",
       "      <td>3</td>\n",
       "      <td>22.0</td>\n",
       "      <td>29.0</td>\n",
       "      <td>16.0</td>\n",
       "      <td>1</td>\n",
       "      <td>0</td>\n",
       "      <td>맑음</td>\n",
       "      <td>Clear</td>\n",
       "      <td>0.0</td>\n",
       "      <td>0.0</td>\n",
       "      <td>0</td>\n",
       "      <td>1.6</td>\n",
       "      <td>7</td>\n",
       "      <td>북서</td>\n",
       "      <td>NW</td>\n",
       "      <td>65</td>\n",
       "    </tr>\n",
       "    <tr>\n",
       "      <th>78</th>\n",
       "      <td>22</td>\n",
       "      <td>3</td>\n",
       "      <td>21.0</td>\n",
       "      <td>29.0</td>\n",
       "      <td>16.0</td>\n",
       "      <td>1</td>\n",
       "      <td>0</td>\n",
       "      <td>맑음</td>\n",
       "      <td>Clear</td>\n",
       "      <td>0.0</td>\n",
       "      <td>0.0</td>\n",
       "      <td>0</td>\n",
       "      <td>1.5</td>\n",
       "      <td>7</td>\n",
       "      <td>북서</td>\n",
       "      <td>NW</td>\n",
       "      <td>75</td>\n",
       "    </tr>\n",
       "    <tr>\n",
       "      <th>79</th>\n",
       "      <td>23</td>\n",
       "      <td>3</td>\n",
       "      <td>21.0</td>\n",
       "      <td>29.0</td>\n",
       "      <td>16.0</td>\n",
       "      <td>1</td>\n",
       "      <td>0</td>\n",
       "      <td>맑음</td>\n",
       "      <td>Clear</td>\n",
       "      <td>0.0</td>\n",
       "      <td>0.0</td>\n",
       "      <td>0</td>\n",
       "      <td>1.5</td>\n",
       "      <td>7</td>\n",
       "      <td>북서</td>\n",
       "      <td>NW</td>\n",
       "      <td>75</td>\n",
       "    </tr>\n",
       "    <tr>\n",
       "      <th>80</th>\n",
       "      <td>24</td>\n",
       "      <td>3</td>\n",
       "      <td>20.0</td>\n",
       "      <td>29.0</td>\n",
       "      <td>16.0</td>\n",
       "      <td>1</td>\n",
       "      <td>0</td>\n",
       "      <td>맑음</td>\n",
       "      <td>Clear</td>\n",
       "      <td>0.0</td>\n",
       "      <td>0.0</td>\n",
       "      <td>0</td>\n",
       "      <td>1.3</td>\n",
       "      <td>7</td>\n",
       "      <td>북서</td>\n",
       "      <td>NW</td>\n",
       "      <td>80</td>\n",
       "    </tr>\n",
       "  </tbody>\n",
       "</table>\n",
       "<p>81 rows × 17 columns</p>\n",
       "</div>"
      ],
      "text/plain": [
       "      hour  day  temp    tmx    tmn  sky  pty wfKor   wfEn  pcp  sno  pop  \\\n",
       "@seq                                                                        \n",
       "0       16    0  26.0 -999.0 -999.0    1    0    맑음  Clear  0.0  0.0    0   \n",
       "1       17    0  25.0 -999.0 -999.0    1    0    맑음  Clear  0.0  0.0    0   \n",
       "2       18    0  24.0 -999.0 -999.0    1    0    맑음  Clear  0.0  0.0    0   \n",
       "3       19    0  22.0 -999.0 -999.0    1    0    맑음  Clear  0.0  0.0    0   \n",
       "4       20    0  21.0 -999.0 -999.0    1    0    맑음  Clear  0.0  0.0    0   \n",
       "...    ...  ...   ...    ...    ...  ...  ...   ...    ...  ...  ...  ...   \n",
       "76      20    3  24.0   29.0   16.0    1    0    맑음  Clear  0.0  0.0    0   \n",
       "77      21    3  22.0   29.0   16.0    1    0    맑음  Clear  0.0  0.0    0   \n",
       "78      22    3  21.0   29.0   16.0    1    0    맑음  Clear  0.0  0.0    0   \n",
       "79      23    3  21.0   29.0   16.0    1    0    맑음  Clear  0.0  0.0    0   \n",
       "80      24    3  20.0   29.0   16.0    1    0    맑음  Clear  0.0  0.0    0   \n",
       "\n",
       "       ws  wd wdKor wdEn  reh  \n",
       "@seq                           \n",
       "0     4.0   6     서    W   60  \n",
       "1     3.9   6     서    W   55  \n",
       "2     3.3   6     서    W   60  \n",
       "3     2.3   6     서    W   60  \n",
       "4     2.1   6     서    W   70  \n",
       "...   ...  ..   ...  ...  ...  \n",
       "76    1.6   7    북서   NW   60  \n",
       "77    1.6   7    북서   NW   65  \n",
       "78    1.5   7    북서   NW   75  \n",
       "79    1.5   7    북서   NW   75  \n",
       "80    1.3   7    북서   NW   80  \n",
       "\n",
       "[81 rows x 17 columns]"
      ]
     },
     "execution_count": 216,
     "metadata": {},
     "output_type": "execute_result"
    }
   ],
   "source": [
    "df = pd.DataFrame(json_data['rss']['channel']['item']['description']['body']['data'])\n",
    "\n",
    "df.to_csv('weather.csv', index=False, encoding='utf-8-sig')\n",
    "df = pd.read_csv('weather.csv')\n",
    "df.set_index(\"@seq\")\n"
   ]
  },
  {
   "cell_type": "code",
   "execution_count": 152,
   "id": "a3a2bab4-b896-40a3-93ad-8127896135c1",
   "metadata": {},
   "outputs": [
    {
     "data": {
      "text/plain": [
       "'맑음'"
      ]
     },
     "execution_count": 152,
     "metadata": {},
     "output_type": "execute_result"
    }
   ],
   "source": [
    "json_data['rss']['channel']['item']['description']['body']['data'][0].keys"
   ]
  },
  {
   "cell_type": "code",
   "execution_count": 154,
   "id": "48ff0780-b6ba-40ef-8b83-b3d1b03337fe",
   "metadata": {},
   "outputs": [
    {
     "data": {
      "text/plain": [
       "list"
      ]
     },
     "execution_count": 154,
     "metadata": {},
     "output_type": "execute_result"
    }
   ],
   "source": [
    "type(json_data['rss']['channel']['item']['description']['body']['data'])"
   ]
  },
  {
   "cell_type": "code",
   "execution_count": 160,
   "id": "7f805123-dad3-4bca-9a5d-7ddefc83ecd5",
   "metadata": {},
   "outputs": [
    {
     "data": {
      "text/plain": [
       "dict_keys(['title', 'link', 'description', 'language', 'generator', 'pubDate', 'item'])"
      ]
     },
     "execution_count": 160,
     "metadata": {},
     "output_type": "execute_result"
    }
   ],
   "source": [
    "json_data['rss']['channel'].keys()"
   ]
  },
  {
   "cell_type": "code",
   "execution_count": 218,
   "id": "63c38faa-07e3-4e87-9a42-37a6a61c5f0a",
   "metadata": {},
   "outputs": [
    {
     "data": {
      "text/plain": [
       "[                Value                                            Meaning\n",
       " 0            'strict'  Raise UnicodeError (or a subclass), this is th...\n",
       " 1            'ignore'  Ignore the malformed data and continue without...\n",
       " 2           'replace'  Replace with a replacement marker. On encoding...\n",
       " 3  'backslashreplace'  Replace with backslashed escape sequences. On ...\n",
       " 4   'surrogateescape'  On decoding, replace byte with individual surr...,\n",
       "                  Value                                            Meaning\n",
       " 0  'xmlcharrefreplace'  Replace with XML/HTML numeric character refere...\n",
       " 1        'namereplace'  Replace with \\N{...} escape sequences, what ap...,\n",
       "              Value                                             Codecs  \\\n",
       " 0  'surrogatepass'  utf-8, utf-16, utf-32, utf-16-be, utf-16-le, u...   \n",
       " \n",
       "                                              Meaning  \n",
       " 0  Allow encoding and decoding surrogate code poi...  ,\n",
       "                      Range                             Encoding\n",
       " 0  U-00000000 … U-0000007F                             0xxxxxxx\n",
       " 1  U-00000080 … U-000007FF                    110xxxxx 10xxxxxx\n",
       " 2  U-00000800 … U-0000FFFF           1110xxxx 10xxxxxx 10xxxxxx\n",
       " 3  U-00010000 … U-0010FFFF  11110xxx 10xxxxxx 10xxxxxx 10xxxxxx,\n",
       "         Codec                 Aliases                     Languages\n",
       " 0       ascii           646, us-ascii                       English\n",
       " 1        big5         big5-tw, csbig5           Traditional Chinese\n",
       " 2   big5hkscs       big5-hkscs, hkscs           Traditional Chinese\n",
       " 3       cp037          IBM037, IBM039                       English\n",
       " 4       cp273   273, IBM273, csIBM273  German Added in version 3.4.\n",
       " ..        ...                     ...                           ...\n",
       " 92  utf_16_be                UTF-16BE                 all languages\n",
       " 93  utf_16_le                UTF-16LE                 all languages\n",
       " 94      utf_7   U7, unicode-1-1-utf-7                 all languages\n",
       " 95      utf_8  U8, UTF, utf8, cp65001                 all languages\n",
       " 96  utf_8_sig                     NaN                 all languages\n",
       " \n",
       " [97 rows x 3 columns],\n",
       "                 Codec     Aliases  \\\n",
       " 0                idna         NaN   \n",
       " 1                mbcs  ansi, dbcs   \n",
       " 2                 oem         NaN   \n",
       " 3              palmos         NaN   \n",
       " 4            punycode         NaN   \n",
       " 5  raw_unicode_escape         NaN   \n",
       " 6           undefined         NaN   \n",
       " 7      unicode_escape         NaN   \n",
       " \n",
       "                                              Meaning  \n",
       " 0  Implement RFC 3490, see also encodings.idna. O...  \n",
       " 1  Windows only: Encode the operand according to ...  \n",
       " 2  Windows only: Encode the operand according to ...  \n",
       " 3                            Encoding of PalmOS 3.5.  \n",
       " 4  Implement RFC 3492. Stateful codecs are not su...  \n",
       " 5  Latin-1 encoding with \\uXXXX and \\UXXXXXXXX fo...  \n",
       " 6  Raise an exception for all conversions, even e...  \n",
       " 7  Encoding suitable as the contents of a Unicode...  ,\n",
       "               Codec                                    Aliases  \\\n",
       " 0  base64_codec [1]                            base64, base_64   \n",
       " 1         bz2_codec                                        bz2   \n",
       " 2         hex_codec                                        hex   \n",
       " 3      quopri_codec  quopri, quotedprintable, quoted_printable   \n",
       " 4          uu_codec                                         uu   \n",
       " 5        zlib_codec                                  zip, zlib   \n",
       " \n",
       "                                              Meaning  \\\n",
       " 0  Convert the operand to multiline MIME base64 (...   \n",
       " 1                    Compress the operand using bz2.   \n",
       " 2  Convert the operand to hexadecimal representat...   \n",
       " 3      Convert the operand to MIME quoted printable.   \n",
       " 4                Convert the operand using uuencode.   \n",
       " 5                   Compress the operand using gzip.   \n",
       " \n",
       "                                    Encoder / decoder  \n",
       " 0        base64.encodebytes() / base64.decodebytes()  \n",
       " 1                  bz2.compress() / bz2.decompress()  \n",
       " 2            binascii.b2a_hex() / binascii.a2b_hex()  \n",
       " 3  quopri.encode() with quotetabs=True / quopri.d...  \n",
       " 4  uu.encode() / uu.decode() (Note: uu is depreca...  \n",
       " 5                zlib.compress() / zlib.decompress()  ,\n",
       "     Codec Aliases                                            Meaning\n",
       " 0  rot_13   rot13  Return the Caesar-cypher encryption of the ope...]"
      ]
     },
     "execution_count": 218,
     "metadata": {},
     "output_type": "execute_result"
    }
   ],
   "source": [
    "path = \"https://docs.python.org/3/library/codecs.html#text-encodings\"\n",
    "tables = pd.read_html(path)\n",
    "\n",
    "tables"
   ]
  },
  {
   "cell_type": "code",
   "execution_count": 232,
   "id": "0294eb5e-c81b-47bc-9269-0749b699a2c6",
   "metadata": {},
   "outputs": [
    {
     "name": "stdout",
     "output_type": "stream",
     "text": [
      "ascii\tbig5\tbig5hkscs\tcp037\tcp273\tcp424\tcp437\tcp500\tcp720\tcp737\tcp775\tcp850\tcp852\tcp855\tcp856\tcp857\tcp858\tcp860\tcp861\tcp862\tcp863\tcp864\tcp865\tcp866\tcp869\tcp874\tcp875\tcp932\tcp949\tcp950\tcp1006\tcp1026\tcp1125\tcp1140\tcp1250\tcp1251\tcp1252\tcp1253\tcp1254\tcp1255\tcp1256\tcp1257\tcp1258\teuc_jp\teuc_jis_2004\teuc_jisx0213\teuc_kr\tgb2312\tgbk\tgb18030\thz\tiso2022_jp\tiso2022_jp_1\tiso2022_jp_2\tiso2022_jp_2004\tiso2022_jp_3\tiso2022_jp_ext\tiso2022_kr\tlatin_1\tiso8859_2\tiso8859_3\tiso8859_4\tiso8859_5\tiso8859_6\tiso8859_7\tiso8859_8\tiso8859_9\tiso8859_10\tiso8859_11\tiso8859_13\tiso8859_14\tiso8859_15\tiso8859_16\tjohab\tkoi8_r\tkoi8_t\tkoi8_u\tkz1048\tmac_cyrillic\tmac_greek\tmac_iceland\tmac_latin2\tmac_roman\tmac_turkish\tptcp154\tshift_jis\tshift_jis_2004\tshift_jisx0213\tutf_32\tutf_32_be\tutf_32_le\tutf_16\tutf_16_be\tutf_16_le\tutf_7\tutf_8\tutf_8_sig\t"
     ]
    }
   ],
   "source": [
    "for c in tables[4]['Codec'] : \n",
    "    print(c, end='\\t')"
   ]
  },
  {
   "cell_type": "code",
   "execution_count": null,
   "id": "dc9dcd81-e050-4f65-996d-3b8dd3e231aa",
   "metadata": {},
   "outputs": [],
   "source": []
  }
 ],
 "metadata": {
  "kernelspec": {
   "display_name": "Python 3 (ipykernel)",
   "language": "python",
   "name": "python3"
  },
  "language_info": {
   "codemirror_mode": {
    "name": "ipython",
    "version": 3
   },
   "file_extension": ".py",
   "mimetype": "text/x-python",
   "name": "python",
   "nbconvert_exporter": "python",
   "pygments_lexer": "ipython3",
   "version": "3.12.4"
  }
 },
 "nbformat": 4,
 "nbformat_minor": 5
}
