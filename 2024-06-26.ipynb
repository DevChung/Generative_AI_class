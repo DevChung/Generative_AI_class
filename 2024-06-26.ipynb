{
 "cells": [
  {
   "cell_type": "markdown",
   "id": "b40bc48b-ffcb-4bba-b4ff-c84d1fc13d8f",
   "metadata": {},
   "source": [
    "### HTML 다루기\n",
    "- Top-down 방식 : 큰 그림부터 이해하고 세부적으로, 나무를 보지 말고 숲을 보자\n",
    "- Bottom-UP 방식 : 세부적인 데서 출발하자"
   ]
  },
  {
   "cell_type": "code",
   "execution_count": null,
   "id": "4efc93da-5d35-414a-aa34-c6aac56ff8fd",
   "metadata": {},
   "outputs": [],
   "source": [
    "import requests\n",
    "import bs4"
   ]
  },
  {
   "cell_type": "code",
   "execution_count": null,
   "id": "e560eb59-ab46-4a9f-b07a-45c7fecf95ed",
   "metadata": {},
   "outputs": [],
   "source": [
    "url = 'https://www.aladin.co.kr/shop/common/wbest.aspx?BranchType=1'\n",
    "response = requests.get(url).text\n",
    "\n",
    "one_page = bs4.BeautifulSoup(response)"
   ]
  },
  {
   "cell_type": "code",
   "execution_count": null,
   "id": "4fe6349c-4a7c-4125-b02c-96f58b6fea32",
   "metadata": {},
   "outputs": [],
   "source": [
    "title_list = one_page.find_all('b')"
   ]
  },
  {
   "cell_type": "code",
   "execution_count": null,
   "id": "8e054d01-d8d8-40e8-abf2-bcb4b688147d",
   "metadata": {},
   "outputs": [],
   "source": [
    "title_list"
   ]
  },
  {
   "cell_type": "code",
   "execution_count": null,
   "id": "1202826f-f444-4a6c-a002-82e755355d5d",
   "metadata": {},
   "outputs": [],
   "source": [
    "book_list=[]\n",
    "for title in title_list[0::3]:\n",
    "    book_list.append(title.text)"
   ]
  },
  {
   "cell_type": "code",
   "execution_count": null,
   "id": "bed84db5-5cb7-413a-94bc-716b9c59f56d",
   "metadata": {},
   "outputs": [],
   "source": [
    "book_list"
   ]
  },
  {
   "cell_type": "code",
   "execution_count": null,
   "id": "f19346a5-5550-42e6-a6c5-22c6d45a4300",
   "metadata": {},
   "outputs": [],
   "source": [
    "top_down = one_page.find_all('div', {'class':'ss_book_box'})\n",
    "one_book = top_down[0].find('div',{'class' : 'ss_book_list'})\n",
    "one_book.find('a', 'bo3').find('b').text\n",
    "\n",
    "# top-down 방식, 위에서 부터 차례로 내려오며 찾는 방식, 더 확실하게 찾을 수 있다."
   ]
  },
  {
   "cell_type": "code",
   "execution_count": null,
   "id": "d4a34eb1-eef6-47a7-9b05-1a2d2ee86a40",
   "metadata": {},
   "outputs": [],
   "source": [
    "# 함수만들기\n",
    "def best_books():\n",
    "    \"\"\"\n",
    "    알라딘 사이트에서 베스트 셀러 50권의 이름을 반환합니다.\n",
    "    \"\"\"\n",
    "    url = 'https://www.aladin.co.kr/shop/common/wbest.aspx?BranchType=1'\n",
    "    response = requests.get(url).text\n",
    "    one_page = bs4.BeautifulSoup(response)\n",
    "    title_list = one_page.find_all('b')\n",
    "    \n",
    "    best_selling_book_list = []\n",
    "    for title in title_list[0::3]:\n",
    "        best_selling_book_list.append(title.text)\n",
    "\n",
    "    return best_selling_book_list"
   ]
  },
  {
   "cell_type": "code",
   "execution_count": null,
   "id": "1b8f1a7b-80f1-40ca-9e81-82a42198335c",
   "metadata": {},
   "outputs": [],
   "source": [
    "test = best_books()\n",
    "#return : 알라딘 사이트의 베스트 셀러 50권의 책 제목이 반환"
   ]
  },
  {
   "cell_type": "code",
   "execution_count": null,
   "id": "0751ba57-8a41-4a2a-a11e-caab885e292e",
   "metadata": {},
   "outputs": [],
   "source": [
    "test"
   ]
  },
  {
   "cell_type": "markdown",
   "id": "b4ca0fc9-1ce7-43ed-81bd-d0ae6e9a1036",
   "metadata": {},
   "source": [
    "### select() 를 이용한 검색\n",
    "\n",
    "\n",
    "- 태그를 찾을 때, 몇몇 사이트는 검색을 못하게 막을 수도 있다.\n",
    "- select()는 find_all()과 유사한 기능을 제공함\n",
    "- 보다 유연하게 활용될 수 있다, 더 쉽다 카더라\n",
    "- CSS 선택자의 형식에 따라 태그를 검색함"
   ]
  },
  {
   "cell_type": "code",
   "execution_count": null,
   "id": "53a06b62-729c-4148-8250-22523af22b9f",
   "metadata": {},
   "outputs": [],
   "source": [
    "one_page.select(\".bo3\")"
   ]
  },
  {
   "cell_type": "code",
   "execution_count": null,
   "id": "d0f408c4-967d-4bc9-a2b6-a4ca9ade13dc",
   "metadata": {},
   "outputs": [],
   "source": [
    "one_page.select('#newbg_body')"
   ]
  },
  {
   "cell_type": "code",
   "execution_count": null,
   "id": "3ff1a8d6-15ac-4a28-b9b2-fcb5cc6075d3",
   "metadata": {},
   "outputs": [],
   "source": [
    "one_page.select('div.ss_book_list a.bo3 b')"
   ]
  },
  {
   "cell_type": "code",
   "execution_count": null,
   "id": "20216538-ea6c-4c73-b0c9-c7d25123df2d",
   "metadata": {},
   "outputs": [],
   "source": [
    "one_page.select('link + style') # link 태그 다음에 style 태그"
   ]
  },
  {
   "cell_type": "code",
   "execution_count": null,
   "id": "5e39864e-eb73-4766-bbbe-2777f11d7883",
   "metadata": {},
   "outputs": [],
   "source": [
    "one_page.select('div > ul') # div 바로 밑에 있는 ul 태그"
   ]
  },
  {
   "cell_type": "code",
   "execution_count": null,
   "id": "be6009e6-d2f7-490b-ad2f-ca73a1215c53",
   "metadata": {},
   "outputs": [],
   "source": [
    "one_page.select('div.ss_book_list > ul > li')"
   ]
  },
  {
   "cell_type": "code",
   "execution_count": null,
   "id": "7663c3d7-7e63-4a51-942e-63fd93da85f7",
   "metadata": {},
   "outputs": [],
   "source": [
    "one_page.select('a[href^=https]') # href 속성값이 https로 시작하는 a태그를 찾아줘"
   ]
  },
  {
   "cell_type": "code",
   "execution_count": null,
   "id": "4e3ccfbc-2b51-483e-a718-8bd329b9b12d",
   "metadata": {},
   "outputs": [],
   "source": [
    "# select를 활용하여 책 제목을 받아보자\n",
    "book_name_list = []\n",
    "for name in one_page.select('a.bo3 b'):\n",
    "    book_name_list.append(name.text)\n",
    "\n",
    "book_name_list"
   ]
  },
  {
   "cell_type": "markdown",
   "id": "5d356dd1-831e-41b9-a718-2dd4f6b16f3a",
   "metadata": {},
   "source": [
    "#### 1. 네이버 웹툰 데이터 크롤링 : 네이버, 웹툰 제목, 번호 추출 -> 웹툰의 리스트를 출력, 다운로드 받을 웹툰을 입력-> 다운로드 받을 몇화 입력, 웹툰 다운로드\n",
    "#### 2. 초성퀴즈 : 랜덤으로 주는 초성, 입력받은 단어가 다음 사전에 결과가 나오는지 크롤링하여 정답 체크 다음 사전 초성은 두글자\n",
    "##### 3. 컨탠츠 댓글 수집 : 사용자가 특정 키워드에 대한 컨탠츠를 찾고 해당 컨탠츠의 댓글 수집"
   ]
  },
  {
   "cell_type": "code",
   "execution_count": null,
   "id": "c4706f9e-f58e-475c-865b-55e076a224f0",
   "metadata": {},
   "outputs": [],
   "source": [
    "!pip install jamo"
   ]
  },
  {
   "cell_type": "code",
   "execution_count": 1,
   "id": "a6746e0b-d8d5-4de7-80ac-07a65867490e",
   "metadata": {},
   "outputs": [
    {
     "name": "stdout",
     "output_type": "stream",
     "text": [
      "삼, ㅅㅏㅁ\n",
      "성, ㅅㅓㅇ\n",
      "전, ㅈㅓㄴ\n",
      "자, ㅈㅏ\n",
      "ㅅㅅㅈㅈ\n",
      "True\n",
      "19\n"
     ]
    }
   ],
   "source": [
    "from jamo import h2j, j2hcj  # 글자 분해하는 라이브러리\n",
    "\n",
    "import random as r\n",
    "\n",
    "# 초성모음\n",
    "CHO = [\n",
    "    'ㄱ', 'ㄲ', 'ㄴ', 'ㄷ', 'ㄸ', 'ㄹ', 'ㅁ', 'ㅂ', 'ㅃ', 'ㅅ', 'ㅆ', \n",
    "    'ㅇ', 'ㅈ', 'ㅉ', 'ㅊ', 'ㅋ', 'ㅌ', 'ㅍ', 'ㅎ'\n",
    "]\n",
    "\n",
    "#예시 코드\n",
    "allInit = []\n",
    "text = \"삼성전자\"\n",
    "for x in text:\n",
    "    temp = h2j(x)\n",
    "    imf = j2hcj(temp)  # init,middle,final\n",
    "    print(f\"{temp}, {imf}\")\n",
    "    allInit.append(imf[0])\n",
    "            \n",
    "print(\"\".join(allInit))\n",
    "\n",
    "\n",
    "r.randint(0, 18)\n",
    "\n",
    "print(imf[0] in CHO)\n",
    "print(len(CHO))"
   ]
  },
  {
   "cell_type": "code",
   "execution_count": 3,
   "id": "b63da3ed-97cb-40f3-a6d9-255df7d05093",
   "metadata": {},
   "outputs": [],
   "source": [
    "def give_chosung(num=2):\n",
    "    \"\"\"\n",
    "        랜덤한 초성을 리스트로 반환(기본 사이즈 2)\n",
    "    \"\"\"\n",
    "    chosung = []\n",
    "    for i in range(0, num):\n",
    "        chosung.append(CHO[r.randint(0,18)])\n",
    "        # print(chosung[i])\n",
    "    return chosung "
   ]
  },
  {
   "cell_type": "code",
   "execution_count": 310,
   "id": "c62373ae-94de-4bc2-a671-22d1a450e7de",
   "metadata": {},
   "outputs": [],
   "source": [
    "question = give_chosung()"
   ]
  },
  {
   "cell_type": "code",
   "execution_count": 312,
   "id": "5e02187a-6fcf-4d68-82c4-d1a0af22c407",
   "metadata": {},
   "outputs": [
    {
     "data": {
      "text/plain": [
       "['ㅁ', 'ㅈ']"
      ]
     },
     "execution_count": 312,
     "metadata": {},
     "output_type": "execute_result"
    }
   ],
   "source": [
    "question"
   ]
  },
  {
   "cell_type": "code",
   "execution_count": 276,
   "id": "289272a3-926e-4d68-9308-f13055e0a7f7",
   "metadata": {},
   "outputs": [],
   "source": [
    "import requests\n",
    "import bs4\n",
    "\n",
    "def input_word():\n",
    "    return input(\"단어를 입력하세요(종료:q)\")\n",
    "\n",
    "# 입력한 단어 길이 체크\n",
    "def is_same_len(word, length):\n",
    "    return len(word) == length\n",
    "\n",
    "# 입력한 단어 초성 체크\n",
    "def is_right_chosung(word, *chosung):\n",
    "    \n",
    "    for i in range(0, len(word)):\n",
    "        if j2hcj(h2j(word[i]))[0] != chosung[i]:\n",
    "            return False\n",
    "\n",
    "    return True\n",
    "\n",
    "def is_right_word(word):\n",
    "    url= f\"https://dic.daum.net/search.do?q={word}\"\n",
    "    response = requests.get(url).text\n",
    "    search_result = bs4.BeautifulSoup(response)\n",
    "\n",
    "    try:\n",
    "        first_word = search_result.find('div','search_box').find('a', 'txt_cleansch').find('span', 'txt_emph1').text\n",
    "        if first_word == word:\n",
    "            return True\n",
    "        else:\n",
    "            print('사전에 없는 단어입니다')\n",
    "            return False\n",
    "    except :\n",
    "        print('사전에 없는 단어입니다')\n",
    "        return False\n",
    "    \n"
   ]
  },
  {
   "cell_type": "code",
   "execution_count": 304,
   "id": "2b4a79e2-49f2-4177-b76e-be7dfe9f0735",
   "metadata": {},
   "outputs": [
    {
     "name": "stdout",
     "output_type": "stream",
     "text": [
      "True\n",
      "True\n"
     ]
    },
    {
     "data": {
      "text/plain": [
       "['ㄸ', 'ㄲ']"
      ]
     },
     "execution_count": 304,
     "metadata": {},
     "output_type": "execute_result"
    }
   ],
   "source": [
    "\n",
    "print(is_same_len(word, len(question)))\n",
    "print(is_right_chosung(word, *question))\n",
    "question"
   ]
  },
  {
   "cell_type": "code",
   "execution_count": 218,
   "id": "74aee100-5cf2-46bd-be2e-7969383b7f90",
   "metadata": {},
   "outputs": [],
   "source": [
    "test = is_right_word(\"지구\")"
   ]
  },
  {
   "cell_type": "code",
   "execution_count": 220,
   "id": "284b2d74-ef88-4e36-860f-2eb31b6d60b9",
   "metadata": {},
   "outputs": [
    {
     "data": {
      "text/plain": [
       "True"
      ]
     },
     "execution_count": 220,
     "metadata": {},
     "output_type": "execute_result"
    }
   ],
   "source": [
    "test"
   ]
  },
  {
   "cell_type": "code",
   "execution_count": 408,
   "id": "57fdff3e-ad02-4e81-998f-d8df520d5c39",
   "metadata": {},
   "outputs": [
    {
     "name": "stdout",
     "output_type": "stream",
     "text": [
      "초성은 ['ㄴ', 'ㄲ']\n"
     ]
    },
    {
     "name": "stdin",
     "output_type": "stream",
     "text": [
      "단어를 입력하세요(종료:q) 누꼬\n"
     ]
    },
    {
     "name": "stdout",
     "output_type": "stream",
     "text": [
      "사전에 없는 단어입니다\n"
     ]
    },
    {
     "name": "stdin",
     "output_type": "stream",
     "text": [
      "단어를 입력하세요(종료:q) 니꺼\n"
     ]
    },
    {
     "name": "stdout",
     "output_type": "stream",
     "text": [
      "사전에 없는 단어입니다\n"
     ]
    },
    {
     "name": "stdin",
     "output_type": "stream",
     "text": [
      "단어를 입력하세요(종료:q) 뇨끼\n"
     ]
    },
    {
     "name": "stdout",
     "output_type": "stream",
     "text": [
      "정답입니다!\n"
     ]
    },
    {
     "name": "stdin",
     "output_type": "stream",
     "text": [
      "단어를 입력하세요(종료:q) q\n"
     ]
    },
    {
     "name": "stdout",
     "output_type": "stream",
     "text": [
      "게임을 종료합니다. 점수: 1\n"
     ]
    }
   ],
   "source": [
    "out_word=[]\n",
    "score = 0\n",
    "question = give_chosung()\n",
    "print(\"초성은\", question)\n",
    "\n",
    "\n",
    "while True:\n",
    "    \n",
    "    word = input_word()\n",
    "\n",
    "    if word == \"q\":\n",
    "        break\n",
    "    elif word in out_word:\n",
    "        print(\"이미 사용한 단어입니다\")\n",
    "    elif not is_same_len(word, len(question)):\n",
    "        print(\"길이가 다릅니다\")\n",
    "    elif not is_right_chosung2(word, *question):\n",
    "        print(\"초성이 다릅니다\")\n",
    "    elif is_right_word(word):\n",
    "        print(\"정답입니다!\")\n",
    "        out_word.append(word)\n",
    "        score+=1\n",
    "    else:\n",
    "        pass\n",
    "\n",
    "\n",
    "print(\"게임을 종료합니다. 점수:\", score)"
   ]
  },
  {
   "cell_type": "code",
   "execution_count": 406,
   "id": "cdce4bcf-c156-429a-a259-c0b722eca62a",
   "metadata": {},
   "outputs": [],
   "source": [
    "# 유니코드 초성 검증기\n",
    "consonants = {'ㄱ': 44032, 'ㄲ': 44620, 'ㄴ': 45208, 'ㄷ': 45796, 'ㄸ': 46384, 'ㄹ': 46972, 'ㅁ': 47560, \n",
    "              'ㅂ': 48148, 'ㅃ': 48736, 'ㅅ': 49324, 'ㅆ': 49912, 'ㅇ': 50500, 'ㅈ': 51088, 'ㅉ': 51676, 'ㅊ': 52264, \n",
    "              'ㅋ': 52852, 'ㅌ': 53440, 'ㅍ': 54028, 'ㅎ': 54616}\n",
    "\n",
    "def is_right_chosung2(word, *chosung):\n",
    "    for i in range(0, len(word)):\n",
    "        cho = [k for k, v in consonants.items() if v == (ord(word[i]) - ((ord(word[i]) - 520) % 588))]\n",
    "        if cho[0] != chosung[i]:\n",
    "            return False\n",
    "\n",
    "    return True\n",
    "\n",
    "\n",
    "#     user_word_1 = ord(word[0]) - ((ord(word[0]) - 520) % 588)\n",
    "#     user_word_2 = ord(word[1]) - ((ord(word[1]) - 520) % 588)\n",
    "\n",
    "#     cho1 = [k for k, v in consonants.items() if v == user_word_1]\n",
    "#     cho2 = [k for k, v in consonants.items() if v == user_word_2]\n",
    "#     print(cho1, cho2)\n",
    "\n",
    "# is_right_chosung2(input())\n"
   ]
  },
  {
   "cell_type": "code",
   "execution_count": 404,
   "id": "0792d9f3-94ec-4a5f-b6a2-3ddd0fd7bded",
   "metadata": {},
   "outputs": [
    {
     "name": "stdin",
     "output_type": "stream",
     "text": [
      " ㅇ ㅋ\n"
     ]
    },
    {
     "name": "stdout",
     "output_type": "stream",
     "text": [
      "12280 -68\n"
     ]
    }
   ],
   "source": [
    "\n",
    "word= input()\n",
    "user_word_1 = ord(word[0]) - ((ord(word[0]) - 520) % 588)\n",
    "user_word_2 = ord(word[1]) - ((ord(word[1]) - 520) % 588)\n",
    "print(user_word_1, user_word_2)"
   ]
  },
  {
   "cell_type": "code",
   "execution_count": 402,
   "id": "336285ce-50bb-4b66-bb39-d7f7722fd386",
   "metadata": {},
   "outputs": [
    {
     "name": "stdout",
     "output_type": "stream",
     "text": [
      "['ㅂ', 'ㅋ']\n"
     ]
    },
    {
     "data": {
      "text/plain": [
       "True"
      ]
     },
     "execution_count": 402,
     "metadata": {},
     "output_type": "execute_result"
    }
   ],
   "source": [
    "print(question)\n",
    "is_right_chosung2(\"바카\", *question)"
   ]
  },
  {
   "cell_type": "code",
   "execution_count": 360,
   "id": "1fea76c5-b2d8-42e0-a41f-68d6fb660831",
   "metadata": {},
   "outputs": [
    {
     "name": "stdout",
     "output_type": "stream",
     "text": [
      "49912\n"
     ]
    }
   ],
   "source": [
    "print(ord('싸') - ((ord('싸') - 520) % 588))"
   ]
  },
  {
   "cell_type": "code",
   "execution_count": null,
   "id": "e3725e24-8ab4-45d7-9dd5-0de9ea59dab5",
   "metadata": {},
   "outputs": [],
   "source": []
  }
 ],
 "metadata": {
  "kernelspec": {
   "display_name": "Python 3 (ipykernel)",
   "language": "python",
   "name": "python3"
  },
  "language_info": {
   "codemirror_mode": {
    "name": "ipython",
    "version": 3
   },
   "file_extension": ".py",
   "mimetype": "text/x-python",
   "name": "python",
   "nbconvert_exporter": "python",
   "pygments_lexer": "ipython3",
   "version": "3.11.7"
  },
  "widgets": {
   "application/vnd.jupyter.widget-state+json": {
    "state": {},
    "version_major": 2,
    "version_minor": 0
   }
  }
 },
 "nbformat": 4,
 "nbformat_minor": 5
}
