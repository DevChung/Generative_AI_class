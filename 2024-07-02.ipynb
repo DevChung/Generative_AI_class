{
 "cells": [
  {
   "cell_type": "code",
   "execution_count": 73,
   "id": "50aff5d6-52c6-4dd0-8c19-561ef5ed9e33",
   "metadata": {},
   "outputs": [],
   "source": [
    "import pyautogui"
   ]
  },
  {
   "cell_type": "markdown",
   "id": "eed3ffbb-d4aa-4bce-946e-80d9a8c7f787",
   "metadata": {},
   "source": [
    "pyautogui.size()\n",
    "# 마우스 커서는 0,0 부터 시작함\n",
    "- 1919가 가로의 최대 좌표 1079가 y의 최대좌표이다 "
   ]
  },
  {
   "cell_type": "code",
   "execution_count": 7,
   "id": "5b2d528d-51a8-4e79-b99e-d8cddccd6758",
   "metadata": {},
   "outputs": [
    {
     "data": {
      "text/plain": [
       "Point(x=539, y=433)"
      ]
     },
     "execution_count": 7,
     "metadata": {},
     "output_type": "execute_result"
    }
   ],
   "source": [
    "pyautogui.position()"
   ]
  },
  {
   "cell_type": "code",
   "execution_count": 9,
   "id": "1ce3d0df-496a-49b5-905d-6c6aaebeb2f7",
   "metadata": {},
   "outputs": [],
   "source": [
    "pyautogui.moveTo(1919, 1079, 1)"
   ]
  },
  {
   "cell_type": "markdown",
   "id": "248cddef-31cd-490d-ab1c-6a3aa1798a57",
   "metadata": {},
   "source": [
    "# 현재 위치에서 상대적 이동하기"
   ]
  },
  {
   "cell_type": "code",
   "execution_count": 18,
   "id": "45fae982-f9d2-46dd-a37d-ac727b0d3e17",
   "metadata": {},
   "outputs": [],
   "source": [
    "x, y = pyautogui.position()\n",
    "# moveTo는 절대좌표\n",
    "pyautogui.moveTo(x+200, y+200, 1)\n",
    "pyautogui.moveTo(x+100, y+100, 1)\n",
    "pyautogui.moveTo(x, y, 1)\n",
    "\n",
    "pyautogui.FAILSAFE = False\n",
    "pyautogui.moveTo(1920,1080,1)"
   ]
  },
  {
   "cell_type": "code",
   "execution_count": 20,
   "id": "60601e83-3448-49a3-b3ca-c3146f6c4e06",
   "metadata": {},
   "outputs": [],
   "source": [
    "\n",
    "pyautogui.move(200, 200, 1)\n",
    "pyautogui.move(0, 50, 1)\n",
    "pyautogui.move(-30, -78, 1)"
   ]
  },
  {
   "cell_type": "code",
   "execution_count": 26,
   "id": "a17028e9-ebbc-42ac-ab16-ca62ce535ae6",
   "metadata": {},
   "outputs": [],
   "source": [
    "pyautogui.PAUSE = 0.25"
   ]
  },
  {
   "cell_type": "code",
   "execution_count": 34,
   "id": "b46f817e-c3e2-4027-8954-d3ce05e8d643",
   "metadata": {},
   "outputs": [],
   "source": [
    "# click\n",
    "pyautogui.click(200, 200)\n",
    "pyautogui.doubleClick(500, 1100, interval=2)\n"
   ]
  },
  {
   "cell_type": "markdown",
   "id": "b4bdc0eb-849a-4055-acc3-f120a83d6ec7",
   "metadata": {},
   "source": [
    "### 계산기 조작하기"
   ]
  },
  {
   "cell_type": "code",
   "execution_count": 45,
   "id": "ef6bb11a-68c3-427e-96de-1e84c20143a8",
   "metadata": {},
   "outputs": [],
   "source": [
    "buttons = {\n",
    "    '1':(43, 445), '2':(122, 453), '3':(194,455), '4':(42,396), '5':(124,398),\n",
    "    '6':(207, 396), '7':(43, 337), '8':(115,342), '9':(202,342), '0':(136,501),\n",
    "    '+':(283,450), '-':(272,389), '*':(281,345), '/':(288,294), '=':(279,508),\n",
    "    'c':(192,240)\n",
    "}\n",
    "\n",
    "def calc(f):\n",
    "    for s in f:\n",
    "        x, y = buttons[s]\n",
    "        pyautogui.click(x, y, interval=1)"
   ]
  },
  {
   "cell_type": "code",
   "execution_count": 49,
   "id": "df5ed820-7f54-44d0-844d-e41acedd8bb2",
   "metadata": {},
   "outputs": [],
   "source": [
    "calc(\"1+2+3+4+5=\")"
   ]
  },
  {
   "cell_type": "code",
   "execution_count": 75,
   "id": "3b850916-c263-443a-86fb-5831dcf0c4f8",
   "metadata": {},
   "outputs": [],
   "source": [
    "pyautogui.scroll(1000)\n",
    "pyautogui.dragTo(1000)\n"
   ]
  },
  {
   "cell_type": "code",
   "execution_count": 77,
   "id": "0f405f46-5430-4508-8227-53da256a7bb1",
   "metadata": {},
   "outputs": [],
   "source": [
    "from subprocess import Popen\n",
    "import time\n",
    "\n",
    "Popen('mspaint')\n",
    "time.sleep(1)\n",
    "\n",
    "pyautogui.moveTo(6,152, duration=1)\n",
    "\n",
    "x_distance = 1900\n",
    "y_distance = 994"
   ]
  },
  {
   "cell_type": "markdown",
   "id": "5f8796b4-43dc-4d18-8b9d-a9f23c6c2fc1",
   "metadata": {},
   "source": [
    "### 이미지 추출/검색"
   ]
  },
  {
   "cell_type": "code",
   "execution_count": 98,
   "id": "7b91b55b-fbcb-449a-a901-f86cad986af8",
   "metadata": {},
   "outputs": [],
   "source": [
    "box = pyautogui.locateOnScreen('1.png')  # 왼쪽 상단의 모서리 좌표를 구해줌\n",
    "\n",
    "pyautogui.moveTo(pyautogui.center(box), duration=1)\n",
    "\n",
    "\n",
    "pyautogui.locateCenterOnScreen('1.png') # 처음부터 가운데를 반환\n",
    "pyautogui.locateAllOnScreen() # list로 좌표를 받음 왼쪽 위가 기준"
   ]
  },
  {
   "cell_type": "code",
   "execution_count": 109,
   "id": "3ce69f8d-38c8-4fc8-ad65-fb560087cb2f",
   "metadata": {},
   "outputs": [],
   "source": [
    "pyautogui.position()\n",
    "pyautogui.click(pyautogui.position())\n",
    "pyautogui.typewrite('jfdksaljflksajf', interval=0.3)"
   ]
  },
  {
   "cell_type": "code",
   "execution_count": 123,
   "id": "45e309ce-660e-4854-855b-42dbe5f43512",
   "metadata": {},
   "outputs": [],
   "source": [
    "Popen('notepad')\n",
    "time.sleep(1)\n",
    "\n",
    "pyautogui.typewrite('show me the money\\nopration cwal\\npower overwhelming\\n', interval=0.2)\n",
    "\n",
    "# 한글 입력법\n",
    "pyautogui.press(['hangul'])\n",
    "pyautogui.typewrite('dlrj ehlsmsrj akwdma? dkakeh?', interval=0.1)"
   ]
  },
  {
   "cell_type": "code",
   "execution_count": 125,
   "id": "8666559b-4115-4422-864d-a14462419e0f",
   "metadata": {},
   "outputs": [],
   "source": [
    "# 한글 입력 2\n",
    "import pyperclip"
   ]
  },
  {
   "cell_type": "code",
   "execution_count": 127,
   "id": "3f3043bd-5f46-44d5-aa9e-e428f22ec5ce",
   "metadata": {},
   "outputs": [],
   "source": [
    "Popen('notepad')\n",
    "time.sleep(1)\n",
    "\n",
    "sonny = \"\"\"\n",
    "        대한민국 국적의 토트넘 홋스퍼 FC 소속 축구 선수. 주 포지션은 윙어. 토트넘 홋스퍼 FC와 대한민국 축구 국가대표팀의 주장을 맡고 있다.\n",
    "        프리미어 리그과 UCL 역대 아시아 선수 최다 득점자이며 발롱도르 후보 30인과 FIFA FIFPro 월드 XI 후보 55인에 선정되었다. \n",
    "        프리미어 리그에서 아시아 선수 최초로 득점왕을 수상했고, PFA 올해의 팀에 이름을 올렸으며, PL에서 통산 100호 골을 달성했다. \n",
    "        또한, 아시아 선수 최초로 잉글랜드 FA컵에서 득점왕을 차지했고, 토트넘 역사상 최다 도움을 기록했다.\n",
    "        \"\"\"\n",
    "\n",
    "pyperclip.copy(sonny)\n",
    "pyautogui.hotkey('Ctrl', 'v')"
   ]
  },
  {
   "cell_type": "code",
   "execution_count": null,
   "id": "6f4bc313-9f45-4557-9931-0eebaa7a8727",
   "metadata": {},
   "outputs": [],
   "source": []
  }
 ],
 "metadata": {
  "kernelspec": {
   "display_name": "Python 3 (ipykernel)",
   "language": "python",
   "name": "python3"
  },
  "language_info": {
   "codemirror_mode": {
    "name": "ipython",
    "version": 3
   },
   "file_extension": ".py",
   "mimetype": "text/x-python",
   "name": "python",
   "nbconvert_exporter": "python",
   "pygments_lexer": "ipython3",
   "version": "3.11.7"
  },
  "widgets": {
   "application/vnd.jupyter.widget-state+json": {
    "state": {},
    "version_major": 2,
    "version_minor": 0
   }
  }
 },
 "nbformat": 4,
 "nbformat_minor": 5
}
