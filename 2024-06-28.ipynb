{
 "cells": [
  {
   "cell_type": "markdown",
   "id": "a2bb05da-1592-4de8-8215-c5d8a966242d",
   "metadata": {},
   "source": [
    "# 파일과 폴더 관리\n",
    "- glob(pathname) : 파일 경로의 리스트를 반환\n",
    "- pathname에 wildcart character가 들어감"
   ]
  },
  {
   "cell_type": "code",
   "execution_count": 2,
   "id": "59bf107a-298b-4575-8a8f-e36b6d8244f0",
   "metadata": {},
   "outputs": [],
   "source": [
    "import glob"
   ]
  },
  {
   "cell_type": "code",
   "execution_count": 4,
   "id": "72af5d2f-7ed9-45c1-a113-5342e7bf636c",
   "metadata": {},
   "outputs": [
    {
     "data": {
      "text/plain": [
       "['C:\\\\Windows\\\\bfsvc.exe',\n",
       " 'C:\\\\Windows\\\\explorer.exe',\n",
       " 'C:\\\\Windows\\\\HelpPane.exe',\n",
       " 'C:\\\\Windows\\\\hh.exe',\n",
       " 'C:\\\\Windows\\\\notepad.exe',\n",
       " 'C:\\\\Windows\\\\py.exe',\n",
       " 'C:\\\\Windows\\\\pyw.exe',\n",
       " 'C:\\\\Windows\\\\regedit.exe',\n",
       " 'C:\\\\Windows\\\\splwow64.exe',\n",
       " 'C:\\\\Windows\\\\winhlp32.exe',\n",
       " 'C:\\\\Windows\\\\write.exe']"
      ]
     },
     "execution_count": 4,
     "metadata": {},
     "output_type": "execute_result"
    }
   ],
   "source": [
    "glob.glob(r'C:\\Windows\\*.exe') # 벡슬레시(\\)는 안쓰는 것이 좋다. 그치만 r을 쓰면 되는걸"
   ]
  },
  {
   "cell_type": "code",
   "execution_count": 10,
   "id": "d67722ef-9014-4c93-9563-3891f1d574a4",
   "metadata": {},
   "outputs": [
    {
     "data": {
      "text/plain": [
       "['C:\\\\Windows\\\\addins',\n",
       " 'C:\\\\Windows\\\\appcompat',\n",
       " 'C:\\\\Windows\\\\apppatch',\n",
       " 'C:\\\\Windows\\\\AppReadiness',\n",
       " 'C:\\\\Windows\\\\assembly',\n",
       " 'C:\\\\Windows\\\\bcastdvr',\n",
       " 'C:\\\\Windows\\\\bfsvc.exe',\n",
       " 'C:\\\\Windows\\\\BitLockerDiscoveryVolumeContents',\n",
       " 'C:\\\\Windows\\\\Boot',\n",
       " 'C:\\\\Windows\\\\bootstat.dat',\n",
       " 'C:\\\\Windows\\\\Branding',\n",
       " 'C:\\\\Windows\\\\CbsTemp',\n",
       " 'C:\\\\Windows\\\\Containers',\n",
       " 'C:\\\\Windows\\\\CSC',\n",
       " 'C:\\\\Windows\\\\Cursors']"
      ]
     },
     "execution_count": 10,
     "metadata": {},
     "output_type": "execute_result"
    }
   ],
   "source": [
    "glob.glob(r'C:\\Windows\\[abc]*')  # a, b, c 중 하나로 시작하는 것들을 모아라"
   ]
  },
  {
   "cell_type": "code",
   "execution_count": 12,
   "id": "2c9d08ae-aaaf-47fa-9de6-b9628d9fe648",
   "metadata": {},
   "outputs": [
    {
     "data": {
      "text/plain": [
       "['C:\\\\Windows\\\\hh.exe', 'C:\\\\Windows\\\\py.exe']"
      ]
     },
     "execution_count": 12,
     "metadata": {},
     "output_type": "execute_result"
    }
   ],
   "source": [
    "glob.glob(r'C:\\Windows\\??.exe')  # 2글자의 .exe파일을 모아와"
   ]
  },
  {
   "cell_type": "markdown",
   "id": "e64540ad-ffea-4536-875e-faf44b91d4db",
   "metadata": {},
   "source": [
    "### 파일 이름 분할"
   ]
  },
  {
   "cell_type": "code",
   "execution_count": 15,
   "id": "66e837fa-6c7c-4bc5-982b-825242dd45cd",
   "metadata": {},
   "outputs": [],
   "source": [
    "import os"
   ]
  },
  {
   "cell_type": "code",
   "execution_count": 20,
   "id": "dbae8adb-8d65-4ad9-85a7-f8c03a51fa6b",
   "metadata": {},
   "outputs": [],
   "source": [
    "fpath = r'C:\\Windows\\notepad.exe'\n",
    "path, fname = os.path.split(fpath)"
   ]
  },
  {
   "cell_type": "code",
   "execution_count": 22,
   "id": "0f8dbcb1-8af1-4b5c-99d3-2dcb37e18fc6",
   "metadata": {},
   "outputs": [
    {
     "data": {
      "text/plain": [
       "('notepad', '.exe')"
      ]
     },
     "execution_count": 22,
     "metadata": {},
     "output_type": "execute_result"
    }
   ],
   "source": [
    "os.path.splitext(fname)"
   ]
  },
  {
   "cell_type": "code",
   "execution_count": 24,
   "id": "abb2d6d7-ddb6-4daf-ae01-ed0b8e816685",
   "metadata": {},
   "outputs": [
    {
     "data": {
      "text/plain": [
       "('C:\\\\Windows\\\\notepad', '.exe')"
      ]
     },
     "execution_count": 24,
     "metadata": {},
     "output_type": "execute_result"
    }
   ],
   "source": [
    "os.path.splitext(fpath)"
   ]
  },
  {
   "cell_type": "code",
   "execution_count": 26,
   "id": "39fbbdb6-6641-4ba7-a986-13e1d1a22aa1",
   "metadata": {},
   "outputs": [
    {
     "data": {
      "text/plain": [
       "['addins',\n",
       " 'appcompat',\n",
       " 'apppatch',\n",
       " 'AppReadiness',\n",
       " 'assembly',\n",
       " 'bcastdvr',\n",
       " 'bfsvc.exe',\n",
       " 'BitLockerDiscoveryVolumeContents',\n",
       " 'Boot',\n",
       " 'bootstat.dat',\n",
       " 'Branding',\n",
       " 'CbsTemp',\n",
       " 'Containers',\n",
       " 'CSC',\n",
       " 'Cursors',\n",
       " 'debug',\n",
       " 'diagnostics',\n",
       " 'DiagTrack',\n",
       " 'DigitalLocker',\n",
       " 'Downloaded Program Files',\n",
       " 'DtcInstall.log',\n",
       " 'ELAMBKUP',\n",
       " 'en-US',\n",
       " 'explorer.exe',\n",
       " 'Fonts',\n",
       " 'GameBarPresenceWriter',\n",
       " 'Globalization',\n",
       " 'Help',\n",
       " 'HelpPane.exe',\n",
       " 'hh.exe',\n",
       " 'IdentityCRL',\n",
       " 'IME',\n",
       " 'ImmersiveControlPanel',\n",
       " 'InboxApps',\n",
       " 'INF',\n",
       " 'InputMethod',\n",
       " 'Installer',\n",
       " 'ko-KR',\n",
       " 'L2Schemas',\n",
       " 'LanguageOverlayCache',\n",
       " 'LiveKernelReports',\n",
       " 'Logs',\n",
       " 'lsasetup.log',\n",
       " 'Media',\n",
       " 'mib.bin',\n",
       " 'Microsoft.NET',\n",
       " 'Migration',\n",
       " 'ModemLogs',\n",
       " 'notepad.exe',\n",
       " 'OCR',\n",
       " 'Offline Web Pages',\n",
       " 'Panther',\n",
       " 'PCHEALTH',\n",
       " 'Performance',\n",
       " 'PFRO.log',\n",
       " 'PLA',\n",
       " 'PolicyDefinitions',\n",
       " 'Prefetch',\n",
       " 'PrintDialog',\n",
       " 'Professional.xml',\n",
       " 'Provisioning',\n",
       " 'py.exe',\n",
       " 'pyshellext.amd64.dll',\n",
       " 'pyw.exe',\n",
       " 'regedit.exe',\n",
       " 'Registration',\n",
       " 'RemotePackages',\n",
       " 'rescache',\n",
       " 'Resources',\n",
       " 'SchCache',\n",
       " 'schemas',\n",
       " 'security',\n",
       " 'ServiceProfiles',\n",
       " 'ServiceState',\n",
       " 'servicing',\n",
       " 'Setup',\n",
       " 'setupact.log',\n",
       " 'setuperr.log',\n",
       " 'ShellComponents',\n",
       " 'ShellExperiences',\n",
       " 'SHELLNEW',\n",
       " 'SKB',\n",
       " 'SoftwareDistribution',\n",
       " 'Speech',\n",
       " 'Speech_OneCore',\n",
       " 'splwow64.exe',\n",
       " 'System',\n",
       " 'system.ini',\n",
       " 'System32',\n",
       " 'SystemApps',\n",
       " 'SystemResources',\n",
       " 'SystemTemp',\n",
       " 'SysWOW64',\n",
       " 'TAPI',\n",
       " 'Tasks',\n",
       " 'Temp',\n",
       " 'tracing',\n",
       " 'twain_32',\n",
       " 'twain_32.dll',\n",
       " 'Vss',\n",
       " 'WaaS',\n",
       " 'Web',\n",
       " 'win.ini',\n",
       " 'WindowsShell.Manifest',\n",
       " 'WindowsUpdate.log',\n",
       " 'winhlp32.exe',\n",
       " 'WinSxS',\n",
       " 'WMSysPr9.prx',\n",
       " 'write.exe']"
      ]
     },
     "execution_count": 26,
     "metadata": {},
     "output_type": "execute_result"
    }
   ],
   "source": [
    "os.listdir(r'c:/Windows/')"
   ]
  },
  {
   "cell_type": "code",
   "execution_count": 186,
   "id": "88407182-acd1-4781-9d07-49547b26a680",
   "metadata": {},
   "outputs": [
    {
     "name": "stdout",
     "output_type": "stream",
     "text": [
      "C:\\Users\\405-11\\test\n",
      "['.ipynb_checkpoints', 'backup_2024628', 'test']\n",
      "['2024-06-24.ipynb', '2024-06-25.ipynb', '2024-06-26.ipynb', '2024-06-27.ipynb', '2024-06-28.ipynb', 'aa.txt', 'movie_review.csv']\n",
      "--------------------------------------------------\n",
      "C:\\Users\\405-11\\test\\.ipynb_checkpoints\n",
      "[]\n",
      "['2024-06-24-checkpoint.ipynb', '2024-06-25-checkpoint.ipynb', '2024-06-26-checkpoint.ipynb', '2024-06-27-checkpoint.ipynb', '2024-06-28-checkpoint.ipynb']\n",
      "--------------------------------------------------\n",
      "C:\\Users\\405-11\\test\\backup_2024628\n",
      "[]\n",
      "['2024-06-28-checkpoint.ipynb', '2024-06-28.ipynb', 'aa.txt', 'abc_000.txt', 'abc_001.txt', 'abc_002.txt', 'abc_003.txt', 'abc_004.txt', 'abc_005.txt', 'abc_006.txt', 'abc_007.txt', 'abc_008.txt', 'abc_009.txt', 'abc_010.txt', 'abc_011.txt', 'abc_012.txt', 'abc_013.txt', 'abc_014.txt', 'abc_015.txt', 'abc_016.txt', 'abc_017.txt', 'abc_018.txt', 'abc_019.txt']\n",
      "--------------------------------------------------\n",
      "C:\\Users\\405-11\\test\\test\n",
      "[]\n",
      "['abc_000.txt', 'abc_001.txt', 'abc_002.txt', 'abc_003.txt', 'abc_004.txt', 'abc_005.txt', 'abc_006.txt', 'abc_007.txt', 'abc_008.txt', 'abc_009.txt', 'abc_010.txt', 'abc_011.txt', 'abc_012.txt', 'abc_013.txt', 'abc_014.txt', 'abc_015.txt', 'abc_016.txt', 'abc_017.txt', 'abc_018.txt', 'abc_019.txt']\n",
      "--------------------------------------------------\n"
     ]
    }
   ],
   "source": [
    "for cur_dir, dirs, files, in os.walk(r'C:\\Users\\405-11\\test'):\n",
    "    print(cur_dir)\n",
    "    print(dirs)\n",
    "    print(files)\n",
    "    print('-'*50)"
   ]
  },
  {
   "cell_type": "markdown",
   "id": "e5875a73-0e5c-441a-934b-1e9320ca1e00",
   "metadata": {},
   "source": [
    "### 파일속성\n",
    "- 파일에 대한 작업을 하려면, 파일의 속성 정보(파일 종류, 크기, 접근권한 등)를 먼저 파악해야 함\n",
    "- os.path 를 사용함\n",
    "\n",
    "### 스토리지\n",
    "- 블록 스토리지 : 메모리에서 사용되는 아주 작은 단위로 저장하는 방식 (읽기 쓰기가 빈번한 경우 DB, DAS, SAN 등에서 쓰임)\n",
    "- 파일 스토리지 : 윈도우 처럼 디렉토리위주로 관리함 네트워크 공유 목적으로 사용 NAS\n",
    "- 객체 스토리지 : 파일에는 제한적인 메타데이터가 들어감. 새로운 유형의 스토리지\n",
    "\n",
    "- 요즘은 메타 데이터에 제한이 없음. 그냥 막 넣고 객체라고 칭함.\n",
    "- 모든 종류의 데이터를 짱박을 수 있다. 근데 관리하기 개빡쎔.\n",
    "- 데이터 쪼끔 바꾸는 용도 등으로 쓰면 비효율적임. WORM    write once read many --> 한번만 쓰고 많이 읽으면 이걸 써라.\n",
    "\n",
    "- 정형 데이터 : 형태가 정해진 데이터\n",
    "- 비정형 데이터 : 형태가 없다. 양이 많아 정형으로 만들기 빡쌔다. 그냥 막 다 박자 --> 객체 스토리지를 쓰자!! "
   ]
  },
  {
   "cell_type": "code",
   "execution_count": 46,
   "id": "819caac7-3521-484a-bae9-29b44847ba09",
   "metadata": {},
   "outputs": [
    {
     "name": "stdout",
     "output_type": "stream",
     "text": [
      "True\n",
      "False\n",
      "True\n",
      "200704\n",
      "True\n",
      "True\n",
      "True\n"
     ]
    }
   ],
   "source": [
    "fpath = r'C:\\Windows\\notepad.exe'\n",
    "print(os.path.isfile(fpath))    # 파일이니?\n",
    "print(os.path.isdir(fpath))     # 디레토리니?\n",
    "print(os.path.exists(fpath))    # 존재하니?\n",
    "print(os.path.getsize(fpath))   # 파일 사이즈\n",
    "\n",
    "print(os.access(fpath, os.R_OK)) #읽을 수 있니?\n",
    "print(os.access(fpath, os.W_OK)) # 쓸수 있니?\n",
    "print(os.access(fpath, os.X_OK)) # 실행할 수 있니?"
   ]
  },
  {
   "cell_type": "markdown",
   "id": "50f4cedb-f990-40d2-b04a-5c48cb1e9aaf",
   "metadata": {},
   "source": [
    "#### 파일 시간 확인\n",
    "- 파일을 생성한 시간(C) create\n",
    "- 파일을 수정한 시간(m) modify\n",
    "- 파일의 접근한 시간(a) access\n",
    "\n",
    "- os.path.get*()"
   ]
  },
  {
   "cell_type": "code",
   "execution_count": 51,
   "id": "50e94765-a2c7-4171-938d-50e6b0ad4ac1",
   "metadata": {},
   "outputs": [
    {
     "name": "stdout",
     "output_type": "stream",
     "text": [
      "1716080646.069501\n",
      "1719535761.5548666\n",
      "1716080646.07751\n"
     ]
    }
   ],
   "source": [
    "print(os.path.getctime(fpath))\n",
    "print(os.path.getatime(fpath))\n",
    "print(os.path.getmtime(fpath))"
   ]
  },
  {
   "cell_type": "markdown",
   "id": "6485b031-3a90-409c-98ac-19c85fe54290",
   "metadata": {},
   "source": [
    "#### timestamp\n",
    "- 하나의 숫자로 시간을 나타냄\n",
    "- 초 단위, 1970년 1월 1일 부터 몇초가 지났는가(UTC)"
   ]
  },
  {
   "cell_type": "code",
   "execution_count": 62,
   "id": "ed7edd00-146e-412f-8da0-2751f433dfe6",
   "metadata": {},
   "outputs": [],
   "source": [
    "from datetime import datetime"
   ]
  },
  {
   "cell_type": "code",
   "execution_count": 142,
   "id": "21843756-454c-4d1e-ab99-f01583f10c78",
   "metadata": {},
   "outputs": [
    {
     "name": "stdout",
     "output_type": "stream",
     "text": [
      "2024 6 28 11 10 18\n"
     ]
    },
    {
     "data": {
      "text/plain": [
       "float"
      ]
     },
     "execution_count": 142,
     "metadata": {},
     "output_type": "execute_result"
    }
   ],
   "source": [
    "d = datetime.fromtimestamp(os.path.getctime(fpath))\n",
    "print(d.year, d.month, d.day, d.hour, d.minute, d.second)\n",
    "\n",
    "type(os.path.getctime(fpath))"
   ]
  },
  {
   "cell_type": "markdown",
   "id": "a5df960e-7a61-4522-8edc-e2d094ecba71",
   "metadata": {},
   "source": [
    "#### 표준적인 날짜 표시\n",
    "#### YYYY-mm-dd hh:mm:ss"
   ]
  },
  {
   "cell_type": "code",
   "execution_count": 68,
   "id": "49791437-56ad-4d98-a554-cbf1895249eb",
   "metadata": {},
   "outputs": [
    {
     "data": {
      "text/plain": [
       "'2024-05-19 10:04:06'"
      ]
     },
     "execution_count": 68,
     "metadata": {},
     "output_type": "execute_result"
    }
   ],
   "source": [
    "d.strftime('%Y-%m-%d %H:%M:%S')"
   ]
  },
  {
   "cell_type": "markdown",
   "id": "b8fddd09-7eb8-45db-8d01-10ce34d65c0d",
   "metadata": {},
   "source": [
    "#### 파일 수정/접근 시간 변경"
   ]
  },
  {
   "cell_type": "code",
   "execution_count": 83,
   "id": "a9b731d8-2fe5-42b2-8dc7-e726fc969ce9",
   "metadata": {},
   "outputs": [
    {
     "name": "stdout",
     "output_type": "stream",
     "text": [
      "2024-06-28 10:19:11\n"
     ]
    }
   ],
   "source": [
    "mtime = datetime.fromtimestamp(os.path.getmtime('test.txt'))\n",
    "print(mtime.strftime('%Y-%m-%d %H:%M:%S'))"
   ]
  },
  {
   "cell_type": "code",
   "execution_count": 93,
   "id": "084e7445-4950-4958-9de7-9f0674c8d59c",
   "metadata": {},
   "outputs": [],
   "source": [
    "ts = datetime(year=2024, month=12, day=25, hour=0, minute=0, second=0).timestamp()"
   ]
  },
  {
   "cell_type": "code",
   "execution_count": 95,
   "id": "1ead8b31-1a42-463e-9fea-a1cede7da768",
   "metadata": {},
   "outputs": [
    {
     "data": {
      "text/plain": [
       "datetime.datetime(2024, 12, 25, 0, 0)"
      ]
     },
     "execution_count": 95,
     "metadata": {},
     "output_type": "execute_result"
    }
   ],
   "source": [
    "datetime.fromtimestamp(ts)"
   ]
  },
  {
   "cell_type": "code",
   "execution_count": 97,
   "id": "fb27338a-b373-42d3-bca0-bac5189964e4",
   "metadata": {},
   "outputs": [],
   "source": [
    "os.utime('test.txt', (ts, ts))"
   ]
  },
  {
   "cell_type": "code",
   "execution_count": 101,
   "id": "3629d676-8e5d-4968-8172-6bbcad539318",
   "metadata": {},
   "outputs": [
    {
     "name": "stdout",
     "output_type": "stream",
     "text": [
      "2024-12-25 00:00:00\n",
      "2024-06-28 10:19:11\n"
     ]
    }
   ],
   "source": [
    "print(datetime.fromtimestamp(os.path.getmtime('test.txt')).strftime('%Y-%m-%d %H:%M:%S'))\n",
    "print(datetime.fromtimestamp(os.path.getctime('test.txt')).strftime('%Y-%m-%d %H:%M:%S'))"
   ]
  },
  {
   "cell_type": "markdown",
   "id": "51b5045d-9af3-4c37-9546-2087c4f0833c",
   "metadata": {},
   "source": [
    "#### 파일.디렉터리 복사, 이동, 삭제\n",
    "- 복사 : shutil.copy(src, dst)\n",
    "- 이동 : os.rename(src, dst)\n",
    "- 삭제 : os.remove(path)\n",
    "- 디렉터리 삭제 : shutil.rmtree() "
   ]
  },
  {
   "cell_type": "code",
   "execution_count": 104,
   "id": "7b8156bb-4140-467c-b955-28752ce85cd0",
   "metadata": {},
   "outputs": [],
   "source": [
    "import shutil"
   ]
  },
  {
   "cell_type": "code",
   "execution_count": 108,
   "id": "f2ff2af8-2f39-4cee-98bd-f6fc6491e536",
   "metadata": {},
   "outputs": [
    {
     "data": {
      "text/plain": [
       "'aa.txt'"
      ]
     },
     "execution_count": 108,
     "metadata": {},
     "output_type": "execute_result"
    }
   ],
   "source": [
    "shutil.copy('a.txt', 'aa.txt')"
   ]
  },
  {
   "cell_type": "code",
   "execution_count": 110,
   "id": "99a447da-b46a-4b3c-8ea2-d91478392f92",
   "metadata": {},
   "outputs": [],
   "source": [
    "os.rename('a.txt', 'b.txt')"
   ]
  },
  {
   "cell_type": "code",
   "execution_count": 112,
   "id": "93a919d8-8e62-4eb4-9d42-56126363138f",
   "metadata": {},
   "outputs": [],
   "source": [
    "os.remove('b.txt')"
   ]
  },
  {
   "cell_type": "code",
   "execution_count": 114,
   "id": "89b09a01-1d8f-4d1d-bf22-65f62c4b4144",
   "metadata": {},
   "outputs": [],
   "source": [
    "shutil.rmtree('test')\n",
    "\n",
    "# 하위 내용까지 모두 삭제됨\n",
    "# os.rmdir() 는 디렉터리가 비어 있지 않으면 삭제 안됩니다."
   ]
  },
  {
   "cell_type": "markdown",
   "id": "01bd4bd8-5f13-4bbb-95ce-f8b993aa57ad",
   "metadata": {},
   "source": [
    "### Quiz \n",
    "- 파일 이름 일괄 변경하기\n",
    "- abc_1.txt --> abc_001.txt 폼으로 변경"
   ]
  },
  {
   "cell_type": "code",
   "execution_count": 120,
   "id": "847850c6-2ae7-4951-8fed-e54bcf2e9c8d",
   "metadata": {},
   "outputs": [],
   "source": [
    "for i in range(20):\n",
    "    fname = f'test/abc_{i}.txt'\n",
    "    open(fname, 'w').write(fname)"
   ]
  },
  {
   "cell_type": "code",
   "execution_count": 124,
   "id": "edfad5d9-697e-4223-8b35-5fac2186ff05",
   "metadata": {},
   "outputs": [],
   "source": [
    "for i in range(20):\n",
    "    fname = f'test/abc_{i}.txt' #{:0>3}\n",
    "    newname = 'test/abc_'+'{:0>3}'.format(i)+'.txt'\n",
    "    os.rename(fname, newname)"
   ]
  },
  {
   "cell_type": "markdown",
   "id": "baa91f3c-5854-4f02-be99-e933ba40cc89",
   "metadata": {},
   "source": [
    "#### 문자열 포맷팅을 사용하여 0 채우기\n",
    "- 문자열 포맷팅을 사용하여 0을 채울 수 있습니다. {:0>길이}와 같은 형식을 사용합니다."
   ]
  },
  {
   "cell_type": "code",
   "execution_count": 213,
   "id": "2a7a037e-2354-4222-9520-2a69633f6610",
   "metadata": {},
   "outputs": [
    {
     "name": "stdout",
     "output_type": "stream",
     "text": [
      "00123\n"
     ]
    }
   ],
   "source": [
    "number = '123'\n",
    "padded_number = '{:0>5}'.format(number)\n",
    "print(padded_number)  # 출력 결과: 00123"
   ]
  },
  {
   "cell_type": "code",
   "execution_count": 129,
   "id": "2b8dcf9b-6eac-4201-9c92-75f843f92e75",
   "metadata": {},
   "outputs": [
    {
     "name": "stdout",
     "output_type": "stream",
     "text": [
      "002\n"
     ]
    }
   ],
   "source": [
    "print('{:0>3}'.format(2))  # 0채우기 test"
   ]
  },
  {
   "cell_type": "code",
   "execution_count": 134,
   "id": "17c57c9a-0839-48f0-ba2d-b6cb50573f79",
   "metadata": {},
   "outputs": [
    {
     "name": "stdout",
     "output_type": "stream",
     "text": [
      "test\\abc_000.txt\n",
      "test\\abc_001.txt\n",
      "test\\abc_002.txt\n",
      "test\\abc_003.txt\n",
      "test\\abc_004.txt\n",
      "test\\abc_005.txt\n",
      "test\\abc_006.txt\n",
      "test\\abc_007.txt\n",
      "test\\abc_008.txt\n",
      "test\\abc_009.txt\n",
      "test\\abc_010.txt\n",
      "test\\abc_011.txt\n",
      "test\\abc_012.txt\n",
      "test\\abc_013.txt\n",
      "test\\abc_014.txt\n",
      "test\\abc_015.txt\n",
      "test\\abc_016.txt\n",
      "test\\abc_017.txt\n",
      "test\\abc_018.txt\n",
      "test\\abc_019.txt\n"
     ]
    }
   ],
   "source": [
    "for fpath in glob.glob('test/abc*.txt'):\n",
    "    print(fpath)"
   ]
  },
  {
   "cell_type": "markdown",
   "id": "5bffb78a-cced-45a2-9270-a0182889d5de",
   "metadata": {},
   "source": [
    "### Quiz 특정시간 이후에 변경된 파일만 백업하기\n",
    "- 오늘 오전 10시 이후로 작업한 파일을 백업 폴더(backup_240608)에 저장하세요\n",
    "  "
   ]
  },
  {
   "cell_type": "code",
   "execution_count": 202,
   "id": "82cd35ac-f8b6-4638-91e1-2a6d6b9d2ce9",
   "metadata": {},
   "outputs": [
    {
     "name": "stdout",
     "output_type": "stream",
     "text": [
      "2024-06-28.ipynb이 백업되었습니다 2024-06-28 14:50:32\n",
      "aa.txt이 백업되었습니다 2024-06-28 14:50:32\n",
      "2024-06-28-checkpoint.ipynb이 백업되었습니다 2024-06-28 14:50:32\n",
      "abc_000.txt이 백업되었습니다 2024-06-28 14:50:32\n",
      "abc_001.txt이 백업되었습니다 2024-06-28 14:50:32\n",
      "abc_002.txt이 백업되었습니다 2024-06-28 14:50:32\n",
      "abc_003.txt이 백업되었습니다 2024-06-28 14:50:32\n",
      "abc_004.txt이 백업되었습니다 2024-06-28 14:50:32\n",
      "abc_005.txt이 백업되었습니다 2024-06-28 14:50:32\n",
      "abc_006.txt이 백업되었습니다 2024-06-28 14:50:32\n",
      "abc_007.txt이 백업되었습니다 2024-06-28 14:50:32\n",
      "abc_008.txt이 백업되었습니다 2024-06-28 14:50:32\n",
      "abc_009.txt이 백업되었습니다 2024-06-28 14:50:32\n",
      "abc_010.txt이 백업되었습니다 2024-06-28 14:50:32\n",
      "abc_011.txt이 백업되었습니다 2024-06-28 14:50:32\n",
      "abc_012.txt이 백업되었습니다 2024-06-28 14:50:32\n",
      "abc_013.txt이 백업되었습니다 2024-06-28 14:50:32\n",
      "abc_014.txt이 백업되었습니다 2024-06-28 14:50:32\n",
      "abc_015.txt이 백업되었습니다 2024-06-28 14:50:32\n",
      "abc_016.txt이 백업되었습니다 2024-06-28 14:50:32\n",
      "abc_017.txt이 백업되었습니다 2024-06-28 14:50:32\n",
      "abc_018.txt이 백업되었습니다 2024-06-28 14:50:32\n",
      "abc_019.txt이 백업되었습니다 2024-06-28 14:50:32\n"
     ]
    }
   ],
   "source": [
    "cur = datetime.today()\n",
    "cur_year = cur.year\n",
    "cur_mon = cur.month\n",
    "cur_day = cur.day          #현재 날짜와 시간\n",
    "\n",
    "back_up_folder_name = f'backup_{cur_year}' + '{:0>2}'.format(cur_mon) + f'{cur_day}'                                      # 오늘 날짜의 폴더 생성\n",
    "ts = datetime(year=cur_year, month=cur_mon, day=cur_day, hour=10, minute=0, second=0).timestamp() # 오늘 10 기준 타임스탬프\n",
    "back_up_path = f'C:/Users/405-11/test/{back_up_folder_name}'                                      # 백업 폴더 경로\n",
    "\n",
    "for cur_dir, dirs, files, in os.walk('C:/Users/405-11/test/'):   \n",
    "    if not os.path.exists(back_up_folder_name):\n",
    "        os.mkdir(back_up_folder_name)\n",
    "    \n",
    "    for file in files:\n",
    "        cur_file = cur_dir+\"/\"+file\n",
    "        file_date = os.path.getmtime(cur_file)\n",
    "        if file_date >= ts:\n",
    "            if not os.path.exists(back_up_path+\"/\"+file):\n",
    "                shutil.copy(cur_file, back_up_path+\"/\"+file)\n",
    "                print(file+'이 백업되었습니다', cur.strftime('%Y-%m-%d %H:%M:%S'))\n",
    "\n",
    "    "
   ]
  },
  {
   "cell_type": "code",
   "execution_count": 148,
   "id": "87b33a29-4e81-43ce-8f32-18524c869d23",
   "metadata": {},
   "outputs": [
    {
     "name": "stdout",
     "output_type": "stream",
     "text": [
      "backup_2024628\n"
     ]
    }
   ],
   "source": [
    "cur = datetime.today()\n",
    "cur_year = cur.year\n",
    "cur_mon = cur.month\n",
    "cur_day = cur.day\n",
    "back_up_folder_name = f\"backup_{cur_year}{cur_mon}{cur_day}\" \n",
    "\n",
    "print(back_up_folder_name)"
   ]
  },
  {
   "cell_type": "code",
   "execution_count": 164,
   "id": "5988b635-8625-4fab-8858-4c0687e1fd31",
   "metadata": {},
   "outputs": [
    {
     "data": {
      "text/plain": [
       "datetime.datetime"
      ]
     },
     "execution_count": 164,
     "metadata": {},
     "output_type": "execute_result"
    }
   ],
   "source": [
    "type(datetime(year=cur_year, month=cur_mon, day=cur_day, hour=10, minute=0, second=0).timestamp())\n",
    "type(file_date)"
   ]
  },
  {
   "cell_type": "code",
   "execution_count": 200,
   "id": "bc734704-0787-4c93-83f5-901c6b45fd06",
   "metadata": {},
   "outputs": [
    {
     "data": {
      "text/plain": [
       "'backup_20240628'"
      ]
     },
     "execution_count": 200,
     "metadata": {},
     "output_type": "execute_result"
    }
   ],
   "source": [
    "type(cur)\n",
    "back_up_folder_name = f'backup_{cur_year}' + '{:0>2}'.format(cur_mon) + f'{cur_day}'  \n",
    "back_up_folder_name"
   ]
  },
  {
   "cell_type": "code",
   "execution_count": 225,
   "id": "16e2d476-9d12-4612-9f62-a4c83ebb9c78",
   "metadata": {},
   "outputs": [],
   "source": [
    "# 강사님 코드\n",
    "\n",
    "search_folder = ['.']\n",
    "d = datetime.now()\n",
    "time_10 = datetime(year=cur_year, month=cur_mon, day=cur_day, hour=10, minute=0, second=0).timestamp()  # 오늘 10시\n",
    "\n",
    "for folder in search_folder:\n",
    "    for cur_dir, dirs, files in os.walk(folder):\n",
    "\n",
    "        # 백업폴더 패스\n",
    "        # 백업폴더가 현재 폴더에 있다면 중복묹 발생\n",
    "        if cur_dir.endswith(back_up_folder_name):\n",
    "            continue\n",
    "        \n",
    "        for fname in files:\n",
    "            fpath = os.path.join(cur_dir, fname)\n",
    "            mtime = os.path.getmtime(fpath)\n",
    "\n",
    "            if mtime > time_10:\n",
    "                # shutil.copy(fpath, f'D:/{backup_folder}')\\  # 시간을 비교해서 10시 이후에 변경되었다면 복사해줘라\n",
    "                pass"
   ]
  },
  {
   "cell_type": "markdown",
   "id": "d503c55c-0eb9-4f98-802b-869754617746",
   "metadata": {},
   "source": [
    "### 특정 문자열이 포함된 파일 찾기\\"
   ]
  },
  {
   "cell_type": "code",
   "execution_count": 238,
   "id": "6207fb65-d645-4731-b3cb-b7663f685096",
   "metadata": {},
   "outputs": [
    {
     "name": "stdout",
     "output_type": "stream",
     "text": [
      ".\\2024-06-24.ipynb false\n",
      ".\\2024-06-25.ipynb false\n",
      ".\\2024-06-26.ipynb false\n",
      ".\\2024-06-27.ipynb false\n",
      ".\\2024-06-28.ipynb true\n",
      ".\\aa.txt true\n",
      ".\\movie_review.csv false\n",
      ".\\.ipynb_checkpoints\\2024-06-24-checkpoint.ipynb false\n",
      ".\\.ipynb_checkpoints\\2024-06-25-checkpoint.ipynb false\n",
      ".\\.ipynb_checkpoints\\2024-06-26-checkpoint.ipynb false\n",
      ".\\.ipynb_checkpoints\\2024-06-27-checkpoint.ipynb false\n",
      ".\\.ipynb_checkpoints\\2024-06-28-checkpoint.ipynb true\n",
      ".\\backup_20240628\\2024-06-28-checkpoint.ipynb false\n",
      ".\\backup_20240628\\2024-06-28.ipynb false\n",
      ".\\backup_20240628\\aa.txt true\n",
      ".\\backup_20240628\\abc_000.txt false\n",
      ".\\backup_20240628\\abc_001.txt false\n",
      ".\\backup_20240628\\abc_002.txt false\n",
      ".\\backup_20240628\\abc_003.txt false\n",
      ".\\backup_20240628\\abc_004.txt false\n",
      ".\\backup_20240628\\abc_005.txt false\n",
      ".\\backup_20240628\\abc_006.txt false\n",
      ".\\backup_20240628\\abc_007.txt false\n",
      ".\\backup_20240628\\abc_008.txt false\n",
      ".\\backup_20240628\\abc_009.txt false\n",
      ".\\backup_20240628\\abc_010.txt false\n",
      ".\\backup_20240628\\abc_011.txt false\n",
      ".\\backup_20240628\\abc_012.txt false\n",
      ".\\backup_20240628\\abc_013.txt false\n",
      ".\\backup_20240628\\abc_014.txt false\n",
      ".\\backup_20240628\\abc_015.txt false\n",
      ".\\backup_20240628\\abc_016.txt false\n",
      ".\\backup_20240628\\abc_017.txt false\n",
      ".\\backup_20240628\\abc_018.txt false\n",
      ".\\backup_20240628\\abc_019.txt false\n",
      ".\\test\\abc_000.txt false\n",
      ".\\test\\abc_001.txt false\n",
      ".\\test\\abc_002.txt false\n",
      ".\\test\\abc_003.txt false\n",
      ".\\test\\abc_004.txt false\n",
      ".\\test\\abc_005.txt false\n",
      ".\\test\\abc_006.txt false\n",
      ".\\test\\abc_007.txt false\n",
      ".\\test\\abc_008.txt false\n",
      ".\\test\\abc_009.txt false\n",
      ".\\test\\abc_010.txt false\n",
      ".\\test\\abc_011.txt false\n",
      ".\\test\\abc_012.txt false\n",
      ".\\test\\abc_013.txt false\n",
      ".\\test\\abc_014.txt false\n",
      ".\\test\\abc_015.txt false\n",
      ".\\test\\abc_016.txt false\n",
      ".\\test\\abc_017.txt false\n",
      ".\\test\\abc_018.txt false\n",
      ".\\test\\abc_019.txt false\n"
     ]
    }
   ],
   "source": [
    "search_str = 'money'\n",
    "search_folder = ['.']\n",
    "\n",
    "target_folder = 'target'\n",
    "\n",
    "if not os.path.exists(target_folder):\n",
    "    os.mkdir(target_folder)\n",
    "\n",
    "for folder in search_folder:\n",
    "    for cur_dir, dirs, files in os.walk(folder):\n",
    "\n",
    "        for fname in files:\n",
    "            fpath = os.path.join(cur_dir, fname)\n",
    "            \n",
    "            with open(fpath, 'r', encoding='utf-8') as f:\n",
    "                if search_str in f.read():\n",
    "                    print(fpath, \"true\")  # 찾았으니 복사 코드를 넣어주면 된다\n",
    "                else:\n",
    "                    print(fpath, \"false\")  # 아니면 넘어가자\n"
   ]
  },
  {
   "cell_type": "code",
   "execution_count": null,
   "id": "a69ed57c-7777-43c0-b6a3-89dfa1a40c75",
   "metadata": {},
   "outputs": [],
   "source": []
  }
 ],
 "metadata": {
  "kernelspec": {
   "display_name": "Python 3 (ipykernel)",
   "language": "python",
   "name": "python3"
  },
  "language_info": {
   "codemirror_mode": {
    "name": "ipython",
    "version": 3
   },
   "file_extension": ".py",
   "mimetype": "text/x-python",
   "name": "python",
   "nbconvert_exporter": "python",
   "pygments_lexer": "ipython3",
   "version": "3.11.7"
  },
  "widgets": {
   "application/vnd.jupyter.widget-state+json": {
    "state": {},
    "version_major": 2,
    "version_minor": 0
   }
  }
 },
 "nbformat": 4,
 "nbformat_minor": 5
}
