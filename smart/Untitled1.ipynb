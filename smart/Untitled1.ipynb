{
 "cells": [
  {
   "cell_type": "code",
   "execution_count": 2,
   "id": "f7be6351-5356-4730-b7af-8635ae9115b7",
   "metadata": {},
   "outputs": [],
   "source": [
    "import pandas as pd\n",
    "import seaborn as sns\n",
    "import matplotlib.pyplot as plt\n",
    "import ydata_profiling as ypf\n",
    "from random import randint\n",
    "from sklearn.ensemble import RandomForestRegressor as rfr\n",
    "from sklearn.ensemble import StackingRegressor as sr\n",
    "from sklearn.model_selection import train_test_split\n",
    "from sklearn.inspection import PartialDependenceDisplay as pdp\n",
    "from pandas_profiling import ProfileReport\n",
    "from sklearn.preprocessing import RobustScaler\n",
    "from sklearn.metrics import mean_squared_error, r2_score\n",
    "from xgboost import XGBRegressor as xg\n",
    "from lightgbm import LGBMRegressor as lg\n",
    "from catboost import CatBoostRegressor as cb\n",
    "from sklearn.linear_model import LinearRegression as lr"
   ]
  },
  {
   "cell_type": "markdown",
   "id": "1628fe4c-bc6d-44d1-afc3-991c2f4a2c77",
   "metadata": {},
   "source": [
    "#### XGBoost\n",
    "- 일반인 그룹이 만듧 ->> 프리 라이센스\n",
    "- LightGBM, CatBoost 대비 ref가 많다\n",
    "- 내부적으로 병렬연산이 가능하게 부스팅 구조를 개선 -> 혁명적인 속도!\n",
    "- 일반화 train과 test 점수가 유사함을 의미\n",
    "- Regularizer는 L1과 L2가 있음\n",
    "- 선형회귀에서는 L1을 반영했을 때, Lasso Regression, L2는 Ridge Regression\n",
    "- L1 + L2 인 경우에는 ElastricNet이라 함\n",
    "- L1은 feature selection과 유사하게 동작함\n",
    "- L2는 알고리즘 내부에서 feature 사용 비중을 고르게 분산시킴(다양한 관점 고려)\n",
    "- 수식적으로 절대값이 있으면 L1, 제곱이 있으면 L2"
   ]
  },
  {
   "cell_type": "markdown",
   "id": "9a68ac5d-1a51-4a38-b68d-d437ae5b840a",
   "metadata": {},
   "source": [
    "#### LightGBM\n",
    "- XGBoost의 경량화 버전으로 소곧가 XGBoost대비 빠름\n",
    "- 마이크로소프트 제작\n",
    "- "
   ]
  },
  {
   "cell_type": "markdown",
   "id": "3c64f008-9c35-441d-baea-40d24ec76896",
   "metadata": {},
   "source": [
    "#### CatBoost\n",
    "- Categorical Feature 처리에 특화된 XGBoost 개섢판\n",
    "- 속도가 느리지만 디폴트 설정이 잘 되어있는 편\n",
    "- Yandex"
   ]
  },
  {
   "cell_type": "code",
   "execution_count": 3,
   "id": "add89756-2a90-4ab5-8877-a088223445dc",
   "metadata": {},
   "outputs": [
    {
     "name": "stdout",
     "output_type": "stream",
     "text": [
      "Collecting bayesian-optimization\n",
      "  Using cached bayesian_optimization-1.5.1-py3-none-any.whl.metadata (16 kB)\n",
      "Requirement already satisfied: colorama<0.5.0,>=0.4.6 in c:\\users\\405-11\\anaconda3\\lib\\site-packages (from bayesian-optimization) (0.4.6)\n",
      "Requirement already satisfied: numpy>=1.25 in c:\\users\\405-11\\anaconda3\\lib\\site-packages (from bayesian-optimization) (1.26.4)\n",
      "Requirement already satisfied: scikit-learn<2.0.0,>=1.0.0 in c:\\users\\405-11\\anaconda3\\lib\\site-packages (from bayesian-optimization) (1.4.2)\n",
      "Requirement already satisfied: scipy<2.0.0,>=1.0.0 in c:\\users\\405-11\\anaconda3\\lib\\site-packages (from bayesian-optimization) (1.13.1)\n",
      "Requirement already satisfied: joblib>=1.2.0 in c:\\users\\405-11\\anaconda3\\lib\\site-packages (from scikit-learn<2.0.0,>=1.0.0->bayesian-optimization) (1.4.2)\n",
      "Requirement already satisfied: threadpoolctl>=2.0.0 in c:\\users\\405-11\\anaconda3\\lib\\site-packages (from scikit-learn<2.0.0,>=1.0.0->bayesian-optimization) (2.2.0)\n",
      "Using cached bayesian_optimization-1.5.1-py3-none-any.whl (28 kB)\n",
      "Installing collected packages: bayesian-optimization\n",
      "Successfully installed bayesian-optimization-1.5.1\n",
      "Note: you may need to restart the kernel to use updated packages.\n"
     ]
    }
   ],
   "source": [
    "pip install bayesian-optimization\n"
   ]
  },
  {
   "cell_type": "code",
   "execution_count": null,
   "id": "252d7339-b2da-4135-af2f-ccd9addb3980",
   "metadata": {},
   "outputs": [],
   "source": []
  }
 ],
 "metadata": {
  "kernelspec": {
   "display_name": "Python 3 (ipykernel)",
   "language": "python",
   "name": "python3"
  },
  "language_info": {
   "codemirror_mode": {
    "name": "ipython",
    "version": 3
   },
   "file_extension": ".py",
   "mimetype": "text/x-python",
   "name": "python",
   "nbconvert_exporter": "python",
   "pygments_lexer": "ipython3",
   "version": "3.12.4"
  }
 },
 "nbformat": 4,
 "nbformat_minor": 5
}
